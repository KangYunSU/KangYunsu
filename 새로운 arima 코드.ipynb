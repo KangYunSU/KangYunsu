{
 "cells": [
  {
   "cell_type": "code",
   "execution_count": 47,
   "metadata": {},
   "outputs": [],
   "source": [
    "import pandas as pd\n",
    "import matplotlib.pyplot as plt\n",
    "import numpy as np\n",
    "from pmdarima.arima import ndiffs\n",
    "import pmdarima as pm\n",
    "from sklearn.metrics import mean_squared_error"
   ]
  },
  {
   "cell_type": "code",
   "execution_count": 78,
   "metadata": {},
   "outputs": [
    {
     "data": {
      "text/html": [
       "<div>\n",
       "<style scoped>\n",
       "    .dataframe tbody tr th:only-of-type {\n",
       "        vertical-align: middle;\n",
       "    }\n",
       "\n",
       "    .dataframe tbody tr th {\n",
       "        vertical-align: top;\n",
       "    }\n",
       "\n",
       "    .dataframe thead th {\n",
       "        text-align: right;\n",
       "    }\n",
       "</style>\n",
       "<table border=\"1\" class=\"dataframe\">\n",
       "  <thead>\n",
       "    <tr style=\"text-align: right;\">\n",
       "      <th></th>\n",
       "      <th>price</th>\n",
       "      <th>전체_temp</th>\n",
       "      <th>전체_hum</th>\n",
       "    </tr>\n",
       "    <tr>\n",
       "      <th>date</th>\n",
       "      <th></th>\n",
       "      <th></th>\n",
       "      <th></th>\n",
       "    </tr>\n",
       "  </thead>\n",
       "  <tbody>\n",
       "    <tr>\n",
       "      <th>2021-12-27</th>\n",
       "      <td>48002138</td>\n",
       "      <td>-4.032632</td>\n",
       "      <td>59.958947</td>\n",
       "    </tr>\n",
       "    <tr>\n",
       "      <th>2021-12-28</th>\n",
       "      <td>38070210</td>\n",
       "      <td>0.408421</td>\n",
       "      <td>69.070526</td>\n",
       "    </tr>\n",
       "    <tr>\n",
       "      <th>2021-12-29</th>\n",
       "      <td>52093193</td>\n",
       "      <td>2.966316</td>\n",
       "      <td>66.233684</td>\n",
       "    </tr>\n",
       "    <tr>\n",
       "      <th>2021-12-30</th>\n",
       "      <td>47463341</td>\n",
       "      <td>-0.084211</td>\n",
       "      <td>51.426316</td>\n",
       "    </tr>\n",
       "    <tr>\n",
       "      <th>2021-12-31</th>\n",
       "      <td>66341333</td>\n",
       "      <td>-3.306316</td>\n",
       "      <td>44.310526</td>\n",
       "    </tr>\n",
       "  </tbody>\n",
       "</table>\n",
       "</div>"
      ],
      "text/plain": [
       "               price   전체_temp     전체_hum\n",
       "date                                     \n",
       "2021-12-27  48002138 -4.032632  59.958947\n",
       "2021-12-28  38070210  0.408421  69.070526\n",
       "2021-12-29  52093193  2.966316  66.233684\n",
       "2021-12-30  47463341 -0.084211  51.426316\n",
       "2021-12-31  66341333 -3.306316  44.310526"
      ]
     },
     "execution_count": 78,
     "metadata": {},
     "output_type": "execute_result"
    }
   ],
   "source": [
    "# Train 데이터 불러오기 (00년 ~ 21년)\n",
    "# 2021년 Train / 2022년 2022Train\n",
    "\n",
    "data = pd.read_csv('전체.csv', encoding='cp949')\n",
    "# data = data[38:]\n",
    "\n",
    "# data = data.drop(['price'], axis = 1)\n",
    "# data = data.drop(['전체_temp'], axis = 1)\n",
    "# data = data.drop(['전체_hum'], axis = 1)\n",
    "\n",
    "data = data.drop(['강원_temp'], axis = 1)\n",
    "data = data.drop(['경기_temp'], axis = 1)\n",
    "data = data.drop(['경남_temp'], axis = 1)\n",
    "data = data.drop(['경북_temp'], axis = 1)\n",
    "data = data.drop(['광주_temp'], axis = 1)\n",
    "data = data.drop(['대구_temp'], axis = 1)\n",
    "data = data.drop(['대전_temp'], axis = 1)\n",
    "data = data.drop(['부산_temp'], axis = 1)\n",
    "data = data.drop(['서울_temp'], axis = 1)\n",
    "data = data.drop(['세종_temp'], axis = 1)\n",
    "data = data.drop(['울산_temp'], axis = 1)\n",
    "data = data.drop(['충남_temp'], axis = 1)\n",
    "data = data.drop(['충북_temp'], axis = 1)\n",
    "data = data.drop(['전남_temp'], axis = 1)\n",
    "data = data.drop(['전북_temp'], axis = 1)\n",
    "data = data.drop(['제주_temp'], axis = 1)\n",
    "data = data.drop(['인천_temp'], axis = 1)\n",
    "\n",
    "data = data.drop(['강원_hum'], axis = 1)\n",
    "data = data.drop(['경기_hum'], axis = 1)\n",
    "data = data.drop(['경남_hum'], axis = 1)\n",
    "data = data.drop(['경북_hum'], axis = 1)\n",
    "data = data.drop(['광주_hum'], axis = 1)\n",
    "data = data.drop(['대구_hum'], axis = 1)\n",
    "data = data.drop(['대전_hum'], axis = 1)\n",
    "data = data.drop(['부산_hum'], axis = 1)\n",
    "data = data.drop(['서울_hum'], axis = 1)\n",
    "data = data.drop(['세종_hum'], axis = 1)\n",
    "data = data.drop(['울산_hum'], axis = 1)\n",
    "data = data.drop(['충남_hum'], axis = 1)\n",
    "data = data.drop(['충북_hum'], axis = 1)\n",
    "data = data.drop(['전남_hum'], axis = 1)\n",
    "data = data.drop(['전북_hum'], axis = 1)\n",
    "data = data.drop(['제주_hum'], axis = 1)\n",
    "data = data.drop(['인천_hum'], axis = 1)\n",
    "    \n",
    "data = data.set_index('date')\n",
    "data = data.fillna(method='ffill')\n",
    "data.tail()"
   ]
  },
  {
   "cell_type": "code",
   "execution_count": 79,
   "metadata": {},
   "outputs": [
    {
     "data": {
      "text/plain": [
       "<AxesSubplot:xlabel='date'>"
      ]
     },
     "execution_count": 79,
     "metadata": {},
     "output_type": "execute_result"
    },
    {
     "data": {
      "image/png": "[encoded data removed]",
      "text/plain": [
       "<Figure size 432x288 with 1 Axes>"
      ]
     },
     "metadata": {
      "needs_background": "light"
     },
     "output_type": "display_data"
    }
   ],
   "source": [
    "y_train = data['price'][:-31]\n",
    "y_train.plot()"
   ]
  },
  {
   "cell_type": "code",
   "execution_count": 80,
   "metadata": {},
   "outputs": [
    {
     "data": {
      "text/plain": [
       "<AxesSubplot:xlabel='date'>"
      ]
     },
     "execution_count": 80,
     "metadata": {},
     "output_type": "execute_result"
    },
    {
     "data": {
      "image/png": "[encoded data removed]",
      "text/plain": [
       "<Figure size 432x288 with 1 Axes>"
      ]
     },
     "metadata": {
      "needs_background": "light"
     },
     "output_type": "display_data"
    }
   ],
   "source": [
    "y_test = data['price'][-31:]\n",
    "y_test.plot()"
   ]
  },
  {
   "cell_type": "code",
   "execution_count": 81,
   "metadata": {},
   "outputs": [
    {
     "name": "stdout",
     "output_type": "stream",
     "text": [
      "추정된 차수 d = 0\n"
     ]
    }
   ],
   "source": [
    "kpss_diffs = ndiffs(y_train, alpha=0.05, test='kpss', max_d=6)\n",
    "adf_diffs = ndiffs(y_train, alpha=0.05, test='adf', max_d=6)\n",
    "n_diffs = max(adf_diffs, kpss_diffs)\n",
    "\n",
    "print(f\"추정된 차수 d = {n_diffs}\")"
   ]
  },
  {
   "cell_type": "code",
   "execution_count": 82,
   "metadata": {},
   "outputs": [
    {
     "name": "stdout",
     "output_type": "stream",
     "text": [
      "Performing stepwise search to minimize aic\n",
      " ARIMA(0,0,0)(1,0,1)[7] intercept   : AIC=inf, Time=0.33 sec\n",
      " ARIMA(0,0,0)(0,0,0)[7] intercept   : AIC=12206.793, Time=0.01 sec\n",
      " ARIMA(1,0,0)(1,0,0)[7] intercept   : AIC=12165.882, Time=0.16 sec\n",
      " ARIMA(0,0,1)(0,0,1)[7] intercept   : AIC=12167.133, Time=0.05 sec\n",
      " ARIMA(0,0,0)(0,0,0)[7]             : AIC=12945.445, Time=0.00 sec\n",
      " ARIMA(1,0,0)(0,0,0)[7] intercept   : AIC=12178.766, Time=0.02 sec\n",
      " ARIMA(1,0,0)(2,0,0)[7] intercept   : AIC=12163.658, Time=0.64 sec\n",
      " ARIMA(1,0,0)(2,0,1)[7] intercept   : AIC=12155.335, Time=0.96 sec\n",
      " ARIMA(1,0,0)(1,0,1)[7] intercept   : AIC=12165.417, Time=0.57 sec\n",
      " ARIMA(1,0,0)(2,0,2)[7] intercept   : AIC=inf, Time=1.12 sec\n",
      " ARIMA(1,0,0)(1,0,2)[7] intercept   : AIC=inf, Time=1.06 sec\n",
      " ARIMA(0,0,0)(2,0,1)[7] intercept   : AIC=12175.540, Time=0.79 sec\n",
      " ARIMA(2,0,0)(2,0,1)[7] intercept   : AIC=12157.670, Time=1.24 sec\n",
      " ARIMA(1,0,1)(2,0,1)[7] intercept   : AIC=12156.607, Time=1.31 sec\n",
      " ARIMA(0,0,1)(2,0,1)[7] intercept   : AIC=12158.455, Time=0.97 sec\n",
      " ARIMA(2,0,1)(2,0,1)[7] intercept   : AIC=inf, Time=1.42 sec\n",
      " ARIMA(1,0,0)(2,0,1)[7]             : AIC=12189.366, Time=0.41 sec\n",
      "\n",
      "Best model:  ARIMA(1,0,0)(2,0,1)[7] intercept\n",
      "Total fit time: 11.076 seconds\n"
     ]
    }
   ],
   "source": [
    "model = pm.auto_arima(y = y_train        # 데이터\n",
    "                      , d = 0            # 차분 차수, ndiffs 결과!\n",
    "                      , start_p = 0 \n",
    "                      , max_p = 3   \n",
    "                      , start_q = 0 \n",
    "                      , max_q = 3   \n",
    "                      , m = 7       \n",
    "                      , seasonal = True # 계절성 ARIMA가 아니라면 필수!\n",
    "                      , stepwise = True\n",
    "                      , trace=True\n",
    "                      )"
   ]
  },
  {
   "cell_type": "code",
   "execution_count": 83,
   "metadata": {},
   "outputs": [
    {
     "name": "stdout",
     "output_type": "stream",
     "text": [
      "Performing stepwise search to minimize aic\n",
      " ARIMA(2,0,2)(0,0,0)[0] intercept   : AIC=inf, Time=0.34 sec\n",
      " ARIMA(0,0,0)(0,0,0)[0] intercept   : AIC=12206.793, Time=0.01 sec\n",
      " ARIMA(1,0,0)(0,0,0)[0] intercept   : AIC=12178.766, Time=0.02 sec\n",
      " ARIMA(0,0,1)(0,0,0)[0] intercept   : AIC=12181.723, Time=0.02 sec\n",
      " ARIMA(0,0,0)(0,0,0)[0]             : AIC=12945.445, Time=0.00 sec\n",
      " ARIMA(2,0,0)(0,0,0)[0] intercept   : AIC=12180.520, Time=0.04 sec\n",
      " ARIMA(1,0,1)(0,0,0)[0] intercept   : AIC=12180.730, Time=0.04 sec\n",
      " ARIMA(2,0,1)(0,0,0)[0] intercept   : AIC=12182.868, Time=0.09 sec\n",
      " ARIMA(1,0,0)(0,0,0)[0]             : AIC=12311.204, Time=0.01 sec\n",
      "\n",
      "Best model:  ARIMA(1,0,0)(0,0,0)[0] intercept\n",
      "Total fit time: 0.575 seconds\n"
     ]
    },
    {
     "data": {
      "text/html": [
       "<style>#sk-container-id-6 {color: black;background-color: white;}#sk-container-id-6 pre{padding: 0;}#sk-container-id-6 div.sk-toggleable {background-color: white;}#sk-container-id-6 label.sk-toggleable__label {cursor: pointer;display: block;width: 100%;margin-bottom: 0;padding: 0.3em;box-sizing: border-box;text-align: center;}#sk-container-id-6 label.sk-toggleable__label-arrow:before {content: \"▸\";float: left;margin-right: 0.25em;color: #696969;}#sk-container-id-6 label.sk-toggleable__label-arrow:hover:before {color: black;}#sk-container-id-6 div.sk-estimator:hover label.sk-toggleable__label-arrow:before {color: black;}#sk-container-id-6 div.sk-toggleable__content {max-height: 0;max-width: 0;overflow: hidden;text-align: left;background-color: #f0f8ff;}#sk-container-id-6 div.sk-toggleable__content pre {margin: 0.2em;color: black;border-radius: 0.25em;background-color: #f0f8ff;}#sk-container-id-6 input.sk-toggleable__control:checked~div.sk-toggleable__content {max-height: 200px;max-width: 100%;overflow: auto;}#sk-container-id-6 input.sk-toggleable__control:checked~label.sk-toggleable__label-arrow:before {content: \"▾\";}#sk-container-id-6 div.sk-estimator input.sk-toggleable__control:checked~label.sk-toggleable__label {background-color: #d4ebff;}#sk-container-id-6 div.sk-label input.sk-toggleable__control:checked~label.sk-toggleable__label {background-color: #d4ebff;}#sk-container-id-6 input.sk-hidden--visually {border: 0;clip: rect(1px 1px 1px 1px);clip: rect(1px, 1px, 1px, 1px);height: 1px;margin: -1px;overflow: hidden;padding: 0;position: absolute;width: 1px;}#sk-container-id-6 div.sk-estimator {font-family: monospace;background-color: #f0f8ff;border: 1px dotted black;border-radius: 0.25em;box-sizing: border-box;margin-bottom: 0.5em;}#sk-container-id-6 div.sk-estimator:hover {background-color: #d4ebff;}#sk-container-id-6 div.sk-parallel-item::after {content: \"\";width: 100%;border-bottom: 1px solid gray;flex-grow: 1;}#sk-container-id-6 div.sk-label:hover label.sk-toggleable__label {background-color: #d4ebff;}#sk-container-id-6 div.sk-serial::before {content: \"\";position: absolute;border-left: 1px solid gray;box-sizing: border-box;top: 0;bottom: 0;left: 50%;z-index: 0;}#sk-container-id-6 div.sk-serial {display: flex;flex-direction: column;align-items: center;background-color: white;padding-right: 0.2em;padding-left: 0.2em;position: relative;}#sk-container-id-6 div.sk-item {position: relative;z-index: 1;}#sk-container-id-6 div.sk-parallel {display: flex;align-items: stretch;justify-content: center;background-color: white;position: relative;}#sk-container-id-6 div.sk-item::before, #sk-container-id-6 div.sk-parallel-item::before {content: \"\";position: absolute;border-left: 1px solid gray;box-sizing: border-box;top: 0;bottom: 0;left: 50%;z-index: -1;}#sk-container-id-6 div.sk-parallel-item {display: flex;flex-direction: column;z-index: 1;position: relative;background-color: white;}#sk-container-id-6 div.sk-parallel-item:first-child::after {align-self: flex-end;width: 50%;}#sk-container-id-6 div.sk-parallel-item:last-child::after {align-self: flex-start;width: 50%;}#sk-container-id-6 div.sk-parallel-item:only-child::after {width: 0;}#sk-container-id-6 div.sk-dashed-wrapped {border: 1px dashed gray;margin: 0 0.4em 0.5em 0.4em;box-sizing: border-box;padding-bottom: 0.4em;background-color: white;}#sk-container-id-6 div.sk-label label {font-family: monospace;font-weight: bold;display: inline-block;line-height: 1.2em;}#sk-container-id-6 div.sk-label-container {text-align: center;}#sk-container-id-6 div.sk-container {/* jupyter's `normalize.less` sets `[hidden] { display: none; }` but bootstrap.min.css set `[hidden] { display: none !important; }` so we also need the `!important` here to be able to override the default hidden behavior on the sphinx rendered scikit-learn.org. See: https://github.com/scikit-learn/scikit-learn/issues/21755 */display: inline-block !important;position: relative;}#sk-container-id-6 div.sk-text-repr-fallback {display: none;}</style><div id=\"sk-container-id-6\" class=\"sk-top-container\"><div class=\"sk-text-repr-fallback\"><pre> ARIMA(1,0,0)(0,0,0)[0] intercept</pre><b>In a Jupyter environment, please rerun this cell to show the HTML representation or trust the notebook. <br />On GitHub, the HTML representation is unable to render, please try loading this page with nbviewer.org.</b></div><div class=\"sk-container\" hidden><div class=\"sk-item\"><div class=\"sk-estimator sk-toggleable\"><input class=\"sk-toggleable__control sk-hidden--visually\" id=\"sk-estimator-id-6\" type=\"checkbox\" checked><label for=\"sk-estimator-id-6\" class=\"sk-toggleable__label sk-toggleable__label-arrow\">ARIMA</label><div class=\"sk-toggleable__content\"><pre> ARIMA(1,0,0)(0,0,0)[0] intercept</pre></div></div></div></div></div>"
      ],
      "text/plain": [
       "ARIMA(order=(1, 0, 0), scoring_args={}, suppress_warnings=True)"
      ]
     },
     "execution_count": 83,
     "metadata": {},
     "output_type": "execute_result"
    }
   ],
   "source": [
    "model = pm.auto_arima (y_train, d = 0, seasonal = True, trace = True)\n",
    "model.fit(y_train)"
   ]
  },
  {
   "cell_type": "code",
   "execution_count": 84,
   "metadata": {},
   "outputs": [
    {
     "name": "stdout",
     "output_type": "stream",
     "text": [
      "                               SARIMAX Results                                \n",
      "==============================================================================\n",
      "Dep. Variable:                      y   No. Observations:                  334\n",
      "Model:               SARIMAX(1, 0, 0)   Log Likelihood               -6086.383\n",
      "Date:                Tue, 02 Aug 2022   AIC                          12178.766\n",
      "Time:                        15:50:24   BIC                          12190.199\n",
      "Sample:                             0   HQIC                         12183.324\n",
      "                                - 334                                         \n",
      "Covariance Type:                  opg                                         \n",
      "==============================================================================\n",
      "                 coef    std err          z      P>|z|      [0.025      0.975]\n",
      "------------------------------------------------------------------------------\n",
      "intercept   4.205e+07   2.11e-10   1.99e+17      0.000     4.2e+07     4.2e+07\n",
      "ar.L1          0.2922      0.016     18.686      0.000       0.262       0.323\n",
      "sigma2       3.94e+14   6.52e-18   6.04e+31      0.000    3.94e+14    3.94e+14\n",
      "===================================================================================\n",
      "Ljung-Box (L1) (Q):                   0.03   Jarque-Bera (JB):               154.68\n",
      "Prob(Q):                              0.87   Prob(JB):                         0.00\n",
      "Heteroskedasticity (H):               1.54   Skew:                             1.28\n",
      "Prob(H) (two-sided):                  0.02   Kurtosis:                         5.14\n",
      "===================================================================================\n",
      "\n",
      "Warnings:\n",
      "[1] Covariance matrix calculated using the outer product of gradients (complex-step).\n",
      "[2] Covariance matrix is singular or near-singular, with condition number 4.57e+46. Standard errors may be unstable.\n"
     ]
    }
   ],
   "source": [
    "print(model.summary())"
   ]
  },
  {
   "cell_type": "code",
   "execution_count": 85,
   "metadata": {},
   "outputs": [
    {
     "data": {
      "image/png": "[encoded data removed]",
      "text/plain": [
       "<Figure size 1152x576 with 4 Axes>"
      ]
     },
     "metadata": {
      "needs_background": "light"
     },
     "output_type": "display_data"
    }
   ],
   "source": [
    "model.plot_diagnostics(figsize=(16, 8))\n",
    "plt.show()"
   ]
  },
  {
   "cell_type": "code",
   "execution_count": 86,
   "metadata": {},
   "outputs": [
    {
     "data": {
      "image/png": "[encoded data removed]",
      "text/plain": [
       "<Figure size 864x288 with 1 Axes>"
      ]
     },
     "metadata": {
      "needs_background": "light"
     },
     "output_type": "display_data"
    }
   ],
   "source": [
    "y_predict = model.predict(n_periods=len(y_test)) \n",
    "y_predict = pd.DataFrame(y_predict,index = y_test.index,columns=['Prediction'])\n",
    "\n",
    "# 그래프\n",
    "fig, axes = plt.subplots(1, 1, figsize=(12, 4))\n",
    "plt.plot(y_train, label='Train')        # 훈련 데이터\n",
    "plt.plot(y_test, label='Test')          # 테스트 데이터\n",
    "plt.plot(y_predict, label='Prediction')  # 예측 데이터\n",
    "plt.legend()\n",
    "plt.show()"
   ]
  },
  {
   "cell_type": "code",
   "execution_count": 87,
   "metadata": {},
   "outputs": [],
   "source": [
    "def forecast_one_step():\n",
    "    fc, conf_int = model.predict(n_periods=1 # 한 스텝씩!\n",
    "        , return_conf_int=True)              # 신뢰구간 출력\n",
    "    return (\n",
    "        fc.tolist()[0],\n",
    "        np.asarray(conf_int).tolist()[0]\n",
    "    )"
   ]
  },
  {
   "cell_type": "code",
   "execution_count": 90,
   "metadata": {},
   "outputs": [],
   "source": [
    "forecasts = []\n",
    "y_pred = []\n",
    "pred_upper = []\n",
    "pred_lower = []\n",
    "\n",
    "for new_ob in y_test:\n",
    "    fc, conf = forecast_one_step()\n",
    "    y_pred.append(fc)\n",
    "    pred_upper.append(conf[1])\n",
    "    pred_lower.append(conf[0])\n",
    "\n",
    "    ## 모형 업데이트 !!\n",
    "    model.update(new_ob)"
   ]
  },
  {
   "cell_type": "code",
   "execution_count": 91,
   "metadata": {},
   "outputs": [
    {
     "data": {
      "text/html": [
       "<div>\n",
       "<style scoped>\n",
       "    .dataframe tbody tr th:only-of-type {\n",
       "        vertical-align: middle;\n",
       "    }\n",
       "\n",
       "    .dataframe tbody tr th {\n",
       "        vertical-align: top;\n",
       "    }\n",
       "\n",
       "    .dataframe thead th {\n",
       "        text-align: right;\n",
       "    }\n",
       "</style>\n",
       "<table border=\"1\" class=\"dataframe\">\n",
       "  <thead>\n",
       "    <tr style=\"text-align: right;\">\n",
       "      <th></th>\n",
       "      <th>test</th>\n",
       "      <th>pred</th>\n",
       "    </tr>\n",
       "    <tr>\n",
       "      <th>date</th>\n",
       "      <th></th>\n",
       "      <th></th>\n",
       "    </tr>\n",
       "  </thead>\n",
       "  <tbody>\n",
       "    <tr>\n",
       "      <th>2021-12-01</th>\n",
       "      <td>77227183</td>\n",
       "      <td>6.106922e+07</td>\n",
       "    </tr>\n",
       "    <tr>\n",
       "      <th>2021-12-02</th>\n",
       "      <td>41526737</td>\n",
       "      <td>6.424889e+07</td>\n",
       "    </tr>\n",
       "    <tr>\n",
       "      <th>2021-12-03</th>\n",
       "      <td>69351467</td>\n",
       "      <td>5.393401e+07</td>\n",
       "    </tr>\n",
       "    <tr>\n",
       "      <th>2021-12-04</th>\n",
       "      <td>51247399</td>\n",
       "      <td>6.193048e+07</td>\n",
       "    </tr>\n",
       "    <tr>\n",
       "      <th>2021-12-05</th>\n",
       "      <td>68906456</td>\n",
       "      <td>5.671325e+07</td>\n",
       "    </tr>\n",
       "    <tr>\n",
       "      <th>2021-12-06</th>\n",
       "      <td>49715939</td>\n",
       "      <td>6.179726e+07</td>\n",
       "    </tr>\n",
       "    <tr>\n",
       "      <th>2021-12-07</th>\n",
       "      <td>35673851</td>\n",
       "      <td>5.626786e+07</td>\n",
       "    </tr>\n",
       "    <tr>\n",
       "      <th>2021-12-08</th>\n",
       "      <td>35659274</td>\n",
       "      <td>5.222572e+07</td>\n",
       "    </tr>\n",
       "    <tr>\n",
       "      <th>2021-12-09</th>\n",
       "      <td>48255147</td>\n",
       "      <td>5.220700e+07</td>\n",
       "    </tr>\n",
       "    <tr>\n",
       "      <th>2021-12-10</th>\n",
       "      <td>56768085</td>\n",
       "      <td>5.579139e+07</td>\n",
       "    </tr>\n",
       "    <tr>\n",
       "      <th>2021-12-11</th>\n",
       "      <td>69334618</td>\n",
       "      <td>5.821889e+07</td>\n",
       "    </tr>\n",
       "    <tr>\n",
       "      <th>2021-12-12</th>\n",
       "      <td>77053697</td>\n",
       "      <td>6.182813e+07</td>\n",
       "    </tr>\n",
       "    <tr>\n",
       "      <th>2021-12-13</th>\n",
       "      <td>57768387</td>\n",
       "      <td>6.408629e+07</td>\n",
       "    </tr>\n",
       "    <tr>\n",
       "      <th>2021-12-14</th>\n",
       "      <td>38486391</td>\n",
       "      <td>5.855077e+07</td>\n",
       "    </tr>\n",
       "    <tr>\n",
       "      <th>2021-12-15</th>\n",
       "      <td>31766615</td>\n",
       "      <td>5.301143e+07</td>\n",
       "    </tr>\n",
       "    <tr>\n",
       "      <th>2021-12-16</th>\n",
       "      <td>46015054</td>\n",
       "      <td>5.107921e+07</td>\n",
       "    </tr>\n",
       "    <tr>\n",
       "      <th>2021-12-17</th>\n",
       "      <td>51296762</td>\n",
       "      <td>5.512580e+07</td>\n",
       "    </tr>\n",
       "    <tr>\n",
       "      <th>2021-12-18</th>\n",
       "      <td>58203621</td>\n",
       "      <td>5.662097e+07</td>\n",
       "    </tr>\n",
       "    <tr>\n",
       "      <th>2021-12-19</th>\n",
       "      <td>54939758</td>\n",
       "      <td>5.858797e+07</td>\n",
       "    </tr>\n",
       "    <tr>\n",
       "      <th>2021-12-20</th>\n",
       "      <td>41869454</td>\n",
       "      <td>5.765118e+07</td>\n",
       "    </tr>\n",
       "    <tr>\n",
       "      <th>2021-12-21</th>\n",
       "      <td>51830618</td>\n",
       "      <td>5.391419e+07</td>\n",
       "    </tr>\n",
       "    <tr>\n",
       "      <th>2021-12-22</th>\n",
       "      <td>48838343</td>\n",
       "      <td>5.673584e+07</td>\n",
       "    </tr>\n",
       "    <tr>\n",
       "      <th>2021-12-23</th>\n",
       "      <td>40257093</td>\n",
       "      <td>5.587321e+07</td>\n",
       "    </tr>\n",
       "    <tr>\n",
       "      <th>2021-12-24</th>\n",
       "      <td>44660225</td>\n",
       "      <td>5.342306e+07</td>\n",
       "    </tr>\n",
       "    <tr>\n",
       "      <th>2021-12-25</th>\n",
       "      <td>71313940</td>\n",
       "      <td>5.465683e+07</td>\n",
       "    </tr>\n",
       "    <tr>\n",
       "      <th>2021-12-26</th>\n",
       "      <td>67554989</td>\n",
       "      <td>6.221859e+07</td>\n",
       "    </tr>\n",
       "    <tr>\n",
       "      <th>2021-12-27</th>\n",
       "      <td>48002138</td>\n",
       "      <td>6.117249e+07</td>\n",
       "    </tr>\n",
       "    <tr>\n",
       "      <th>2021-12-28</th>\n",
       "      <td>38070210</td>\n",
       "      <td>5.560818e+07</td>\n",
       "    </tr>\n",
       "    <tr>\n",
       "      <th>2021-12-29</th>\n",
       "      <td>52093193</td>\n",
       "      <td>5.278080e+07</td>\n",
       "    </tr>\n",
       "    <tr>\n",
       "      <th>2021-12-30</th>\n",
       "      <td>47463341</td>\n",
       "      <td>5.673429e+07</td>\n",
       "    </tr>\n",
       "    <tr>\n",
       "      <th>2021-12-31</th>\n",
       "      <td>66341333</td>\n",
       "      <td>5.541334e+07</td>\n",
       "    </tr>\n",
       "  </tbody>\n",
       "</table>\n",
       "</div>"
      ],
      "text/plain": [
       "                test          pred\n",
       "date                              \n",
       "2021-12-01  77227183  6.106922e+07\n",
       "2021-12-02  41526737  6.424889e+07\n",
       "2021-12-03  69351467  5.393401e+07\n",
       "2021-12-04  51247399  6.193048e+07\n",
       "2021-12-05  68906456  5.671325e+07\n",
       "2021-12-06  49715939  6.179726e+07\n",
       "2021-12-07  35673851  5.626786e+07\n",
       "2021-12-08  35659274  5.222572e+07\n",
       "2021-12-09  48255147  5.220700e+07\n",
       "2021-12-10  56768085  5.579139e+07\n",
       "2021-12-11  69334618  5.821889e+07\n",
       "2021-12-12  77053697  6.182813e+07\n",
       "2021-12-13  57768387  6.408629e+07\n",
       "2021-12-14  38486391  5.855077e+07\n",
       "2021-12-15  31766615  5.301143e+07\n",
       "2021-12-16  46015054  5.107921e+07\n",
       "2021-12-17  51296762  5.512580e+07\n",
       "2021-12-18  58203621  5.662097e+07\n",
       "2021-12-19  54939758  5.858797e+07\n",
       "2021-12-20  41869454  5.765118e+07\n",
       "2021-12-21  51830618  5.391419e+07\n",
       "2021-12-22  48838343  5.673584e+07\n",
       "2021-12-23  40257093  5.587321e+07\n",
       "2021-12-24  44660225  5.342306e+07\n",
       "2021-12-25  71313940  5.465683e+07\n",
       "2021-12-26  67554989  6.221859e+07\n",
       "2021-12-27  48002138  6.117249e+07\n",
       "2021-12-28  38070210  5.560818e+07\n",
       "2021-12-29  52093193  5.278080e+07\n",
       "2021-12-30  47463341  5.673429e+07\n",
       "2021-12-31  66341333  5.541334e+07"
      ]
     },
     "execution_count": 91,
     "metadata": {},
     "output_type": "execute_result"
    }
   ],
   "source": [
    "df = pd.DataFrame({\"test\": y_test, \"pred\": y_pred})\n",
    "df"
   ]
  },
  {
   "cell_type": "code",
   "execution_count": 92,
   "metadata": {},
   "outputs": [
    {
     "name": "stdout",
     "output_type": "stream",
     "text": [
      "                               SARIMAX Results                                \n",
      "==============================================================================\n",
      "Dep. Variable:                      y   No. Observations:                  396\n",
      "Model:               SARIMAX(1, 0, 0)   Log Likelihood               -7198.079\n",
      "Date:                Tue, 02 Aug 2022   AIC                          14402.158\n",
      "Time:                        15:51:10   BIC                          14414.102\n",
      "Sample:                             0   HQIC                         14406.890\n",
      "                                - 396                                         \n",
      "Covariance Type:                  opg                                         \n",
      "==============================================================================\n",
      "                 coef    std err          z      P>|z|      [0.025      0.975]\n",
      "------------------------------------------------------------------------------\n",
      "intercept   4.205e+07   2.09e-10   2.01e+17      0.000     4.2e+07     4.2e+07\n",
      "ar.L1          0.2820      0.015     18.467      0.000       0.252       0.312\n",
      "sigma2       3.94e+14   6.51e-18   6.05e+31      0.000    3.94e+14    3.94e+14\n",
      "===================================================================================\n",
      "Ljung-Box (L1) (Q):                   0.36   Jarque-Bera (JB):               222.57\n",
      "Prob(Q):                              0.55   Prob(JB):                         0.00\n",
      "Heteroskedasticity (H):               0.80   Skew:                             1.33\n",
      "Prob(H) (two-sided):                  0.20   Kurtosis:                         5.52\n",
      "===================================================================================\n",
      "\n",
      "Warnings:\n",
      "[1] Covariance matrix calculated using the outer product of gradients (complex-step).\n",
      "[2] Covariance matrix is singular or near-singular, with condition number    inf. Standard errors may be unstable.\n"
     ]
    }
   ],
   "source": [
    "print(model.summary())"
   ]
  },
  {
   "cell_type": "code",
   "execution_count": 93,
   "metadata": {},
   "outputs": [
    {
     "data": {
      "application/vnd.plotly.v1+json": {
       "config": {
        "plotlyServerURL": "https://plot.ly"
       },
       "data": [
        {
         "line": {
          "color": "royalblue"
         },
         "mode": "lines",
         "name": "Train",
         "type": "scatter",
         "x": [
          "2021-01-01",
          "2021-01-02",
          "2021-01-03",
          "2021-01-04",
          "2021-01-05",
          "2021-01-06",
          "2021-01-07",
          "2021-01-08",
          "2021-01-09",
          "2021-01-10",
          "2021-01-11",
          "2021-01-12",
          "2021-01-13",
          "2021-01-14",
          "2021-01-15",
          "2021-01-16",
          "2021-01-17",
          "2021-01-18",
          "2021-01-19",
          "2021-01-20",
          "2021-01-21",
          "2021-01-22",
          "2021-01-23",
          "2021-01-24",
          "2021-01-25",
          "2021-01-26",
          "2021-01-27",
          "2021-01-28",
          "2021-01-29",
          "2021-01-30",
          "2021-01-31",
          "2021-02-01",
          "2021-02-02",
          "2021-02-03",
          "2021-02-04",
          "2021-02-05",
          "2021-02-06",
          "2021-02-07",
          "2021-02-08",
          "2021-02-09",
          "2021-02-10",
          "2021-02-11",
          "2021-02-12",
          "2021-02-13",
          "2021-02-14",
          "2021-02-15",
          "2021-02-16",
          "2021-02-17",
          "2021-02-18",
          "2021-02-19",
          "2021-02-20",
          "2021-02-21",
          "2021-02-22",
          "2021-02-23",
          "2021-02-24",
          "2021-02-25",
          "2021-02-26",
          "2021-02-27",
          "2021-02-28",
          "2021-03-01",
          "2021-03-02",
          "2021-03-03",
          "2021-03-04",
          "2021-03-05",
          "2021-03-06",
          "2021-03-07",
          "2021-03-08",
          "2021-03-09",
          "2021-03-10",
          "2021-03-11",
          "2021-03-12",
          "2021-03-13",
          "2021-03-14",
          "2021-03-15",
          "2021-03-16",
          "2021-03-17",
          "2021-03-18",
          "2021-03-19",
          "2021-03-20",
          "2021-03-21",
          "2021-03-22",
          "2021-03-23",
          "2021-03-24",
          "2021-03-25",
          "2021-03-26",
          "2021-03-27",
          "2021-03-28",
          "2021-03-29",
          "2021-03-30",
          "2021-03-31",
          "2021-04-01",
          "2021-04-02",
          "2021-04-03",
          "2021-04-04",
          "2021-04-05",
          "2021-04-06",
          "2021-04-07",
          "2021-04-08",
          "2021-04-09",
          "2021-04-10",
          "2021-04-11",
          "2021-04-12",
          "2021-04-13",
          "2021-04-14",
          "2021-04-15",
          "2021-04-16",
          "2021-04-17",
          "2021-04-18",
          "2021-04-19",
          "2021-04-20",
          "2021-04-21",
          "2021-04-22",
          "2021-04-23",
          "2021-04-24",
          "2021-04-25",
          "2021-04-26",
          "2021-04-27",
          "2021-04-28",
          "2021-04-29",
          "2021-04-30",
          "2021-05-01",
          "2021-05-02",
          "2021-05-03",
          "2021-05-04",
          "2021-05-05",
          "2021-05-06",
          "2021-05-07",
          "2021-05-08",
          "2021-05-09",
          "2021-05-10",
          "2021-05-11",
          "2021-05-12",
          "2021-05-13",
          "2021-05-14",
          "2021-05-15",
          "2021-05-16",
          "2021-05-17",
          "2021-05-18",
          "2021-05-19",
          "2021-05-20",
          "2021-05-21",
          "2021-05-22",
          "2021-05-23",
          "2021-05-24",
          "2021-05-25",
          "2021-05-26",
          "2021-05-27",
          "2021-05-28",
          "2021-05-29",
          "2021-05-30",
          "2021-05-31",
          "2021-06-01",
          "2021-06-02",
          "2021-06-03",
          "2021-06-04",
          "2021-06-05",
          "2021-06-06",
          "2021-06-07",
          "2021-06-08",
          "2021-06-09",
          "2021-06-10",
          "2021-06-11",
          "2021-06-12",
          "2021-06-13",
          "2021-06-14",
          "2021-06-15",
          "2021-06-16",
          "2021-06-17",
          "2021-06-18",
          "2021-06-19",
          "2021-06-20",
          "2021-06-21",
          "2021-06-22",
          "2021-06-23",
          "2021-06-24",
          "2021-06-25",
          "2021-06-26",
          "2021-06-27",
          "2021-06-28",
          "2021-06-29",
          "2021-06-30",
          "2021-07-01",
          "2021-07-02",
          "2021-07-03",
          "2021-07-04",
          "2021-07-05",
          "2021-07-06",
          "2021-07-07",
          "2021-07-08",
          "2021-07-09",
          "2021-07-10",
          "2021-07-11",
          "2021-07-12",
          "2021-07-13",
          "2021-07-14",
          "2021-07-15",
          "2021-07-16",
          "2021-07-17",
          "2021-07-18",
          "2021-07-19",
          "2021-07-20",
          "2021-07-21",
          "2021-07-22",
          "2021-07-23",
          "2021-07-24",
          "2021-07-25",
          "2021-07-26",
          "2021-07-27",
          "2021-07-28",
          "2021-07-29",
          "2021-07-30",
          "2021-07-31",
          "2021-08-01",
          "2021-08-02",
          "2021-08-03",
          "2021-08-04",
          "2021-08-05",
          "2021-08-06",
          "2021-08-07",
          "2021-08-08",
          "2021-08-09",
          "2021-08-10",
          "2021-08-11",
          "2021-08-12",
          "2021-08-13",
          "2021-08-14",
          "2021-08-15",
          "2021-08-16",
          "2021-08-17",
          "2021-08-18",
          "2021-08-19",
          "2021-08-20",
          "2021-08-21",
          "2021-08-22",
          "2021-08-23",
          "2021-08-24",
          "2021-08-25",
          "2021-08-26",
          "2021-08-27",
          "2021-08-28",
          "2021-08-29",
          "2021-08-30",
          "2021-08-31",
          "2021-09-01",
          "2021-09-02",
          "2021-09-03",
          "2021-09-04",
          "2021-09-05",
          "2021-09-06",
          "2021-09-07",
          "2021-09-08",
          "2021-09-09",
          "2021-09-10",
          "2021-09-11",
          "2021-09-12",
          "2021-09-13",
          "2021-09-14",
          "2021-09-15",
          "2021-09-16",
          "2021-09-17",
          "2021-09-18",
          "2021-09-19",
          "2021-09-20",
          "2021-09-21",
          "2021-09-22",
          "2021-09-23",
          "2021-09-24",
          "2021-09-25",
          "2021-09-26",
          "2021-09-27",
          "2021-09-28",
          "2021-09-29",
          "2021-09-30",
          "2021-10-01",
          "2021-10-02",
          "2021-10-03",
          "2021-10-04",
          "2021-10-05",
          "2021-10-06",
          "2021-10-07",
          "2021-10-08",
          "2021-10-09",
          "2021-10-10",
          "2021-10-11",
          "2021-10-12",
          "2021-10-13",
          "2021-10-14",
          "2021-10-15",
          "2021-10-16",
          "2021-10-17",
          "2021-10-18",
          "2021-10-19",
          "2021-10-20",
          "2021-10-21",
          "2021-10-22",
          "2021-10-23",
          "2021-10-24",
          "2021-10-25",
          "2021-10-26",
          "2021-10-27",
          "2021-10-28",
          "2021-10-29",
          "2021-10-30",
          "2021-10-31",
          "2021-11-01",
          "2021-11-02",
          "2021-11-03",
          "2021-11-04",
          "2021-11-05",
          "2021-11-06",
          "2021-11-07",
          "2021-11-08",
          "2021-11-09",
          "2021-11-10",
          "2021-11-11",
          "2021-11-12",
          "2021-11-13",
          "2021-11-14",
          "2021-11-15",
          "2021-11-16",
          "2021-11-17",
          "2021-11-18",
          "2021-11-19",
          "2021-11-20",
          "2021-11-21",
          "2021-11-22",
          "2021-11-23",
          "2021-11-24",
          "2021-11-25",
          "2021-11-26",
          "2021-11-27",
          "2021-11-28",
          "2021-11-29",
          "2021-11-30"
         ],
         "y": [
          39209808,
          62239672,
          57365413,
          95785399,
          37415973,
          44468170,
          39459368,
          56869794,
          72284738,
          49765511,
          36296588,
          57341508,
          57169070,
          37805600,
          43648756,
          66914667,
          57077853,
          42374906,
          36034657,
          46327052,
          35119518,
          44171275,
          76697664,
          42528651,
          41440112,
          45657188,
          44033877,
          35722841,
          54690668,
          54036212,
          67167306,
          101983665,
          49818026,
          59451753,
          42916427,
          54737289,
          73420761,
          52226341,
          45498504,
          37570899,
          67727441,
          34184705,
          18879140,
          54912177,
          48493143,
          48639887,
          44626473,
          47523446,
          32589911,
          60209580,
          104763193,
          55007134,
          36441701,
          37512882,
          40167030,
          44574114,
          37290545,
          65813090,
          51322380,
          58128082,
          49501661,
          50881758,
          58605823,
          61498189,
          76830027,
          53891514,
          61900897,
          44220344,
          36370138,
          38506707,
          61894153,
          55172902,
          69686253,
          60064254,
          60083319,
          42663186,
          79619188,
          57010649,
          85318858,
          59817579,
          30103834,
          53743226,
          43191898,
          44774757,
          53542659,
          82497144,
          54919738,
          37972777,
          47119171,
          44013765,
          52157857,
          86954833,
          66754863,
          52783497,
          60356294,
          62239648,
          44759095,
          34247196,
          85774079,
          57388952,
          67316334,
          52341679,
          35928876,
          58694856,
          41971980,
          51483257,
          72734895,
          106492501,
          54804431,
          42975031,
          43311883,
          52230460,
          64744206,
          92817658,
          67699569,
          67130071,
          47431981,
          48893872,
          54684736,
          59930995,
          95955534,
          133160073,
          74815829,
          58158990,
          113866045,
          44412284,
          113425695,
          84461839,
          89854886,
          49322800,
          53415779,
          45462428,
          43969665,
          62749879,
          74590989,
          141792033,
          71065334,
          49391300,
          77292639,
          64020630,
          61038380,
          72547955,
          65215304,
          51080006,
          54842052,
          45187859,
          53458669,
          40076089,
          55367900,
          55409300,
          52802004,
          76786250,
          45078630,
          51016503,
          93758897,
          126983402,
          133192611,
          60757991,
          39408491,
          46307588,
          38830055,
          101705853,
          71420052,
          66544090,
          41459051,
          43515735,
          59519208,
          58853494,
          74859568,
          75456559,
          89882644,
          51466003,
          57465403,
          50295641,
          47972965,
          70434158,
          82746870,
          74756508,
          41430968,
          42049641,
          43682814,
          98317057,
          116103542,
          94781923,
          84529995,
          63057319,
          40675911,
          44818210,
          55497885,
          71563440,
          68030957,
          72514749,
          48299522,
          42055959,
          61472837,
          38766165,
          53406477,
          58761951,
          51110089,
          46703678,
          37635099,
          38190528,
          38596958,
          53847215,
          59057212,
          54862994,
          44535275,
          62220141,
          39274357,
          30601859,
          57242734,
          37023801,
          76444726,
          122074346,
          36796937,
          45742197,
          36944077,
          66980681,
          69226371,
          79809812,
          52949237,
          42402410,
          40058661,
          50277240,
          93494749,
          98305099,
          83646516,
          94182325,
          40820820,
          41282218,
          35246384,
          83139783,
          113009467,
          48325250,
          54959824,
          54003766,
          42355909,
          61587229,
          64365902,
          87936037,
          63889473,
          61848468,
          49660734,
          85804640,
          43466952,
          80212724,
          92066295,
          99909525,
          95326799,
          40461937,
          67390239,
          40072424,
          94091139,
          79703271,
          71030594,
          56873115,
          81872679,
          47097187,
          37378634,
          57310252,
          63659862,
          42392527,
          21832588,
          22482047,
          57046384,
          50251979,
          69682872,
          56467462,
          52639997,
          48590407,
          34372515,
          45280288,
          36978540,
          133701159,
          59359451,
          73010374,
          67694946,
          42764907,
          38297858,
          40181284,
          50623797,
          50646902,
          40546278,
          43776761,
          36254322,
          48988793,
          50529942,
          51995436,
          67242373,
          67708859,
          62522903,
          65634108,
          51939082,
          95357769,
          61968946,
          59920062,
          78326599,
          53542705,
          42876386,
          59039883,
          47362157,
          94691509,
          54510226,
          53996143,
          72146819,
          39110904,
          40644668,
          50792729,
          136667144,
          89109298,
          103680562,
          43785561,
          50940321,
          61213815,
          65186972,
          61060812,
          58472448,
          67896282,
          64355146,
          42932596,
          43521976,
          42289150,
          61720762,
          78474518,
          55752641,
          58880592,
          56417590,
          41134085,
          40490568,
          49831894,
          69518627,
          66978463,
          52584210,
          70739588
         ]
        },
        {
         "line": {
          "color": "rgba(0,0,30,0.5)"
         },
         "mode": "lines",
         "name": "Test",
         "type": "scatter",
         "x": [
          "2021-12-01",
          "2021-12-02",
          "2021-12-03",
          "2021-12-04",
          "2021-12-05",
          "2021-12-06",
          "2021-12-07",
          "2021-12-08",
          "2021-12-09",
          "2021-12-10",
          "2021-12-11",
          "2021-12-12",
          "2021-12-13",
          "2021-12-14",
          "2021-12-15",
          "2021-12-16",
          "2021-12-17",
          "2021-12-18",
          "2021-12-19",
          "2021-12-20",
          "2021-12-21",
          "2021-12-22",
          "2021-12-23",
          "2021-12-24",
          "2021-12-25",
          "2021-12-26",
          "2021-12-27",
          "2021-12-28",
          "2021-12-29",
          "2021-12-30",
          "2021-12-31"
         ],
         "y": [
          77227183,
          41526737,
          69351467,
          51247399,
          68906456,
          49715939,
          35673851,
          35659274,
          48255147,
          56768085,
          69334618,
          77053697,
          57768387,
          38486391,
          31766615,
          46015054,
          51296762,
          58203621,
          54939758,
          41869454,
          51830618,
          48838343,
          40257093,
          44660225,
          71313940,
          67554989,
          48002138,
          38070210,
          52093193,
          47463341,
          66341333
         ]
        },
        {
         "line": {
          "color": "red",
          "dash": "dot",
          "width": 3
         },
         "mode": "lines",
         "name": "Prediction",
         "type": "scatter",
         "x": [
          "2021-12-01",
          "2021-12-02",
          "2021-12-03",
          "2021-12-04",
          "2021-12-05",
          "2021-12-06",
          "2021-12-07",
          "2021-12-08",
          "2021-12-09",
          "2021-12-10",
          "2021-12-11",
          "2021-12-12",
          "2021-12-13",
          "2021-12-14",
          "2021-12-15",
          "2021-12-16",
          "2021-12-17",
          "2021-12-18",
          "2021-12-19",
          "2021-12-20",
          "2021-12-21",
          "2021-12-22",
          "2021-12-23",
          "2021-12-24",
          "2021-12-25",
          "2021-12-26",
          "2021-12-27",
          "2021-12-28",
          "2021-12-29",
          "2021-12-30",
          "2021-12-31"
         ],
         "y": [
          61069222.18407841,
          64248894.34352738,
          53934009.52353642,
          61930481.48219502,
          56713254.20575689,
          61797264.75374621,
          56267863.46678157,
          52225720.699591324,
          52206995.56608923,
          55791390.47696419,
          58218889.85578664,
          61828134.662058786,
          64086288.558579,
          58550769.730970144,
          53011434.34530865,
          51079205.9008859,
          55125802.81805234,
          56620968.74653082,
          58587968.90953235,
          57651175.76282391,
          53914185.532852076,
          56735843.80910562,
          55873208.765057236,
          53423056.25177563,
          54656830.209841974,
          62218594.97638881,
          61172485.80195002,
          55608175.45679453,
          52780796.11000692,
          56734289.94147587,
          55413337.57753426
         ]
        },
        {
         "fill": "toself",
         "fillcolor": "rgba(0,0,30,0.1)",
         "hoverinfo": "skip",
         "line": {
          "color": "rgba(0,0,0,0)"
         },
         "showlegend": false,
         "type": "scatter",
         "x": [
          "2021-12-01",
          "2021-12-02",
          "2021-12-03",
          "2021-12-04",
          "2021-12-05",
          "2021-12-06",
          "2021-12-07",
          "2021-12-08",
          "2021-12-09",
          "2021-12-10",
          "2021-12-11",
          "2021-12-12",
          "2021-12-13",
          "2021-12-14",
          "2021-12-15",
          "2021-12-16",
          "2021-12-17",
          "2021-12-18",
          "2021-12-19",
          "2021-12-20",
          "2021-12-21",
          "2021-12-22",
          "2021-12-23",
          "2021-12-24",
          "2021-12-25",
          "2021-12-26",
          "2021-12-27",
          "2021-12-28",
          "2021-12-29",
          "2021-12-30",
          "2021-12-31",
          "2021-12-31",
          "2021-12-30",
          "2021-12-29",
          "2021-12-28",
          "2021-12-27",
          "2021-12-26",
          "2021-12-25",
          "2021-12-24",
          "2021-12-23",
          "2021-12-22",
          "2021-12-21",
          "2021-12-20",
          "2021-12-19",
          "2021-12-18",
          "2021-12-17",
          "2021-12-16",
          "2021-12-15",
          "2021-12-14",
          "2021-12-13",
          "2021-12-12",
          "2021-12-11",
          "2021-12-10",
          "2021-12-09",
          "2021-12-08",
          "2021-12-07",
          "2021-12-06",
          "2021-12-05",
          "2021-12-04",
          "2021-12-03",
          "2021-12-02",
          "2021-12-01"
         ],
         "y": [
          99974097.94321394,
          103153770.10266289,
          92838885.28267194,
          100835357.24133053,
          95618129.96489242,
          100702140.51288173,
          95172739.2259171,
          91130596.45872685,
          91111871.32522476,
          94696266.23609972,
          97123765.61492217,
          100733010.42119431,
          102991164.31771451,
          97455645.49010566,
          91916310.10444418,
          89984081.66002142,
          94030678.57718787,
          95525844.50566635,
          97492844.66866788,
          96556051.52195942,
          92819061.2919876,
          95640719.56824115,
          94778084.52419275,
          92327932.01091115,
          93561705.9689775,
          101123470.73552433,
          100077361.56108555,
          94513051.21593004,
          91685671.86914244,
          95639165.70061138,
          94318213.33666977,
          16508461.818398736,
          17829414.182340346,
          13875920.350871399,
          16703299.697659008,
          22267610.0428145,
          23313719.21725329,
          15751954.450706452,
          14518180.492640108,
          16968333.005921714,
          17830968.049970098,
          15009309.773716554,
          18746300.003688388,
          19683093.15039683,
          17716092.9873953,
          16220927.058916815,
          12174330.14175038,
          14106558.586173125,
          19645893.971834622,
          25181412.799443476,
          22923258.902923264,
          19314014.096651115,
          16886514.71782867,
          13302119.806953706,
          13320844.940455802,
          17362987.70764605,
          22892388.99461069,
          17808378.446621366,
          23025605.723059498,
          15029133.7644009,
          25344018.584391855,
          22164346.42494289
         ]
        }
       ],
       "layout": {
        "height": 400,
        "template": {
         "data": {
          "bar": [
           {
            "error_x": {
             "color": "#2a3f5f"
            },
            "error_y": {
             "color": "#2a3f5f"
            },
            "marker": {
             "line": {
              "color": "#E5ECF6",
              "width": 0.5
             },
             "pattern": {
              "fillmode": "overlay",
              "size": 10,
              "solidity": 0.2
             }
            },
            "type": "bar"
           }
          ],
          "barpolar": [
           {
            "marker": {
             "line": {
              "color": "#E5ECF6",
              "width": 0.5
             },
             "pattern": {
              "fillmode": "overlay",
              "size": 10,
              "solidity": 0.2
             }
            },
            "type": "barpolar"
           }
          ],
          "carpet": [
           {
            "aaxis": {
             "endlinecolor": "#2a3f5f",
             "gridcolor": "white",
             "linecolor": "white",
             "minorgridcolor": "white",
             "startlinecolor": "#2a3f5f"
            },
            "baxis": {
             "endlinecolor": "#2a3f5f",
             "gridcolor": "white",
             "linecolor": "white",
             "minorgridcolor": "white",
             "startlinecolor": "#2a3f5f"
            },
            "type": "carpet"
           }
          ],
          "choropleth": [
           {
            "colorbar": {
             "outlinewidth": 0,
             "ticks": ""
            },
            "type": "choropleth"
           }
          ],
          "contour": [
           {
            "colorbar": {
             "outlinewidth": 0,
             "ticks": ""
            },
            "colorscale": [
             [
              0,
              "#0d0887"
             ],
             [
              0.1111111111111111,
              "#46039f"
             ],
             [
              0.2222222222222222,
              "#7201a8"
             ],
             [
              0.3333333333333333,
              "#9c179e"
             ],
             [
              0.4444444444444444,
              "#bd3786"
             ],
             [
              0.5555555555555556,
              "#d8576b"
             ],
             [
              0.6666666666666666,
              "#ed7953"
             ],
             [
              0.7777777777777778,
              "#fb9f3a"
             ],
             [
              0.8888888888888888,
              "#fdca26"
             ],
             [
              1,
              "#f0f921"
             ]
            ],
            "type": "contour"
           }
          ],
          "contourcarpet": [
           {
            "colorbar": {
             "outlinewidth": 0,
             "ticks": ""
            },
            "type": "contourcarpet"
           }
          ],
          "heatmap": [
           {
            "colorbar": {
             "outlinewidth": 0,
             "ticks": ""
            },
            "colorscale": [
             [
              0,
              "#0d0887"
             ],
             [
              0.1111111111111111,
              "#46039f"
             ],
             [
              0.2222222222222222,
              "#7201a8"
             ],
             [
              0.3333333333333333,
              "#9c179e"
             ],
             [
              0.4444444444444444,
              "#bd3786"
             ],
             [
              0.5555555555555556,
              "#d8576b"
             ],
             [
              0.6666666666666666,
              "#ed7953"
             ],
             [
              0.7777777777777778,
              "#fb9f3a"
             ],
             [
              0.8888888888888888,
              "#fdca26"
             ],
             [
              1,
              "#f0f921"
             ]
            ],
            "type": "heatmap"
           }
          ],
          "heatmapgl": [
           {
            "colorbar": {
             "outlinewidth": 0,
             "ticks": ""
            },
            "colorscale": [
             [
              0,
              "#0d0887"
             ],
             [
              0.1111111111111111,
              "#46039f"
             ],
             [
              0.2222222222222222,
              "#7201a8"
             ],
             [
              0.3333333333333333,
              "#9c179e"
             ],
             [
              0.4444444444444444,
              "#bd3786"
             ],
             [
              0.5555555555555556,
              "#d8576b"
             ],
             [
              0.6666666666666666,
              "#ed7953"
             ],
             [
              0.7777777777777778,
              "#fb9f3a"
             ],
             [
              0.8888888888888888,
              "#fdca26"
             ],
             [
              1,
              "#f0f921"
             ]
            ],
            "type": "heatmapgl"
           }
          ],
          "histogram": [
           {
            "marker": {
             "pattern": {
              "fillmode": "overlay",
              "size": 10,
              "solidity": 0.2
             }
            },
            "type": "histogram"
           }
          ],
          "histogram2d": [
           {
            "colorbar": {
             "outlinewidth": 0,
             "ticks": ""
            },
            "colorscale": [
             [
              0,
              "#0d0887"
             ],
             [
              0.1111111111111111,
              "#46039f"
             ],
             [
              0.2222222222222222,
              "#7201a8"
             ],
             [
              0.3333333333333333,
              "#9c179e"
             ],
             [
              0.4444444444444444,
              "#bd3786"
             ],
             [
              0.5555555555555556,
              "#d8576b"
             ],
             [
              0.6666666666666666,
              "#ed7953"
             ],
             [
              0.7777777777777778,
              "#fb9f3a"
             ],
             [
              0.8888888888888888,
              "#fdca26"
             ],
             [
              1,
              "#f0f921"
             ]
            ],
            "type": "histogram2d"
           }
          ],
          "histogram2dcontour": [
           {
            "colorbar": {
             "outlinewidth": 0,
             "ticks": ""
            },
            "colorscale": [
             [
              0,
              "#0d0887"
             ],
             [
              0.1111111111111111,
              "#46039f"
             ],
             [
              0.2222222222222222,
              "#7201a8"
             ],
             [
              0.3333333333333333,
              "#9c179e"
             ],
             [
              0.4444444444444444,
              "#bd3786"
             ],
             [
              0.5555555555555556,
              "#d8576b"
             ],
             [
              0.6666666666666666,
              "#ed7953"
             ],
             [
              0.7777777777777778,
              "#fb9f3a"
             ],
             [
              0.8888888888888888,
              "#fdca26"
             ],
             [
              1,
              "#f0f921"
             ]
            ],
            "type": "histogram2dcontour"
           }
          ],
          "mesh3d": [
           {
            "colorbar": {
             "outlinewidth": 0,
             "ticks": ""
            },
            "type": "mesh3d"
           }
          ],
          "parcoords": [
           {
            "line": {
             "colorbar": {
              "outlinewidth": 0,
              "ticks": ""
             }
            },
            "type": "parcoords"
           }
          ],
          "pie": [
           {
            "automargin": true,
            "type": "pie"
           }
          ],
          "scatter": [
           {
            "fillpattern": {
             "fillmode": "overlay",
             "size": 10,
             "solidity": 0.2
            },
            "type": "scatter"
           }
          ],
          "scatter3d": [
           {
            "line": {
             "colorbar": {
              "outlinewidth": 0,
              "ticks": ""
             }
            },
            "marker": {
             "colorbar": {
              "outlinewidth": 0,
              "ticks": ""
             }
            },
            "type": "scatter3d"
           }
          ],
          "scattercarpet": [
           {
            "marker": {
             "colorbar": {
              "outlinewidth": 0,
              "ticks": ""
             }
            },
            "type": "scattercarpet"
           }
          ],
          "scattergeo": [
           {
            "marker": {
             "colorbar": {
              "outlinewidth": 0,
              "ticks": ""
             }
            },
            "type": "scattergeo"
           }
          ],
          "scattergl": [
           {
            "marker": {
             "colorbar": {
              "outlinewidth": 0,
              "ticks": ""
             }
            },
            "type": "scattergl"
           }
          ],
          "scattermapbox": [
           {
            "marker": {
             "colorbar": {
              "outlinewidth": 0,
              "ticks": ""
             }
            },
            "type": "scattermapbox"
           }
          ],
          "scatterpolar": [
           {
            "marker": {
             "colorbar": {
              "outlinewidth": 0,
              "ticks": ""
             }
            },
            "type": "scatterpolar"
           }
          ],
          "scatterpolargl": [
           {
            "marker": {
             "colorbar": {
              "outlinewidth": 0,
              "ticks": ""
             }
            },
            "type": "scatterpolargl"
           }
          ],
          "scatterternary": [
           {
            "marker": {
             "colorbar": {
              "outlinewidth": 0,
              "ticks": ""
             }
            },
            "type": "scatterternary"
           }
          ],
          "surface": [
           {
            "colorbar": {
             "outlinewidth": 0,
             "ticks": ""
            },
            "colorscale": [
             [
              0,
              "#0d0887"
             ],
             [
              0.1111111111111111,
              "#46039f"
             ],
             [
              0.2222222222222222,
              "#7201a8"
             ],
             [
              0.3333333333333333,
              "#9c179e"
             ],
             [
              0.4444444444444444,
              "#bd3786"
             ],
             [
              0.5555555555555556,
              "#d8576b"
             ],
             [
              0.6666666666666666,
              "#ed7953"
             ],
             [
              0.7777777777777778,
              "#fb9f3a"
             ],
             [
              0.8888888888888888,
              "#fdca26"
             ],
             [
              1,
              "#f0f921"
             ]
            ],
            "type": "surface"
           }
          ],
          "table": [
           {
            "cells": {
             "fill": {
              "color": "#EBF0F8"
             },
             "line": {
              "color": "white"
             }
            },
            "header": {
             "fill": {
              "color": "#C8D4E3"
             },
             "line": {
              "color": "white"
             }
            },
            "type": "table"
           }
          ]
         },
         "layout": {
          "annotationdefaults": {
           "arrowcolor": "#2a3f5f",
           "arrowhead": 0,
           "arrowwidth": 1
          },
          "autotypenumbers": "strict",
          "coloraxis": {
           "colorbar": {
            "outlinewidth": 0,
            "ticks": ""
           }
          },
          "colorscale": {
           "diverging": [
            [
             0,
             "#8e0152"
            ],
            [
             0.1,
             "#c51b7d"
            ],
            [
             0.2,
             "#de77ae"
            ],
            [
             0.3,
             "#f1b6da"
            ],
            [
             0.4,
             "#fde0ef"
            ],
            [
             0.5,
             "#f7f7f7"
            ],
            [
             0.6,
             "#e6f5d0"
            ],
            [
             0.7,
             "#b8e186"
            ],
            [
             0.8,
             "#7fbc41"
            ],
            [
             0.9,
             "#4d9221"
            ],
            [
             1,
             "#276419"
            ]
           ],
           "sequential": [
            [
             0,
             "#0d0887"
            ],
            [
             0.1111111111111111,
             "#46039f"
            ],
            [
             0.2222222222222222,
             "#7201a8"
            ],
            [
             0.3333333333333333,
             "#9c179e"
            ],
            [
             0.4444444444444444,
             "#bd3786"
            ],
            [
             0.5555555555555556,
             "#d8576b"
            ],
            [
             0.6666666666666666,
             "#ed7953"
            ],
            [
             0.7777777777777778,
             "#fb9f3a"
            ],
            [
             0.8888888888888888,
             "#fdca26"
            ],
            [
             1,
             "#f0f921"
            ]
           ],
           "sequentialminus": [
            [
             0,
             "#0d0887"
            ],
            [
             0.1111111111111111,
             "#46039f"
            ],
            [
             0.2222222222222222,
             "#7201a8"
            ],
            [
             0.3333333333333333,
             "#9c179e"
            ],
            [
             0.4444444444444444,
             "#bd3786"
            ],
            [
             0.5555555555555556,
             "#d8576b"
            ],
            [
             0.6666666666666666,
             "#ed7953"
            ],
            [
             0.7777777777777778,
             "#fb9f3a"
            ],
            [
             0.8888888888888888,
             "#fdca26"
            ],
            [
             1,
             "#f0f921"
            ]
           ]
          },
          "colorway": [
           "#636efa",
           "#EF553B",
           "#00cc96",
           "#ab63fa",
           "#FFA15A",
           "#19d3f3",
           "#FF6692",
           "#B6E880",
           "#FF97FF",
           "#FECB52"
          ],
          "font": {
           "color": "#2a3f5f"
          },
          "geo": {
           "bgcolor": "white",
           "lakecolor": "white",
           "landcolor": "#E5ECF6",
           "showlakes": true,
           "showland": true,
           "subunitcolor": "white"
          },
          "hoverlabel": {
           "align": "left"
          },
          "hovermode": "closest",
          "mapbox": {
           "style": "light"
          },
          "paper_bgcolor": "white",
          "plot_bgcolor": "#E5ECF6",
          "polar": {
           "angularaxis": {
            "gridcolor": "white",
            "linecolor": "white",
            "ticks": ""
           },
           "bgcolor": "#E5ECF6",
           "radialaxis": {
            "gridcolor": "white",
            "linecolor": "white",
            "ticks": ""
           }
          },
          "scene": {
           "xaxis": {
            "backgroundcolor": "#E5ECF6",
            "gridcolor": "white",
            "gridwidth": 2,
            "linecolor": "white",
            "showbackground": true,
            "ticks": "",
            "zerolinecolor": "white"
           },
           "yaxis": {
            "backgroundcolor": "#E5ECF6",
            "gridcolor": "white",
            "gridwidth": 2,
            "linecolor": "white",
            "showbackground": true,
            "ticks": "",
            "zerolinecolor": "white"
           },
           "zaxis": {
            "backgroundcolor": "#E5ECF6",
            "gridcolor": "white",
            "gridwidth": 2,
            "linecolor": "white",
            "showbackground": true,
            "ticks": "",
            "zerolinecolor": "white"
           }
          },
          "shapedefaults": {
           "line": {
            "color": "#2a3f5f"
           }
          },
          "ternary": {
           "aaxis": {
            "gridcolor": "white",
            "linecolor": "white",
            "ticks": ""
           },
           "baxis": {
            "gridcolor": "white",
            "linecolor": "white",
            "ticks": ""
           },
           "bgcolor": "#E5ECF6",
           "caxis": {
            "gridcolor": "white",
            "linecolor": "white",
            "ticks": ""
           }
          },
          "title": {
           "x": 0.05
          },
          "xaxis": {
           "automargin": true,
           "gridcolor": "white",
           "linecolor": "white",
           "ticks": "",
           "title": {
            "standoff": 15
           },
           "zerolinecolor": "white",
           "zerolinewidth": 2
          },
          "yaxis": {
           "automargin": true,
           "gridcolor": "white",
           "linecolor": "white",
           "ticks": "",
           "title": {
            "standoff": 15
           },
           "zerolinecolor": "white",
           "zerolinewidth": 2
          }
         }
        },
        "title": {
         "text": "ARIMA(1,0,0)모형"
        },
        "width": 1000
       }
      }
     },
     "metadata": {},
     "output_type": "display_data"
    }
   ],
   "source": [
    "from plotly.subplots import make_subplots\n",
    "import plotly.graph_objects as go\n",
    "\n",
    "fig = go.Figure([\n",
    "    # 훈련 데이터-------------------------------------------------------\n",
    "    go.Scatter(x = y_train.index, y = y_train, name = \"Train\", mode = 'lines'\n",
    "              ,line=dict(color = 'royalblue'))\n",
    "    # 테스트 데이터------------------------------------------------------\n",
    "    , go.Scatter(x = y_test.index, y = y_test, name = \"Test\", mode = 'lines'\n",
    "                ,line = dict(color = 'rgba(0,0,30,0.5)'))\n",
    "    # 예측값-----------------------------------------------------------\n",
    "    , go.Scatter(x = y_test.index, y = y_pred, name = \"Prediction\", mode = 'lines'\n",
    "                     ,line = dict(color = 'red', dash = 'dot', width=3))\n",
    "    \n",
    "    # 신뢰 구간---------------------------------------------------------\n",
    "    , go.Scatter(x = y_test.index.tolist() + y_test.index[::-1].tolist() \n",
    "                ,y = pred_upper + pred_lower[::-1] ## 상위 신뢰 구간 -> 하위 신뢰 구간 역순으로\n",
    "                ,fill='toself'\n",
    "                ,fillcolor='rgba(0,0,30,0.1)'\n",
    "                ,line=dict(color='rgba(0,0,0,0)')\n",
    "                ,hoverinfo=\"skip\"\n",
    "                ,showlegend=False)\n",
    "])\n",
    "\n",
    "fig.update_layout(height=400, width=1000, title_text=\"ARIMA(1,0,0)모형\")\n",
    "fig.show()"
   ]
  },
  {
   "cell_type": "code",
   "execution_count": 94,
   "metadata": {},
   "outputs": [
    {
     "data": {
      "text/plain": [
       "(array([-5.,  0.,  5., 10., 15., 20., 25., 30., 35.]),\n",
       " [Text(-5.0, 0, '2021-12-27'),\n",
       "  Text(0.0, 0, '2021-12-01'),\n",
       "  Text(5.0, 0, '2021-12-06'),\n",
       "  Text(10.0, 0, '2021-12-11'),\n",
       "  Text(15.0, 0, '2021-12-16'),\n",
       "  Text(20.0, 0, '2021-12-21'),\n",
       "  Text(25.0, 0, '2021-12-26'),\n",
       "  Text(30.0, 0, '2021-12-31'),\n",
       "  Text(35.0, 0, '')])"
      ]
     },
     "execution_count": 94,
     "metadata": {},
     "output_type": "execute_result"
    },
    {
     "data": {
      "image/png": "[encoded data removed]",
      "text/plain": [
       "<Figure size 432x288 with 1 Axes>"
      ]
     },
     "metadata": {
      "needs_background": "light"
     },
     "output_type": "display_data"
    }
   ],
   "source": [
    "y_test = data['price'][-31:]\n",
    "y_test.plot()\n",
    "df['pred'].plot()\n",
    "plt.xticks(rotation=45)"
   ]
  },
  {
   "cell_type": "code",
   "execution_count": 95,
   "metadata": {},
   "outputs": [
    {
     "data": {
      "text/plain": [
       "12793075.87840029"
      ]
     },
     "execution_count": 95,
     "metadata": {},
     "output_type": "execute_result"
    }
   ],
   "source": [
    "mse = mean_squared_error(y_test, y_pred)\n",
    "rmse = np.sqrt(mse)\n",
    "rmse\n",
    "\n",
    "# 모형(0, 0, 2)"
   ]
  },
  {
   "cell_type": "code",
   "execution_count": 96,
   "metadata": {},
   "outputs": [
    {
     "data": {
      "text/plain": [
       "-0.03950421126365855"
      ]
     },
     "execution_count": 96,
     "metadata": {},
     "output_type": "execute_result"
    }
   ],
   "source": [
    "from sklearn.metrics import r2_score\n",
    "import math\n",
    "\n",
    "r2_score(y_test, round(df['pred'], 0))"
   ]
  }
 ],
 "metadata": {
  "kernelspec": {
   "display_name": "Python 3.10.4 64-bit",
   "language": "python",
   "name": "python3"
  },
  "language_info": {
   "codemirror_mode": {
    "name": "ipython",
    "version": 3
   },
   "file_extension": ".py",
   "mimetype": "text/x-python",
   "name": "python",
   "nbconvert_exporter": "python",
   "pygments_lexer": "ipython3",
   "version": "3.10.4"
  },
  "orig_nbformat": 4,
  "vscode": {
   "interpreter": {
    "hash": "692ab1185e8155240edb0369457deda8ee1db539fd5653321016181d0ff6acf9"
   }
  }
 },
 "nbformat": 4,
 "nbformat_minor": 2
}
