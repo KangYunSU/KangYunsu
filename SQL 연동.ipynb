{
 "cells": [
  {
   "cell_type": "code",
   "execution_count": 3,
   "metadata": {},
   "outputs": [],
   "source": [
    "import pymysql\n",
    "import pandas as pd\n",
    "from surprise import KNNBasic, SVD, SVDpp, NMF, Reader, Dataset\n",
    "from surprise.model_selection import cross_validate"
   ]
  },
  {
   "cell_type": "code",
   "execution_count": 4,
   "metadata": {},
   "outputs": [
    {
     "name": "stdout",
     "output_type": "stream",
     "text": [
      "         cust cop_c rating\n",
      "0  M000034966   D01   1.00\n",
      "1  M000059535   C01   1.00\n",
      "2  M000136117   D01   1.00\n",
      "3  M000225114   C01   0.10\n",
      "4  M000225114   C02   0.70\n",
      "5  M000225114   D02   0.20\n",
      "6  M000261625   D01   1.00\n",
      "7  M000419293   C01   0.39\n",
      "8  M000419293   C02   0.06\n",
      "9  M000419293   D01   0.33\n"
     ]
    }
   ],
   "source": [
    "con = pymysql.connect(host = '127.0.0.1', user = 'root', password = 'kyjin0413!',\n",
    "                       db = 'lpointsample', charset = 'utf8')\n",
    "cur = con.cursor(pymysql.cursors.DictCursor)\n",
    "cur.execute(\n",
    "    \"with T(cust, total) as(select cust,count(*) as total from 제휴사이용정보_view group by cust order  by cust) SELECT j.cust, j.cop_c, round(count(*) /T.total,2) as rating FROM 제휴사이용정보_view j INNER JOIN T t on j.cust = t.cust GROUP BY j.cust, j.cop_c ORDER BY j.cust;\")\n",
    "result=cur.fetchall()\n",
    "con.commit()\n",
    "con.close()\n",
    "df= pd.DataFrame(result)\n",
    "print(df.head(10))"
   ]
  },
  {
   "cell_type": "code",
   "execution_count": 5,
   "metadata": {},
   "outputs": [],
   "source": [
    "reader = Reader(rating_scale=(0.5,5))"
   ]
  },
  {
   "cell_type": "code",
   "execution_count": 6,
   "metadata": {},
   "outputs": [],
   "source": [
    "dataset = Dataset.load_from_df(df[['cust', 'cop_c', 'rating']], reader = reader)"
   ]
  },
  {
   "cell_type": "code",
   "execution_count": 7,
   "metadata": {},
   "outputs": [],
   "source": [
    "# KNN을 사용\n",
    "model = KNNBasic()\n",
    "cross_validate(model, dataset, measures = ['rmse', 'mse'], cv = 5, n_jobs = 4, verbose = True)"
   ]
  },
  {
   "cell_type": "code",
   "execution_count": null,
   "metadata": {},
   "outputs": [],
   "source": [
    "# SVD\n",
    "model = SVD()\n",
    "cross_validate(model, dataset, measures = ['rmse', 'mse'], cv = 5, n_jobs = 4, verbose = True)"
   ]
  },
  {
   "cell_type": "code",
   "execution_count": null,
   "metadata": {},
   "outputs": [],
   "source": [
    "# NMF\n",
    "model = NMF()\n",
    "cross_validate(model, dataset, measures = ['rmse', 'mse'], cv = 5, n_jobs = 4, verbose = True)\n",
    "\n",
    "# 0 제외"
   ]
  },
  {
   "cell_type": "code",
   "execution_count": null,
   "metadata": {},
   "outputs": [],
   "source": [
    "# 출력하는데 오래 걸림\n",
    "model = SVDpp()\n",
    "cross_validate(model, dataset, measures = ['rmse', 'mse'], cv = 5, n_jobs = 4, verbose = True)"
   ]
  },
  {
   "cell_type": "code",
   "execution_count": null,
   "metadata": {},
   "outputs": [],
   "source": []
  },
  {
   "cell_type": "code",
   "execution_count": null,
   "metadata": {},
   "outputs": [],
   "source": []
  }
 ],
 "metadata": {
  "kernelspec": {
   "display_name": "Python 3.10.4 64-bit",
   "language": "python",
   "name": "python3"
  },
  "language_info": {
   "codemirror_mode": {
    "name": "ipython",
    "version": 3
   },
   "file_extension": ".py",
   "mimetype": "text/x-python",
   "name": "python",
   "nbconvert_exporter": "python",
   "pygments_lexer": "ipython3",
   "version": "3.10.4"
  },
  "orig_nbformat": 4,
  "vscode": {
   "interpreter": {
    "hash": "692ab1185e8155240edb0369457deda8ee1db539fd5653321016181d0ff6acf9"
   }
  }
 },
 "nbformat": 4,
 "nbformat_minor": 2
}
