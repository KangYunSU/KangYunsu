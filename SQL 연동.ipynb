{
 "cells": [
  {
   "cell_type": "code",
   "execution_count": 1,
   "metadata": {},
   "outputs": [],
   "source": [
    "import pymysql\n",
    "import pandas as pd\n",
    "from surprise import KNNBasic, SVD, SVDpp, NMF, Reader, Dataset\n",
    "from surprise.model_selection import cross_validate"
   ]
  },
  {
   "cell_type": "code",
   "execution_count": 2,
   "metadata": {},
   "outputs": [
    {
     "name": "stdout",
     "output_type": "stream",
     "text": [
      "         cust cop_c rating\n",
      "0  M000034966   D01   1.00\n",
      "1  M000059535   C01   1.00\n",
      "2  M000136117   D01   1.00\n",
      "3  M000225114   C01   0.10\n",
      "4  M000225114   C02   0.70\n",
      "5  M000225114   D02   0.20\n",
      "6  M000261625   D01   1.00\n",
      "7  M000419293   C01   0.39\n",
      "8  M000419293   C02   0.06\n",
      "9  M000419293   D01   0.33\n"
     ]
    }
   ],
   "source": [
    "con = pymysql.connect(host = '127.0.0.1', user = 'root', password = 'kyjin0413!',\n",
    "                       db = 'lpointsample', charset = 'utf8')\n",
    "cur = con.cursor(pymysql.cursors.DictCursor)\n",
    "cur.execute(\n",
    "    \"with T(cust, total) as(select cust,count(*) as total from 제휴사이용정보_view group by cust order  by cust) SELECT j.cust, j.cop_c, round(count(*) /T.total,2) as rating FROM 제휴사이용정보_view j INNER JOIN T t on j.cust = t.cust GROUP BY j.cust, j.cop_c ORDER BY j.cust;\")\n",
    "result=cur.fetchall()\n",
    "con.commit()\n",
    "con.close()\n",
    "df= pd.DataFrame(result)\n",
    "print(df.head(10))"
   ]
  },
  {
   "cell_type": "code",
   "execution_count": 16,
   "metadata": {},
   "outputs": [],
   "source": [
    "reader = Reader(rating_scale=(0.1,5))"
   ]
  },
  {
   "cell_type": "code",
   "execution_count": 17,
   "metadata": {},
   "outputs": [],
   "source": [
    "dataset = Dataset.load_from_df(df[['cust', 'cop_c', 'rating']], reader = reader)"
   ]
  },
  {
   "cell_type": "code",
   "execution_count": 13,
   "metadata": {},
   "outputs": [
    {
     "ename": "MemoryError",
     "evalue": "Unable to allocate 2.89 GiB for an array with shape (19699, 19699) and data type float64",
     "output_type": "error",
     "traceback": [
      "\u001b[1;31m---------------------------------------------------------------------------\u001b[0m",
      "\u001b[1;31m_RemoteTraceback\u001b[0m                          Traceback (most recent call last)",
      "\u001b[1;31m_RemoteTraceback\u001b[0m: \n\"\"\"\nTraceback (most recent call last):\n  File \"c:\\Users\\ASIA-08\\AppData\\Local\\Programs\\Python\\Python310\\lib\\site-packages\\joblib\\externals\\loky\\process_executor.py\", line 436, in _process_worker\n    r = call_item()\n  File \"c:\\Users\\ASIA-08\\AppData\\Local\\Programs\\Python\\Python310\\lib\\site-packages\\joblib\\externals\\loky\\process_executor.py\", line 288, in __call__\n    return self.fn(*self.args, **self.kwargs)\n  File \"c:\\Users\\ASIA-08\\AppData\\Local\\Programs\\Python\\Python310\\lib\\site-packages\\joblib\\_parallel_backends.py\", line 595, in __call__\n    return self.func(*args, **kwargs)\n  File \"c:\\Users\\ASIA-08\\AppData\\Local\\Programs\\Python\\Python310\\lib\\site-packages\\joblib\\parallel.py\", line 262, in __call__\n    return [func(*args, **kwargs)\n  File \"c:\\Users\\ASIA-08\\AppData\\Local\\Programs\\Python\\Python310\\lib\\site-packages\\joblib\\parallel.py\", line 262, in <listcomp>\n    return [func(*args, **kwargs)\n  File \"c:\\Users\\ASIA-08\\AppData\\Local\\Programs\\Python\\Python310\\lib\\site-packages\\surprise\\model_selection\\validation.py\", line 166, in fit_and_score\n    algo.fit(trainset)\n  File \"c:\\Users\\ASIA-08\\AppData\\Local\\Programs\\Python\\Python310\\lib\\site-packages\\surprise\\prediction_algorithms\\knns.py\", line 99, in fit\n    self.sim = self.compute_similarities()\n  File \"c:\\Users\\ASIA-08\\AppData\\Local\\Programs\\Python\\Python310\\lib\\site-packages\\surprise\\prediction_algorithms\\algo_base.py\", line 249, in compute_similarities\n    sim = construction_func[name](*args)\n  File \"surprise\\similarities.pyx\", line 147, in surprise.similarities.msd\nnumpy.core._exceptions._ArrayMemoryError: Unable to allocate 2.89 GiB for an array with shape (19699, 19699) and data type float64\n\"\"\"",
      "\nThe above exception was the direct cause of the following exception:\n",
      "\u001b[1;31mMemoryError\u001b[0m                               Traceback (most recent call last)",
      "\u001b[1;32mc:\\Users\\ASIA-08\\Desktop\\Git 1\\KangYunsu-1\\SQL 연동.ipynb 셀 5\u001b[0m in \u001b[0;36m<cell line: 3>\u001b[1;34m()\u001b[0m\n\u001b[0;32m      <a href='vscode-notebook-cell:/c%3A/Users/ASIA-08/Desktop/Git%201/KangYunsu-1/SQL%20%EC%97%B0%EB%8F%99.ipynb#ch0000004?line=0'>1</a>\u001b[0m \u001b[39m# KNN을 사용\u001b[39;00m\n\u001b[0;32m      <a href='vscode-notebook-cell:/c%3A/Users/ASIA-08/Desktop/Git%201/KangYunsu-1/SQL%20%EC%97%B0%EB%8F%99.ipynb#ch0000004?line=1'>2</a>\u001b[0m model \u001b[39m=\u001b[39m KNNBasic()\n\u001b[1;32m----> <a href='vscode-notebook-cell:/c%3A/Users/ASIA-08/Desktop/Git%201/KangYunsu-1/SQL%20%EC%97%B0%EB%8F%99.ipynb#ch0000004?line=2'>3</a>\u001b[0m cross_validate(model, dataset, measures \u001b[39m=\u001b[39;49m [\u001b[39m'\u001b[39;49m\u001b[39mrmse\u001b[39;49m\u001b[39m'\u001b[39;49m, \u001b[39m'\u001b[39;49m\u001b[39mmse\u001b[39;49m\u001b[39m'\u001b[39;49m], cv \u001b[39m=\u001b[39;49m \u001b[39m5\u001b[39;49m, n_jobs \u001b[39m=\u001b[39;49m \u001b[39m4\u001b[39;49m, verbose \u001b[39m=\u001b[39;49m \u001b[39mTrue\u001b[39;49;00m)\n",
      "File \u001b[1;32mc:\\Users\\ASIA-08\\AppData\\Local\\Programs\\Python\\Python310\\lib\\site-packages\\surprise\\model_selection\\validation.py:103\u001b[0m, in \u001b[0;36mcross_validate\u001b[1;34m(algo, data, measures, cv, return_train_measures, n_jobs, pre_dispatch, verbose)\u001b[0m\n\u001b[0;32m     98\u001b[0m cv \u001b[39m=\u001b[39m get_cv(cv)\n\u001b[0;32m    100\u001b[0m delayed_list \u001b[39m=\u001b[39m (delayed(fit_and_score)(algo, trainset, testset, measures,\n\u001b[0;32m    101\u001b[0m                                        return_train_measures)\n\u001b[0;32m    102\u001b[0m                 \u001b[39mfor\u001b[39;00m (trainset, testset) \u001b[39min\u001b[39;00m cv\u001b[39m.\u001b[39msplit(data))\n\u001b[1;32m--> 103\u001b[0m out \u001b[39m=\u001b[39m Parallel(n_jobs\u001b[39m=\u001b[39;49mn_jobs, pre_dispatch\u001b[39m=\u001b[39;49mpre_dispatch)(delayed_list)\n\u001b[0;32m    105\u001b[0m (test_measures_dicts,\n\u001b[0;32m    106\u001b[0m  train_measures_dicts,\n\u001b[0;32m    107\u001b[0m  fit_times,\n\u001b[0;32m    108\u001b[0m  test_times) \u001b[39m=\u001b[39m \u001b[39mzip\u001b[39m(\u001b[39m*\u001b[39mout)\n\u001b[0;32m    110\u001b[0m test_measures \u001b[39m=\u001b[39m \u001b[39mdict\u001b[39m()\n",
      "File \u001b[1;32mc:\\Users\\ASIA-08\\AppData\\Local\\Programs\\Python\\Python310\\lib\\site-packages\\joblib\\parallel.py:1056\u001b[0m, in \u001b[0;36mParallel.__call__\u001b[1;34m(self, iterable)\u001b[0m\n\u001b[0;32m   1053\u001b[0m     \u001b[39mself\u001b[39m\u001b[39m.\u001b[39m_iterating \u001b[39m=\u001b[39m \u001b[39mFalse\u001b[39;00m\n\u001b[0;32m   1055\u001b[0m \u001b[39mwith\u001b[39;00m \u001b[39mself\u001b[39m\u001b[39m.\u001b[39m_backend\u001b[39m.\u001b[39mretrieval_context():\n\u001b[1;32m-> 1056\u001b[0m     \u001b[39mself\u001b[39;49m\u001b[39m.\u001b[39;49mretrieve()\n\u001b[0;32m   1057\u001b[0m \u001b[39m# Make sure that we get a last message telling us we are done\u001b[39;00m\n\u001b[0;32m   1058\u001b[0m elapsed_time \u001b[39m=\u001b[39m time\u001b[39m.\u001b[39mtime() \u001b[39m-\u001b[39m \u001b[39mself\u001b[39m\u001b[39m.\u001b[39m_start_time\n",
      "File \u001b[1;32mc:\\Users\\ASIA-08\\AppData\\Local\\Programs\\Python\\Python310\\lib\\site-packages\\joblib\\parallel.py:935\u001b[0m, in \u001b[0;36mParallel.retrieve\u001b[1;34m(self)\u001b[0m\n\u001b[0;32m    933\u001b[0m \u001b[39mtry\u001b[39;00m:\n\u001b[0;32m    934\u001b[0m     \u001b[39mif\u001b[39;00m \u001b[39mgetattr\u001b[39m(\u001b[39mself\u001b[39m\u001b[39m.\u001b[39m_backend, \u001b[39m'\u001b[39m\u001b[39msupports_timeout\u001b[39m\u001b[39m'\u001b[39m, \u001b[39mFalse\u001b[39;00m):\n\u001b[1;32m--> 935\u001b[0m         \u001b[39mself\u001b[39m\u001b[39m.\u001b[39m_output\u001b[39m.\u001b[39mextend(job\u001b[39m.\u001b[39;49mget(timeout\u001b[39m=\u001b[39;49m\u001b[39mself\u001b[39;49m\u001b[39m.\u001b[39;49mtimeout))\n\u001b[0;32m    936\u001b[0m     \u001b[39melse\u001b[39;00m:\n\u001b[0;32m    937\u001b[0m         \u001b[39mself\u001b[39m\u001b[39m.\u001b[39m_output\u001b[39m.\u001b[39mextend(job\u001b[39m.\u001b[39mget())\n",
      "File \u001b[1;32mc:\\Users\\ASIA-08\\AppData\\Local\\Programs\\Python\\Python310\\lib\\site-packages\\joblib\\_parallel_backends.py:542\u001b[0m, in \u001b[0;36mLokyBackend.wrap_future_result\u001b[1;34m(future, timeout)\u001b[0m\n\u001b[0;32m    539\u001b[0m \u001b[39m\"\"\"Wrapper for Future.result to implement the same behaviour as\u001b[39;00m\n\u001b[0;32m    540\u001b[0m \u001b[39mAsyncResults.get from multiprocessing.\"\"\"\u001b[39;00m\n\u001b[0;32m    541\u001b[0m \u001b[39mtry\u001b[39;00m:\n\u001b[1;32m--> 542\u001b[0m     \u001b[39mreturn\u001b[39;00m future\u001b[39m.\u001b[39;49mresult(timeout\u001b[39m=\u001b[39;49mtimeout)\n\u001b[0;32m    543\u001b[0m \u001b[39mexcept\u001b[39;00m CfTimeoutError \u001b[39mas\u001b[39;00m e:\n\u001b[0;32m    544\u001b[0m     \u001b[39mraise\u001b[39;00m \u001b[39mTimeoutError\u001b[39;00m \u001b[39mfrom\u001b[39;00m \u001b[39me\u001b[39;00m\n",
      "File \u001b[1;32mc:\\Users\\ASIA-08\\AppData\\Local\\Programs\\Python\\Python310\\lib\\concurrent\\futures\\_base.py:439\u001b[0m, in \u001b[0;36mFuture.result\u001b[1;34m(self, timeout)\u001b[0m\n\u001b[0;32m    437\u001b[0m     \u001b[39mraise\u001b[39;00m CancelledError()\n\u001b[0;32m    438\u001b[0m \u001b[39melif\u001b[39;00m \u001b[39mself\u001b[39m\u001b[39m.\u001b[39m_state \u001b[39m==\u001b[39m FINISHED:\n\u001b[1;32m--> 439\u001b[0m     \u001b[39mreturn\u001b[39;00m \u001b[39mself\u001b[39;49m\u001b[39m.\u001b[39;49m__get_result()\n\u001b[0;32m    441\u001b[0m \u001b[39mself\u001b[39m\u001b[39m.\u001b[39m_condition\u001b[39m.\u001b[39mwait(timeout)\n\u001b[0;32m    443\u001b[0m \u001b[39mif\u001b[39;00m \u001b[39mself\u001b[39m\u001b[39m.\u001b[39m_state \u001b[39min\u001b[39;00m [CANCELLED, CANCELLED_AND_NOTIFIED]:\n",
      "File \u001b[1;32mc:\\Users\\ASIA-08\\AppData\\Local\\Programs\\Python\\Python310\\lib\\concurrent\\futures\\_base.py:391\u001b[0m, in \u001b[0;36mFuture.__get_result\u001b[1;34m(self)\u001b[0m\n\u001b[0;32m    389\u001b[0m \u001b[39mif\u001b[39;00m \u001b[39mself\u001b[39m\u001b[39m.\u001b[39m_exception:\n\u001b[0;32m    390\u001b[0m     \u001b[39mtry\u001b[39;00m:\n\u001b[1;32m--> 391\u001b[0m         \u001b[39mraise\u001b[39;00m \u001b[39mself\u001b[39m\u001b[39m.\u001b[39m_exception\n\u001b[0;32m    392\u001b[0m     \u001b[39mfinally\u001b[39;00m:\n\u001b[0;32m    393\u001b[0m         \u001b[39m# Break a reference cycle with the exception in self._exception\u001b[39;00m\n\u001b[0;32m    394\u001b[0m         \u001b[39mself\u001b[39m \u001b[39m=\u001b[39m \u001b[39mNone\u001b[39;00m\n",
      "\u001b[1;31mMemoryError\u001b[0m: Unable to allocate 2.89 GiB for an array with shape (19699, 19699) and data type float64"
     ]
    }
   ],
   "source": [
    "# # KNN을 사용 - 용량 커서 안돌아감\n",
    "# model = KNNBasic()\n",
    "# cross_validate(model, dataset, measures = ['rmse', 'mse'], cv = 5, n_jobs = 4, verbose = True)"
   ]
  },
  {
   "cell_type": "code",
   "execution_count": 18,
   "metadata": {},
   "outputs": [
    {
     "name": "stdout",
     "output_type": "stream",
     "text": [
      "Evaluating RMSE, MSE of algorithm SVD on 5 split(s).\n",
      "\n",
      "                  Fold 1  Fold 2  Fold 3  Fold 4  Fold 5  Mean    Std     \n",
      "RMSE (testset)    0.4070  0.4056  0.4098  0.4041  0.4198  0.4093  0.0056  \n",
      "MSE (testset)     0.1657  0.1645  0.1680  0.1633  0.1762  0.1675  0.0046  \n",
      "Fit time          1.55    1.52    1.52    1.51    1.53    1.53    0.01    \n",
      "Test time         0.04    0.05    0.05    0.05    0.04    0.05    0.00    \n"
     ]
    },
    {
     "data": {
      "text/plain": [
       "{'test_rmse': array([0.40701987, 0.40559216, 0.4098282 , 0.40406499, 0.41977724]),\n",
       " 'test_mse': array([0.16566517, 0.164505  , 0.16795915, 0.16326852, 0.17621293]),\n",
       " 'fit_time': (1.5478625297546387,\n",
       "  1.5239262580871582,\n",
       "  1.5199368000030518,\n",
       "  1.5119585990905762,\n",
       "  1.5269200801849365),\n",
       " 'test_time': (0.04488015174865723,\n",
       "  0.04986691474914551,\n",
       "  0.04986715316772461,\n",
       "  0.046875,\n",
       "  0.040891170501708984)}"
      ]
     },
     "execution_count": 18,
     "metadata": {},
     "output_type": "execute_result"
    }
   ],
   "source": [
    "# SVD\n",
    "model = SVD()\n",
    "cross_validate(model, dataset, measures = ['rmse', 'mse'], cv = 5, n_jobs = 4, verbose = True)"
   ]
  },
  {
   "cell_type": "code",
   "execution_count": 19,
   "metadata": {},
   "outputs": [
    {
     "name": "stdout",
     "output_type": "stream",
     "text": [
      "Evaluating RMSE, MSE of algorithm NMF on 5 split(s).\n",
      "\n",
      "                  Fold 1  Fold 2  Fold 3  Fold 4  Fold 5  Mean    Std     \n",
      "RMSE (testset)    0.3945  0.3966  0.3943  0.3933  0.3961  0.3950  0.0012  \n",
      "MSE (testset)     0.1557  0.1573  0.1555  0.1547  0.1569  0.1560  0.0009  \n",
      "Fit time          2.75    2.57    2.64    2.54    2.27    2.56    0.16    \n",
      "Test time         0.04    0.04    0.05    0.05    0.03    0.04    0.01    \n"
     ]
    },
    {
     "data": {
      "text/plain": [
       "{'test_rmse': array([0.39454412, 0.39655742, 0.39433159, 0.39333933, 0.3961354 ]),\n",
       " 'test_mse': array([0.15566506, 0.15725779, 0.1554974 , 0.15471583, 0.15692325]),\n",
       " 'fit_time': (2.7536396980285645,\n",
       "  2.573122978210449,\n",
       "  2.639944553375244,\n",
       "  2.544201135635376,\n",
       "  2.2669708728790283),\n",
       " 'test_time': (0.03690147399902344,\n",
       "  0.03989720344543457,\n",
       "  0.051863670349121094,\n",
       "  0.05186033248901367,\n",
       "  0.03490447998046875)}"
      ]
     },
     "execution_count": 19,
     "metadata": {},
     "output_type": "execute_result"
    }
   ],
   "source": [
    "# NMF\n",
    "model = NMF()\n",
    "cross_validate(model, dataset, measures = ['rmse', 'mse'], cv = 5, n_jobs = 4, verbose = True)\n",
    "\n",
    "# 0 제외"
   ]
  },
  {
   "cell_type": "code",
   "execution_count": 20,
   "metadata": {},
   "outputs": [
    {
     "name": "stdout",
     "output_type": "stream",
     "text": [
      "Evaluating RMSE, MSE of algorithm SVDpp on 5 split(s).\n",
      "\n",
      "                  Fold 1  Fold 2  Fold 3  Fold 4  Fold 5  Mean    Std     \n",
      "RMSE (testset)    0.3256  0.3282  0.3293  0.3239  0.3262  0.3266  0.0019  \n",
      "MSE (testset)     0.1060  0.1077  0.1085  0.1049  0.1064  0.1067  0.0013  \n",
      "Fit time          3.02    3.04    3.03    2.99    2.61    2.94    0.17    \n",
      "Test time         0.11    0.10    0.10    0.12    0.08    0.10    0.01    \n"
     ]
    },
    {
     "data": {
      "text/plain": [
       "{'test_rmse': array([0.32556922, 0.32819389, 0.32932658, 0.32388778, 0.32616811]),\n",
       " 'test_mse': array([0.10599531, 0.10771123, 0.108456  , 0.10490329, 0.10638564]),\n",
       " 'fit_time': (3.019930362701416,\n",
       "  3.0399067401885986,\n",
       "  3.026926040649414,\n",
       "  2.987046718597412,\n",
       "  2.6050376892089844),\n",
       " 'test_time': (0.10873627662658691,\n",
       "  0.0997312068939209,\n",
       "  0.09971809387207031,\n",
       "  0.11568880081176758,\n",
       "  0.08178162574768066)}"
      ]
     },
     "execution_count": 20,
     "metadata": {},
     "output_type": "execute_result"
    }
   ],
   "source": [
    "# 출력하는데 오래 걸림\n",
    "model = SVDpp()\n",
    "cross_validate(model, dataset, measures = ['rmse', 'mse'], cv = 5, n_jobs = 4, verbose = True)"
   ]
  },
  {
   "cell_type": "markdown",
   "metadata": {},
   "source": [
    "--------------------------------------------------------------------------------------"
   ]
  },
  {
   "cell_type": "code",
   "execution_count": 26,
   "metadata": {},
   "outputs": [],
   "source": [
    "import numpy as np\n",
    "import pandas as pd\n",
    "from pandas import DataFrame\n",
    "from sklearn.decomposition import randomized_svd, non_negative_factorization\n",
    "from surprise import Dataset"
   ]
  },
  {
   "cell_type": "code",
   "execution_count": 28,
   "metadata": {},
   "outputs": [
    {
     "data": {
      "text/plain": [
       "(43235, 3)"
      ]
     },
     "execution_count": 28,
     "metadata": {},
     "output_type": "execute_result"
    }
   ],
   "source": [
    "data= pd.DataFrame(result)\n",
    "data.shape"
   ]
  },
  {
   "cell_type": "code",
   "execution_count": 29,
   "metadata": {},
   "outputs": [
    {
     "data": {
      "text/html": [
       "<div>\n",
       "<style scoped>\n",
       "    .dataframe tbody tr th:only-of-type {\n",
       "        vertical-align: middle;\n",
       "    }\n",
       "\n",
       "    .dataframe tbody tr th {\n",
       "        vertical-align: top;\n",
       "    }\n",
       "\n",
       "    .dataframe thead th {\n",
       "        text-align: right;\n",
       "    }\n",
       "</style>\n",
       "<table border=\"1\" class=\"dataframe\">\n",
       "  <thead>\n",
       "    <tr style=\"text-align: right;\">\n",
       "      <th></th>\n",
       "      <th>cust</th>\n",
       "      <th>cop_c</th>\n",
       "      <th>rating</th>\n",
       "    </tr>\n",
       "  </thead>\n",
       "  <tbody>\n",
       "    <tr>\n",
       "      <th>0</th>\n",
       "      <td>M000034966</td>\n",
       "      <td>D01</td>\n",
       "      <td>1.00</td>\n",
       "    </tr>\n",
       "    <tr>\n",
       "      <th>1</th>\n",
       "      <td>M000059535</td>\n",
       "      <td>C01</td>\n",
       "      <td>1.00</td>\n",
       "    </tr>\n",
       "    <tr>\n",
       "      <th>2</th>\n",
       "      <td>M000136117</td>\n",
       "      <td>D01</td>\n",
       "      <td>1.00</td>\n",
       "    </tr>\n",
       "    <tr>\n",
       "      <th>3</th>\n",
       "      <td>M000225114</td>\n",
       "      <td>C01</td>\n",
       "      <td>0.10</td>\n",
       "    </tr>\n",
       "    <tr>\n",
       "      <th>4</th>\n",
       "      <td>M000225114</td>\n",
       "      <td>C02</td>\n",
       "      <td>0.70</td>\n",
       "    </tr>\n",
       "    <tr>\n",
       "      <th>...</th>\n",
       "      <td>...</td>\n",
       "      <td>...</td>\n",
       "      <td>...</td>\n",
       "    </tr>\n",
       "    <tr>\n",
       "      <th>43230</th>\n",
       "      <td>M999926092</td>\n",
       "      <td>D02</td>\n",
       "      <td>0.57</td>\n",
       "    </tr>\n",
       "    <tr>\n",
       "      <th>43231</th>\n",
       "      <td>M999962961</td>\n",
       "      <td>C01</td>\n",
       "      <td>0.26</td>\n",
       "    </tr>\n",
       "    <tr>\n",
       "      <th>43232</th>\n",
       "      <td>M999962961</td>\n",
       "      <td>C02</td>\n",
       "      <td>0.39</td>\n",
       "    </tr>\n",
       "    <tr>\n",
       "      <th>43233</th>\n",
       "      <td>M999962961</td>\n",
       "      <td>D01</td>\n",
       "      <td>0.26</td>\n",
       "    </tr>\n",
       "    <tr>\n",
       "      <th>43234</th>\n",
       "      <td>M999962961</td>\n",
       "      <td>D02</td>\n",
       "      <td>0.09</td>\n",
       "    </tr>\n",
       "  </tbody>\n",
       "</table>\n",
       "<p>43235 rows × 3 columns</p>\n",
       "</div>"
      ],
      "text/plain": [
       "             cust cop_c rating\n",
       "0      M000034966   D01   1.00\n",
       "1      M000059535   C01   1.00\n",
       "2      M000136117   D01   1.00\n",
       "3      M000225114   C01   0.10\n",
       "4      M000225114   C02   0.70\n",
       "...           ...   ...    ...\n",
       "43230  M999926092   D02   0.57\n",
       "43231  M999962961   C01   0.26\n",
       "43232  M999962961   C02   0.39\n",
       "43233  M999962961   D01   0.26\n",
       "43234  M999962961   D02   0.09\n",
       "\n",
       "[43235 rows x 3 columns]"
      ]
     },
     "execution_count": 29,
     "metadata": {},
     "output_type": "execute_result"
    }
   ],
   "source": [
    "data"
   ]
  },
  {
   "cell_type": "code",
   "execution_count": 30,
   "metadata": {},
   "outputs": [
    {
     "data": {
      "text/html": [
       "<div>\n",
       "<style scoped>\n",
       "    .dataframe tbody tr th:only-of-type {\n",
       "        vertical-align: middle;\n",
       "    }\n",
       "\n",
       "    .dataframe tbody tr th {\n",
       "        vertical-align: top;\n",
       "    }\n",
       "\n",
       "    .dataframe thead th {\n",
       "        text-align: right;\n",
       "    }\n",
       "</style>\n",
       "<table border=\"1\" class=\"dataframe\">\n",
       "  <thead>\n",
       "    <tr style=\"text-align: right;\">\n",
       "      <th>cop_c</th>\n",
       "      <th>B01</th>\n",
       "      <th>C01</th>\n",
       "      <th>C02</th>\n",
       "      <th>D01</th>\n",
       "      <th>D02</th>\n",
       "      <th>E01</th>\n",
       "    </tr>\n",
       "    <tr>\n",
       "      <th>cust</th>\n",
       "      <th></th>\n",
       "      <th></th>\n",
       "      <th></th>\n",
       "      <th></th>\n",
       "      <th></th>\n",
       "      <th></th>\n",
       "    </tr>\n",
       "  </thead>\n",
       "  <tbody>\n",
       "    <tr>\n",
       "      <th>M000034966</th>\n",
       "      <td>NaN</td>\n",
       "      <td>NaN</td>\n",
       "      <td>NaN</td>\n",
       "      <td>1.00</td>\n",
       "      <td>NaN</td>\n",
       "      <td>NaN</td>\n",
       "    </tr>\n",
       "    <tr>\n",
       "      <th>M000059535</th>\n",
       "      <td>NaN</td>\n",
       "      <td>1.00</td>\n",
       "      <td>NaN</td>\n",
       "      <td>NaN</td>\n",
       "      <td>NaN</td>\n",
       "      <td>NaN</td>\n",
       "    </tr>\n",
       "    <tr>\n",
       "      <th>M000136117</th>\n",
       "      <td>NaN</td>\n",
       "      <td>NaN</td>\n",
       "      <td>NaN</td>\n",
       "      <td>1.00</td>\n",
       "      <td>NaN</td>\n",
       "      <td>NaN</td>\n",
       "    </tr>\n",
       "    <tr>\n",
       "      <th>M000225114</th>\n",
       "      <td>NaN</td>\n",
       "      <td>0.10</td>\n",
       "      <td>0.70</td>\n",
       "      <td>NaN</td>\n",
       "      <td>0.20</td>\n",
       "      <td>NaN</td>\n",
       "    </tr>\n",
       "    <tr>\n",
       "      <th>M000261625</th>\n",
       "      <td>NaN</td>\n",
       "      <td>NaN</td>\n",
       "      <td>NaN</td>\n",
       "      <td>1.00</td>\n",
       "      <td>NaN</td>\n",
       "      <td>NaN</td>\n",
       "    </tr>\n",
       "    <tr>\n",
       "      <th>...</th>\n",
       "      <td>...</td>\n",
       "      <td>...</td>\n",
       "      <td>...</td>\n",
       "      <td>...</td>\n",
       "      <td>...</td>\n",
       "      <td>...</td>\n",
       "    </tr>\n",
       "    <tr>\n",
       "      <th>M999708287</th>\n",
       "      <td>NaN</td>\n",
       "      <td>1.00</td>\n",
       "      <td>NaN</td>\n",
       "      <td>NaN</td>\n",
       "      <td>NaN</td>\n",
       "      <td>NaN</td>\n",
       "    </tr>\n",
       "    <tr>\n",
       "      <th>M999770689</th>\n",
       "      <td>0.6</td>\n",
       "      <td>NaN</td>\n",
       "      <td>NaN</td>\n",
       "      <td>0.13</td>\n",
       "      <td>0.27</td>\n",
       "      <td>NaN</td>\n",
       "    </tr>\n",
       "    <tr>\n",
       "      <th>M999849895</th>\n",
       "      <td>NaN</td>\n",
       "      <td>NaN</td>\n",
       "      <td>NaN</td>\n",
       "      <td>1.00</td>\n",
       "      <td>NaN</td>\n",
       "      <td>NaN</td>\n",
       "    </tr>\n",
       "    <tr>\n",
       "      <th>M999926092</th>\n",
       "      <td>NaN</td>\n",
       "      <td>0.14</td>\n",
       "      <td>NaN</td>\n",
       "      <td>0.29</td>\n",
       "      <td>0.57</td>\n",
       "      <td>NaN</td>\n",
       "    </tr>\n",
       "    <tr>\n",
       "      <th>M999962961</th>\n",
       "      <td>NaN</td>\n",
       "      <td>0.26</td>\n",
       "      <td>0.39</td>\n",
       "      <td>0.26</td>\n",
       "      <td>0.09</td>\n",
       "      <td>NaN</td>\n",
       "    </tr>\n",
       "  </tbody>\n",
       "</table>\n",
       "<p>21769 rows × 6 columns</p>\n",
       "</div>"
      ],
      "text/plain": [
       "cop_c       B01   C01   C02   D01   D02  E01\n",
       "cust                                        \n",
       "M000034966  NaN   NaN   NaN  1.00   NaN  NaN\n",
       "M000059535  NaN  1.00   NaN   NaN   NaN  NaN\n",
       "M000136117  NaN   NaN   NaN  1.00   NaN  NaN\n",
       "M000225114  NaN  0.10  0.70   NaN  0.20  NaN\n",
       "M000261625  NaN   NaN   NaN  1.00   NaN  NaN\n",
       "...         ...   ...   ...   ...   ...  ...\n",
       "M999708287  NaN  1.00   NaN   NaN   NaN  NaN\n",
       "M999770689  0.6   NaN   NaN  0.13  0.27  NaN\n",
       "M999849895  NaN   NaN   NaN  1.00   NaN  NaN\n",
       "M999926092  NaN  0.14   NaN  0.29  0.57  NaN\n",
       "M999962961  NaN  0.26  0.39  0.26  0.09  NaN\n",
       "\n",
       "[21769 rows x 6 columns]"
      ]
     },
     "execution_count": 30,
     "metadata": {},
     "output_type": "execute_result"
    }
   ],
   "source": [
    "ratings = data.pivot_table(index = \"cust\", columns = \"cop_c\", values = \"rating\")\n",
    "ratings"
   ]
  },
  {
   "cell_type": "markdown",
   "metadata": {},
   "source": [
    "-------------------------------함수 빌드업------------------------------------"
   ]
  },
  {
   "cell_type": "code",
   "execution_count": 31,
   "metadata": {},
   "outputs": [
    {
     "name": "stdout",
     "output_type": "stream",
     "text": [
      "[nan  4.  3.]\n"
     ]
    }
   ],
   "source": [
    "u = np.array([np.nan, 4, 3])\n",
    "print(u)"
   ]
  },
  {
   "cell_type": "code",
   "execution_count": 32,
   "metadata": {},
   "outputs": [
    {
     "name": "stdout",
     "output_type": "stream",
     "text": [
      "[3 2 4]\n"
     ]
    }
   ],
   "source": [
    "v = np.array([3, 2, 4])\n",
    "print(v)"
   ]
  },
  {
   "cell_type": "code",
   "execution_count": 33,
   "metadata": {},
   "outputs": [
    {
     "data": {
      "text/plain": [
       "array([False,  True,  True])"
      ]
     },
     "execution_count": 33,
     "metadata": {},
     "output_type": "execute_result"
    }
   ],
   "source": [
    "mask = np.isfinite(u)\n",
    "mask"
   ]
  },
  {
   "cell_type": "code",
   "execution_count": 34,
   "metadata": {},
   "outputs": [
    {
     "data": {
      "text/plain": [
       "array([False,  True,  True])"
      ]
     },
     "execution_count": 34,
     "metadata": {},
     "output_type": "execute_result"
    }
   ],
   "source": [
    "mask = np.isfinite(u) & np.isfinite(v)\n",
    "mask"
   ]
  },
  {
   "cell_type": "code",
   "execution_count": 35,
   "metadata": {},
   "outputs": [
    {
     "data": {
      "text/plain": [
       "array([4., 3.])"
      ]
     },
     "execution_count": 35,
     "metadata": {},
     "output_type": "execute_result"
    }
   ],
   "source": [
    "u = u[mask]\n",
    "u"
   ]
  },
  {
   "cell_type": "code",
   "execution_count": 36,
   "metadata": {},
   "outputs": [
    {
     "data": {
      "text/plain": [
       "array([2, 4])"
      ]
     },
     "execution_count": 36,
     "metadata": {},
     "output_type": "execute_result"
    }
   ],
   "source": [
    "v = v[mask]\n",
    "v"
   ]
  },
  {
   "cell_type": "code",
   "execution_count": 39,
   "metadata": {},
   "outputs": [
    {
     "data": {
      "text/plain": [
       "20.0"
      ]
     },
     "execution_count": 39,
     "metadata": {},
     "output_type": "execute_result"
    }
   ],
   "source": [
    "# 분자\n",
    "uvdot = (u * v).sum()\n",
    "uvdot"
   ]
  },
  {
   "cell_type": "code",
   "execution_count": 40,
   "metadata": {},
   "outputs": [
    {
     "data": {
      "text/plain": [
       "25.0"
      ]
     },
     "execution_count": 40,
     "metadata": {},
     "output_type": "execute_result"
    }
   ],
   "source": [
    "# 분모\n",
    "norm1 = (u ** 2).sum()\n",
    "norm1"
   ]
  },
  {
   "cell_type": "code",
   "execution_count": 41,
   "metadata": {},
   "outputs": [
    {
     "data": {
      "text/plain": [
       "20"
      ]
     },
     "execution_count": 41,
     "metadata": {},
     "output_type": "execute_result"
    }
   ],
   "source": [
    "norm2 = (v ** 2).sum()\n",
    "norm2"
   ]
  },
  {
   "cell_type": "code",
   "execution_count": 42,
   "metadata": {},
   "outputs": [
    {
     "data": {
      "text/plain": [
       "0.8944271909999159"
      ]
     },
     "execution_count": 42,
     "metadata": {},
     "output_type": "execute_result"
    }
   ],
   "source": [
    "score = uvdot / np.sqrt(norm1 * norm2)\n",
    "score"
   ]
  },
  {
   "cell_type": "markdown",
   "metadata": {},
   "source": [
    "---------------------------함수 제작---------------------------------"
   ]
  },
  {
   "cell_type": "code",
   "execution_count": 43,
   "metadata": {},
   "outputs": [],
   "source": [
    "def get_cosine_similarity(u, v):\n",
    "    mask = np.isfinite(u) & np.isfinite(v)\n",
    "    u = u[mask]\n",
    "    v = v[mask]\n",
    "\n",
    "    uvdot = (u * v).sum()\n",
    "\n",
    "    norm1 = (u ** 2).sum()\n",
    "    norm2 = (v ** 2).sum()\n",
    "\n",
    "    score = uvdot / np.sqrt(norm1 * norm2)\n",
    "\n",
    "    return score"
   ]
  },
  {
   "cell_type": "code",
   "execution_count": 50,
   "metadata": {},
   "outputs": [
    {
     "data": {
      "text/plain": [
       "0.6581195354686986"
      ]
     },
     "execution_count": 50,
     "metadata": {},
     "output_type": "execute_result"
    }
   ],
   "source": [
    "u = ratings.loc['M999926092'] \n",
    "v = ratings.loc['M999962961']\n",
    "\n",
    "get_cosine_similarity(u, v)"
   ]
  },
  {
   "cell_type": "code",
   "execution_count": 45,
   "metadata": {},
   "outputs": [
    {
     "data": {
      "text/plain": [
       "<itertools.product at 0x20a75763440>"
      ]
     },
     "execution_count": 45,
     "metadata": {},
     "output_type": "execute_result"
    }
   ],
   "source": [
    "from itertools import product\n",
    "\n",
    "product(ratings.index)"
   ]
  },
  {
   "cell_type": "code",
   "execution_count": 46,
   "metadata": {},
   "outputs": [
    {
     "ename": "MemoryError",
     "evalue": "",
     "output_type": "error",
     "traceback": [
      "\u001b[1;31m---------------------------------------------------------------------------\u001b[0m",
      "\u001b[1;31mMemoryError\u001b[0m                               Traceback (most recent call last)",
      "\u001b[1;32mc:\\Users\\ASIA-08\\Desktop\\Git 1\\KangYunsu-1\\SQL 연동.ipynb 셀 29\u001b[0m in \u001b[0;36m<cell line: 1>\u001b[1;34m()\u001b[0m\n\u001b[1;32m----> <a href='vscode-notebook-cell:/c%3A/Users/ASIA-08/Desktop/Git%201/KangYunsu-1/SQL%20%EC%97%B0%EB%8F%99.ipynb#ch0000029?line=0'>1</a>\u001b[0m index_combinations \u001b[39m=\u001b[39m \u001b[39mlist\u001b[39;49m(product(ratings\u001b[39m.\u001b[39;49mindex, repeat \u001b[39m=\u001b[39;49m \u001b[39m2\u001b[39;49m))\n\u001b[0;32m      <a href='vscode-notebook-cell:/c%3A/Users/ASIA-08/Desktop/Git%201/KangYunsu-1/SQL%20%EC%97%B0%EB%8F%99.ipynb#ch0000029?line=1'>2</a>\u001b[0m index_combinations\n",
      "\u001b[1;31mMemoryError\u001b[0m: "
     ]
    }
   ],
   "source": [
    "# index_combinations = list(product(ratings.index, repeat = 2))\n",
    "# index_combinations"
   ]
  },
  {
   "cell_type": "code",
   "execution_count": 51,
   "metadata": {},
   "outputs": [
    {
     "ename": "MemoryError",
     "evalue": "",
     "output_type": "error",
     "traceback": [
      "\u001b[1;31m---------------------------------------------------------------------------\u001b[0m",
      "\u001b[1;31mMemoryError\u001b[0m                               Traceback (most recent call last)",
      "\u001b[1;32mc:\\Users\\ASIA-08\\Desktop\\Git 1\\KangYunsu-1\\SQL 연동.ipynb 셀 30\u001b[0m in \u001b[0;36m<cell line: 18>\u001b[1;34m()\u001b[0m\n\u001b[0;32m     <a href='vscode-notebook-cell:/c%3A/Users/ASIA-08/Desktop/Git%201/KangYunsu-1/SQL%20%EC%97%B0%EB%8F%99.ipynb#ch0000030?line=13'>14</a>\u001b[0m     similarity_table \u001b[39m=\u001b[39m pd\u001b[39m.\u001b[39mpivot_table(similarity_list, index \u001b[39m=\u001b[39m \u001b[39m'\u001b[39m\u001b[39mu\u001b[39m\u001b[39m'\u001b[39m, columns \u001b[39m=\u001b[39m \u001b[39m'\u001b[39m\u001b[39mv\u001b[39m\u001b[39m'\u001b[39m, values \u001b[39m=\u001b[39m \u001b[39m'\u001b[39m\u001b[39mscore\u001b[39m\u001b[39m'\u001b[39m)\n\u001b[0;32m     <a href='vscode-notebook-cell:/c%3A/Users/ASIA-08/Desktop/Git%201/KangYunsu-1/SQL%20%EC%97%B0%EB%8F%99.ipynb#ch0000030?line=15'>16</a>\u001b[0m     \u001b[39mreturn\u001b[39;00m similarity_table\n\u001b[1;32m---> <a href='vscode-notebook-cell:/c%3A/Users/ASIA-08/Desktop/Git%201/KangYunsu-1/SQL%20%EC%97%B0%EB%8F%99.ipynb#ch0000030?line=17'>18</a>\u001b[0m similarity_table \u001b[39m=\u001b[39m get_cosine_similarity_table(ratings)\n\u001b[0;32m     <a href='vscode-notebook-cell:/c%3A/Users/ASIA-08/Desktop/Git%201/KangYunsu-1/SQL%20%EC%97%B0%EB%8F%99.ipynb#ch0000030?line=18'>19</a>\u001b[0m similarity_table\n",
      "\u001b[1;32mc:\\Users\\ASIA-08\\Desktop\\Git 1\\KangYunsu-1\\SQL 연동.ipynb 셀 30\u001b[0m in \u001b[0;36mget_cosine_similarity_table\u001b[1;34m(rating)\u001b[0m\n\u001b[0;32m      <a href='vscode-notebook-cell:/c%3A/Users/ASIA-08/Desktop/Git%201/KangYunsu-1/SQL%20%EC%97%B0%EB%8F%99.ipynb#ch0000030?line=0'>1</a>\u001b[0m \u001b[39mdef\u001b[39;00m \u001b[39mget_cosine_similarity_table\u001b[39m(rating):\n\u001b[1;32m----> <a href='vscode-notebook-cell:/c%3A/Users/ASIA-08/Desktop/Git%201/KangYunsu-1/SQL%20%EC%97%B0%EB%8F%99.ipynb#ch0000030?line=1'>2</a>\u001b[0m     index_combinations \u001b[39m=\u001b[39m \u001b[39mlist\u001b[39;49m(product(ratings\u001b[39m.\u001b[39;49mindex, repeat \u001b[39m=\u001b[39;49m \u001b[39m2\u001b[39;49m))\n\u001b[0;32m      <a href='vscode-notebook-cell:/c%3A/Users/ASIA-08/Desktop/Git%201/KangYunsu-1/SQL%20%EC%97%B0%EB%8F%99.ipynb#ch0000030?line=2'>3</a>\u001b[0m     index_combinations\n\u001b[0;32m      <a href='vscode-notebook-cell:/c%3A/Users/ASIA-08/Desktop/Git%201/KangYunsu-1/SQL%20%EC%97%B0%EB%8F%99.ipynb#ch0000030?line=3'>4</a>\u001b[0m     similarity_list \u001b[39m=\u001b[39m []\n",
      "\u001b[1;31mMemoryError\u001b[0m: "
     ]
    }
   ],
   "source": [
    "def get_cosine_similarity_table(rating):\n",
    "    index_combinations = list(product(ratings.index, repeat = 2))\n",
    "    index_combinations\n",
    "    similarity_list = []\n",
    "\n",
    "    for uname, vname in index_combinations:\n",
    "        u, v = ratings.loc[uname], ratings.loc[vname]\n",
    "        score = get_cosine_similarity(u, v)\n",
    "\n",
    "        similarity = {'u': uname, 'v': vname, 'score': score}\n",
    "\n",
    "        similarity_list.append(similarity)\n",
    "    similarity_list = DataFrame(similarity_list)\n",
    "    similarity_table = pd.pivot_table(similarity_list, index = 'u', columns = 'v', values = 'score')\n",
    "\n",
    "    return similarity_table\n",
    "\n",
    "similarity_table = get_cosine_similarity_table(ratings)\n",
    "similarity_table"
   ]
  },
  {
   "cell_type": "code",
   "execution_count": null,
   "metadata": {},
   "outputs": [],
   "source": [
    "def predict_ratings(cust_name, cop_c):\n",
    "\n",
    "    neighbors_ratings = ratings[cop_c].drop(index = 'cust_name')\n",
    "\n",
    "    "
   ]
  },
  {
   "cell_type": "markdown",
   "metadata": {},
   "source": [
    "----------------------------------------------------------"
   ]
  },
  {
   "cell_type": "code",
   "execution_count": 54,
   "metadata": {},
   "outputs": [
    {
     "data": {
      "text/plain": [
       "Index(['M000034966', 'M000059535', 'M000136117', 'M000225114', 'M000261625',\n",
       "       'M000419293', 'M000494848', 'M000504230', 'M000557840', 'M000608261',\n",
       "       ...\n",
       "       'M999468256', 'M999492154', 'M999493501', 'M999515910', 'M999599111',\n",
       "       'M999708287', 'M999770689', 'M999849895', 'M999926092', 'M999962961'],\n",
       "      dtype='object', name='cust', length=21769)"
      ]
     },
     "execution_count": 54,
     "metadata": {},
     "output_type": "execute_result"
    }
   ],
   "source": [
    "ratings.index"
   ]
  },
  {
   "cell_type": "code",
   "execution_count": 55,
   "metadata": {},
   "outputs": [
    {
     "data": {
      "text/plain": [
       "Index(['B01', 'C01', 'C02', 'D01', 'D02', 'E01'], dtype='object', name='cop_c')"
      ]
     },
     "execution_count": 55,
     "metadata": {},
     "output_type": "execute_result"
    }
   ],
   "source": [
    "ratings.columns"
   ]
  },
  {
   "cell_type": "code",
   "execution_count": null,
   "metadata": {},
   "outputs": [],
   "source": [
    "ratings_combinations = list(product(ratings.index, ratings.columns))\n",
    "rating_list = []\n",
    "\n",
    "for cust_name, cop_c in ratings_combinations:\n",
    "    score = predict_ratings(cust_name, cop_c)\n",
    "\n",
    "    rating_predict = {'cust': cust_name, 'cop_c': cop_c, 'score': score}\n",
    "\n",
    "    rating_list.append(rating_predict)\n",
    "\n",
    "rating_list = DataFrame(rating_list)\n",
    "rating_table = pd.pivot_table(rating_list, index = \"cust\", columns = 'cop_c', values = 'score')\n",
    "rating_table"
   ]
  }
 ],
 "metadata": {
  "kernelspec": {
   "display_name": "Python 3.10.4 64-bit",
   "language": "python",
   "name": "python3"
  },
  "language_info": {
   "codemirror_mode": {
    "name": "ipython",
    "version": 3
   },
   "file_extension": ".py",
   "mimetype": "text/x-python",
   "name": "python",
   "nbconvert_exporter": "python",
   "pygments_lexer": "ipython3",
   "version": "3.10.4"
  },
  "orig_nbformat": 4,
  "vscode": {
   "interpreter": {
    "hash": "692ab1185e8155240edb0369457deda8ee1db539fd5653321016181d0ff6acf9"
   }
  }
 },
 "nbformat": 4,
 "nbformat_minor": 2
}
