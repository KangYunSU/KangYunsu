{
 "cells": [
  {
   "cell_type": "code",
   "execution_count": 1,
   "metadata": {},
   "outputs": [],
   "source": [
    "import pymysql\n",
    "import pandas as pd\n",
    "from surprise import KNNBasic, SVD, SVDpp, NMF, Reader, Dataset\n",
    "from surprise.model_selection import cross_validate"
   ]
  },
  {
   "cell_type": "code",
   "execution_count": 3,
   "metadata": {},
   "outputs": [
    {
     "name": "stdout",
     "output_type": "stream",
     "text": [
      "         cust ma_fem_dv ages  buy_am\n",
      "0  M117855953        여성  30대  759500\n",
      "1  M122284480        여성  40대   69000\n",
      "2  M046283586        여성  50대   54000\n",
      "3  M019728616        여성  30대  357000\n",
      "4  M052658222        남성  40대   76000\n",
      "5  M061879808        여성  40대   12900\n",
      "6  M061879808        여성  40대   12900\n",
      "7  M061879808        여성  40대   12900\n",
      "8  M061879808        여성  40대   12900\n",
      "9  M049345995        여성  20대   13500\n"
     ]
    }
   ],
   "source": [
    "con = pymysql.connect(host = '127.0.0.1', user = 'root', password = 'kyjin0413!',\n",
    "                       db = 'lpointsample', charset = 'utf8')\n",
    "cur = con.cursor(pymysql.cursors.DictCursor)\n",
    "cur.execute(\n",
    "    \"SELECT 고객정보.cust, ma_fem_dv, ages, buy_am FROM 고객정보, 상품구매정보_view where 고객정보.cust = 상품구매정보_view.cust\")\n",
    "result=cur.fetchall()\n",
    "con.commit()\n",
    "con.close()\n",
    "df= pd.DataFrame(result)\n",
    "print(df.head(10))"
   ]
  },
  {
   "cell_type": "markdown",
   "metadata": {},
   "source": [
    "--------------------------------------------------------------------------------------"
   ]
  }
 ],
 "metadata": {
  "kernelspec": {
   "display_name": "Python 3.10.4 64-bit",
   "language": "python",
   "name": "python3"
  },
  "language_info": {
   "codemirror_mode": {
    "name": "ipython",
    "version": 3
   },
   "file_extension": ".py",
   "mimetype": "text/x-python",
   "name": "python",
   "nbconvert_exporter": "python",
   "pygments_lexer": "ipython3",
   "version": "3.10.4"
  },
  "orig_nbformat": 4,
  "vscode": {
   "interpreter": {
    "hash": "692ab1185e8155240edb0369457deda8ee1db539fd5653321016181d0ff6acf9"
   }
  }
 },
 "nbformat": 4,
 "nbformat_minor": 2
}
