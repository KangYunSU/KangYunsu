{
 "cells": [
  {
   "cell_type": "markdown",
   "metadata": {},
   "source": [
    "# 예측 1"
   ]
  },
  {
   "cell_type": "markdown",
   "metadata": {},
   "source": [
    "라이브러리"
   ]
  },
  {
   "cell_type": "code",
   "execution_count": 305,
   "metadata": {},
   "outputs": [],
   "source": [
    "# 공통\n",
    "%matplotlib inline\n",
    "import pandas as pd\n",
    "import numpy as np\n",
    "import statsmodels.api as sm\n",
    "\n",
    "# 예측 1\n",
    "import matplotlib.pyplot as plt\n",
    "import datetime\n",
    "from dateutil.relativedelta import relativedelta\n",
    "import seaborn as sns\n",
    "from statsmodels.tsa.stattools import acf\n",
    "from statsmodels.tsa.stattools import pacf\n",
    "from statsmodels.tsa.seasonal import seasonal_decompose\n",
    "\n",
    "# 예측 2\n",
    "from scipy.stats import norm\n",
    "from tqdm import tqdm\n",
    "from sklearn.metrics import mean_squared_error"
   ]
  },
  {
   "cell_type": "code",
   "execution_count": 306,
   "metadata": {},
   "outputs": [
    {
     "data": {
      "text/html": [
       "<div>\n",
       "<style scoped>\n",
       "    .dataframe tbody tr th:only-of-type {\n",
       "        vertical-align: middle;\n",
       "    }\n",
       "\n",
       "    .dataframe tbody tr th {\n",
       "        vertical-align: top;\n",
       "    }\n",
       "\n",
       "    .dataframe thead th {\n",
       "        text-align: right;\n",
       "    }\n",
       "</style>\n",
       "<table border=\"1\" class=\"dataframe\">\n",
       "  <thead>\n",
       "    <tr style=\"text-align: right;\">\n",
       "      <th></th>\n",
       "      <th>서울_hum</th>\n",
       "    </tr>\n",
       "    <tr>\n",
       "      <th>date</th>\n",
       "      <th></th>\n",
       "    </tr>\n",
       "  </thead>\n",
       "  <tbody>\n",
       "    <tr>\n",
       "      <th>2021-12-27</th>\n",
       "      <td>60.9</td>\n",
       "    </tr>\n",
       "    <tr>\n",
       "      <th>2021-12-28</th>\n",
       "      <td>73.8</td>\n",
       "    </tr>\n",
       "    <tr>\n",
       "      <th>2021-12-29</th>\n",
       "      <td>72.9</td>\n",
       "    </tr>\n",
       "    <tr>\n",
       "      <th>2021-12-30</th>\n",
       "      <td>48.5</td>\n",
       "    </tr>\n",
       "    <tr>\n",
       "      <th>2021-12-31</th>\n",
       "      <td>35.9</td>\n",
       "    </tr>\n",
       "  </tbody>\n",
       "</table>\n",
       "</div>"
      ],
      "text/plain": [
       "            서울_hum\n",
       "date              \n",
       "2021-12-27    60.9\n",
       "2021-12-28    73.8\n",
       "2021-12-29    72.9\n",
       "2021-12-30    48.5\n",
       "2021-12-31    35.9"
      ]
     },
     "execution_count": 306,
     "metadata": {},
     "output_type": "execute_result"
    }
   ],
   "source": [
    "# Train 데이터 불러오기 (00년 ~ 21년)\n",
    "# 2021년 Train / 2022년 2022Train\n",
    "\n",
    "data = pd.read_csv('전체.csv', encoding='cp949')\n",
    "data = data[:-365]\n",
    "\n",
    "data = data.drop(['price'], axis = 1)\n",
    "data = data.drop(['전체_temp'], axis = 1)\n",
    "data = data.drop(['전체_hum'], axis = 1)\n",
    "\n",
    "data = data.drop(['강원_temp'], axis = 1)\n",
    "data = data.drop(['경기_temp'], axis = 1)\n",
    "data = data.drop(['경남_temp'], axis = 1)\n",
    "data = data.drop(['경북_temp'], axis = 1)\n",
    "data = data.drop(['광주_temp'], axis = 1)\n",
    "data = data.drop(['대구_temp'], axis = 1)\n",
    "data = data.drop(['대전_temp'], axis = 1)\n",
    "data = data.drop(['부산_temp'], axis = 1)\n",
    "data = data.drop(['서울_temp'], axis = 1)\n",
    "data = data.drop(['세종_temp'], axis = 1)\n",
    "data = data.drop(['울산_temp'], axis = 1)\n",
    "data = data.drop(['충남_temp'], axis = 1)\n",
    "data = data.drop(['충북_temp'], axis = 1)\n",
    "data = data.drop(['전남_temp'], axis = 1)\n",
    "data = data.drop(['전북_temp'], axis = 1)\n",
    "data = data.drop(['제주_temp'], axis = 1)\n",
    "data = data.drop(['인천_temp'], axis = 1)\n",
    "\n",
    "data = data.drop(['강원_hum'], axis = 1)\n",
    "data = data.drop(['경기_hum'], axis = 1)\n",
    "data = data.drop(['경남_hum'], axis = 1)\n",
    "data = data.drop(['경북_hum'], axis = 1)\n",
    "data = data.drop(['광주_hum'], axis = 1)\n",
    "data = data.drop(['대구_hum'], axis = 1)\n",
    "data = data.drop(['대전_hum'], axis = 1)\n",
    "data = data.drop(['부산_hum'], axis = 1)\n",
    "# data = data.drop(['서울_hum'], axis = 1)\n",
    "data = data.drop(['세종_hum'], axis = 1)\n",
    "data = data.drop(['울산_hum'], axis = 1)\n",
    "data = data.drop(['충남_hum'], axis = 1)\n",
    "data = data.drop(['충북_hum'], axis = 1)\n",
    "data = data.drop(['전남_hum'], axis = 1)\n",
    "data = data.drop(['전북_hum'], axis = 1)\n",
    "data = data.drop(['제주_hum'], axis = 1)\n",
    "data = data.drop(['인천_hum'], axis = 1)\n",
    "    \n",
    "data = data.set_index('date')\n",
    "data = data.fillna(method='ffill')\n",
    "data.tail()"
   ]
  },
  {
   "cell_type": "code",
   "execution_count": 307,
   "metadata": {},
   "outputs": [
    {
     "data": {
      "text/html": [
       "<div>\n",
       "<style scoped>\n",
       "    .dataframe tbody tr th:only-of-type {\n",
       "        vertical-align: middle;\n",
       "    }\n",
       "\n",
       "    .dataframe tbody tr th {\n",
       "        vertical-align: top;\n",
       "    }\n",
       "\n",
       "    .dataframe thead th {\n",
       "        text-align: right;\n",
       "    }\n",
       "</style>\n",
       "<table border=\"1\" class=\"dataframe\">\n",
       "  <thead>\n",
       "    <tr style=\"text-align: right;\">\n",
       "      <th></th>\n",
       "      <th>서울_hum</th>\n",
       "    </tr>\n",
       "  </thead>\n",
       "  <tbody>\n",
       "    <tr>\n",
       "      <th>2021-12-27</th>\n",
       "      <td>60.9</td>\n",
       "    </tr>\n",
       "    <tr>\n",
       "      <th>2021-12-28</th>\n",
       "      <td>73.8</td>\n",
       "    </tr>\n",
       "    <tr>\n",
       "      <th>2021-12-29</th>\n",
       "      <td>72.9</td>\n",
       "    </tr>\n",
       "    <tr>\n",
       "      <th>2021-12-30</th>\n",
       "      <td>48.5</td>\n",
       "    </tr>\n",
       "    <tr>\n",
       "      <th>2021-12-31</th>\n",
       "      <td>35.9</td>\n",
       "    </tr>\n",
       "  </tbody>\n",
       "</table>\n",
       "</div>"
      ],
      "text/plain": [
       "            서울_hum\n",
       "2021-12-27    60.9\n",
       "2021-12-28    73.8\n",
       "2021-12-29    72.9\n",
       "2021-12-30    48.5\n",
       "2021-12-31    35.9"
      ]
     },
     "execution_count": 307,
     "metadata": {},
     "output_type": "execute_result"
    }
   ],
   "source": [
    "# 인덱스 지정(?)\n",
    "\n",
    "# strptime은 날짜와 시간 형식의 문자열을 datetime으로 변환해 줌\n",
    "# strftime은 날짜와 시간(datetime)을 문자열로 출력\n",
    "start = datetime.datetime.strptime(\"2021-01-01\", \"%Y-%m-%d\")\n",
    "\n",
    "# 기준 날짜에 대한 연산이 필요할 때 dateutil.relativedelta모듈의 relativedelta함수 이용\n",
    "date_list = [start + relativedelta(days = x) for x in range(0, len(data)) ]\n",
    "\n",
    "data['index'] = date_list\n",
    "\n",
    "# set_index는 데이터프레임을 먼저 불러온 후, 특정 열을 인덱스로 설정할 때 사용\n",
    "data.set_index( ['index'], inplace=True) \n",
    "\n",
    "# index 출력 X\n",
    "data.index.name=None\n",
    "data.tail()"
   ]
  },
  {
   "cell_type": "code",
   "execution_count": 308,
   "metadata": {},
   "outputs": [
    {
     "name": "stderr",
     "output_type": "stream",
     "text": [
      "c:\\Users\\ASIA-08\\AppData\\Local\\Programs\\Python\\Python310\\lib\\site-packages\\statsmodels\\tsa\\base\\tsa_model.py:471: ValueWarning: No frequency information was provided, so inferred frequency D will be used.\n",
      "  self._init_dates(dates, freq)\n",
      "c:\\Users\\ASIA-08\\AppData\\Local\\Programs\\Python\\Python310\\lib\\site-packages\\statsmodels\\tsa\\base\\tsa_model.py:471: ValueWarning: No frequency information was provided, so inferred frequency D will be used.\n",
      "  self._init_dates(dates, freq)\n"
     ]
    },
    {
     "name": "stdout",
     "output_type": "stream",
     "text": [
      "==============================================================================\n",
      "                 coef    std err          z      P>|z|      [0.025      0.975]\n",
      "------------------------------------------------------------------------------\n",
      "ar.L1          0.5414      0.047     11.570      0.000       0.450       0.633\n",
      "ar.S.L7        0.8632      0.056     15.359      0.000       0.753       0.973\n",
      "ar.S.L14       0.1372      0.056      2.437      0.015       0.027       0.248\n",
      "ma.S.L7       -0.8603      0.041    -21.126      0.000      -0.940      -0.781\n",
      "sigma2       117.0446      8.092     14.464      0.000     101.184     132.905\n",
      "==============================================================================\n"
     ]
    }
   ],
   "source": [
    "# coef값은 0에서 가장 떨어졌을때 가장 이상적\n",
    "# p 값은 0과 가장 가까울때가 가장 좋습니다\n",
    "\n",
    "mod = sm.tsa.statespace.SARIMAX(\n",
    "    data['서울_hum'],\n",
    "    order = (1,0,0),\n",
    "    seasonal_order = (2,0,1,7),\n",
    "    # AR 매개 변수를 변환하여 모델의 자동 회귀 구성 요소에서 정상 성을 강제 적용할지 여부입니다. 기본값은 True입니다.\n",
    "    # AR항이 stationary를 만족하게끔 강제하는 것\n",
    "    enforce_stationarity = False,\n",
    "    # 모델의 이동 평균 구성 요소에서 반전 성을 강제하기 위해 MA 매개 변수를 변환할지 여부입니다. 기본값은 True입니다.\n",
    "    # MA항이 starionary를 만족하게끔 강제하는 것\n",
    "    enforce_invertibility = False\n",
    ")\n",
    "\n",
    "results = mod.fit()\n",
    "\n",
    "# print(results.summary())\n",
    "print( results.summary().tables[1] )"
   ]
  },
  {
   "cell_type": "code",
   "execution_count": 309,
   "metadata": {},
   "outputs": [],
   "source": [
    "pred = results.get_prediction(\n",
    "    start = pd.to_datetime('2021-01-01'),\n",
    "    # 동적 회귀(?)\n",
    "    dynamic = False\n",
    ")"
   ]
  },
  {
   "cell_type": "code",
   "execution_count": 310,
   "metadata": {},
   "outputs": [
    {
     "name": "stdout",
     "output_type": "stream",
     "text": [
      "The Mean Squared Error of our forecasts is 148.67\n"
     ]
    }
   ],
   "source": [
    "y_forecasted = pred.predicted_mean\n",
    "y_truth = data['서울_hum']['2021-01-01' : ]\n",
    "\n",
    "# Compute the Mean Square Error: 평균 제곱 오차 계산\n",
    "mse = (( y_forecasted - y_truth ) ** 2).mean()\n",
    "print('The Mean Squared Error of our forecasts is {}'.format( round(mse, 2) ) ) "
   ]
  },
  {
   "cell_type": "code",
   "execution_count": 311,
   "metadata": {},
   "outputs": [],
   "source": [
    "# Get forecast some steps ahead in future 미래 예측\n",
    "pred_uc = results.get_forecast( steps = 365 )"
   ]
  },
  {
   "cell_type": "code",
   "execution_count": 312,
   "metadata": {},
   "outputs": [
    {
     "data": {
      "text/plain": [
       "2022-01-01    49.809882\n",
       "2022-01-02    54.665874\n",
       "2022-01-03    62.273570\n",
       "2022-01-04    69.550517\n",
       "2022-01-05    66.047445\n",
       "                ...    \n",
       "2022-12-27    73.299736\n",
       "2022-12-28    69.152070\n",
       "2022-12-29    65.484130\n",
       "2022-12-30    63.044781\n",
       "2022-12-31    62.202614\n",
       "Freq: D, Name: predicted_mean, Length: 365, dtype: float64"
      ]
     },
     "execution_count": 312,
     "metadata": {},
     "output_type": "execute_result"
    }
   ],
   "source": [
    "forecast = pred_uc.predicted_mean\n",
    "forecast"
   ]
  },
  {
   "cell_type": "code",
   "execution_count": 313,
   "metadata": {},
   "outputs": [],
   "source": [
    "# 예측 데이터 csv로 저장\n",
    "forecast.to_csv('변수X_2022.csv', index=False)"
   ]
  }
 ],
 "metadata": {
  "kernelspec": {
   "display_name": "Python 3.10.4 64-bit",
   "language": "python",
   "name": "python3"
  },
  "language_info": {
   "codemirror_mode": {
    "name": "ipython",
    "version": 3
   },
   "file_extension": ".py",
   "mimetype": "text/x-python",
   "name": "python",
   "nbconvert_exporter": "python",
   "pygments_lexer": "ipython3",
   "version": "3.10.4"
  },
  "orig_nbformat": 4,
  "vscode": {
   "interpreter": {
    "hash": "692ab1185e8155240edb0369457deda8ee1db539fd5653321016181d0ff6acf9"
   }
  }
 },
 "nbformat": 4,
 "nbformat_minor": 2
}
