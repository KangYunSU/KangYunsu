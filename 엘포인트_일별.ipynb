{
 "cells": [
  {
   "cell_type": "code",
   "execution_count": 52,
   "metadata": {},
   "outputs": [],
   "source": [
    "import pymysql\n",
    "import pandas as pd\n",
    "\n",
    "# 공통\n",
    "%matplotlib inline\n",
    "import numpy as np\n",
    "import statsmodels.api as sm\n",
    "\n",
    "# 예측 1\n",
    "import matplotlib.pyplot as plt\n",
    "import datetime\n",
    "from dateutil.relativedelta import relativedelta\n",
    "import seaborn as sns\n",
    "from statsmodels.tsa.stattools import acf\n",
    "from statsmodels.tsa.stattools import pacf\n",
    "from statsmodels.tsa.seasonal import seasonal_decompose\n",
    "\n",
    "# 예측 2\n",
    "from scipy.stats import norm\n",
    "from tqdm import tqdm\n",
    "from sklearn.metrics import mean_squared_error"
   ]
  },
  {
   "cell_type": "code",
   "execution_count": 53,
   "metadata": {},
   "outputs": [
    {
     "data": {
      "text/html": [
       "<div>\n",
       "<style scoped>\n",
       "    .dataframe tbody tr th:only-of-type {\n",
       "        vertical-align: middle;\n",
       "    }\n",
       "\n",
       "    .dataframe tbody tr th {\n",
       "        vertical-align: top;\n",
       "    }\n",
       "\n",
       "    .dataframe thead th {\n",
       "        text-align: right;\n",
       "    }\n",
       "</style>\n",
       "<table border=\"1\" class=\"dataframe\">\n",
       "  <thead>\n",
       "    <tr style=\"text-align: right;\">\n",
       "      <th></th>\n",
       "      <th>price</th>\n",
       "    </tr>\n",
       "  </thead>\n",
       "  <tbody>\n",
       "    <tr>\n",
       "      <th>0</th>\n",
       "      <td>39209808</td>\n",
       "    </tr>\n",
       "    <tr>\n",
       "      <th>1</th>\n",
       "      <td>62239672</td>\n",
       "    </tr>\n",
       "    <tr>\n",
       "      <th>2</th>\n",
       "      <td>57365413</td>\n",
       "    </tr>\n",
       "    <tr>\n",
       "      <th>3</th>\n",
       "      <td>95785399</td>\n",
       "    </tr>\n",
       "    <tr>\n",
       "      <th>4</th>\n",
       "      <td>37415973</td>\n",
       "    </tr>\n",
       "    <tr>\n",
       "      <th>5</th>\n",
       "      <td>44468170</td>\n",
       "    </tr>\n",
       "    <tr>\n",
       "      <th>6</th>\n",
       "      <td>39459368</td>\n",
       "    </tr>\n",
       "    <tr>\n",
       "      <th>7</th>\n",
       "      <td>56869794</td>\n",
       "    </tr>\n",
       "    <tr>\n",
       "      <th>8</th>\n",
       "      <td>72284738</td>\n",
       "    </tr>\n",
       "    <tr>\n",
       "      <th>9</th>\n",
       "      <td>49765511</td>\n",
       "    </tr>\n",
       "  </tbody>\n",
       "</table>\n",
       "</div>"
      ],
      "text/plain": [
       "      price\n",
       "0  39209808\n",
       "1  62239672\n",
       "2  57365413\n",
       "3  95785399\n",
       "4  37415973\n",
       "5  44468170\n",
       "6  39459368\n",
       "7  56869794\n",
       "8  72284738\n",
       "9  49765511"
      ]
     },
     "execution_count": 53,
     "metadata": {},
     "output_type": "execute_result"
    }
   ],
   "source": [
    "con = pymysql.connect(host = '127.0.0.1', user = 'root', password = 'kyjin0413!',\n",
    "                       db = 'lpointsample', charset = 'utf8')\n",
    "cur = con.cursor(pymysql.cursors.DictCursor)\n",
    "cur.execute(\n",
    "    \"select de_dt as 날짜 , sum(buy_am) as 금액 from 엘페이이용_view group by de_dt order by de_dt\")\n",
    "result=cur.fetchall()\n",
    "con.commit()\n",
    "con.close()\n",
    "df= pd.DataFrame(result)\n",
    "# print(df.head(10))\n",
    "df.head(10)\n",
    "\n",
    "df.columns = ['date', 'price']\n",
    "df = df.drop(['date'], axis = 1)\n",
    "df.head(10)"
   ]
  },
  {
   "cell_type": "code",
   "execution_count": 54,
   "metadata": {},
   "outputs": [
    {
     "data": {
      "text/html": [
       "<div>\n",
       "<style scoped>\n",
       "    .dataframe tbody tr th:only-of-type {\n",
       "        vertical-align: middle;\n",
       "    }\n",
       "\n",
       "    .dataframe tbody tr th {\n",
       "        vertical-align: top;\n",
       "    }\n",
       "\n",
       "    .dataframe thead th {\n",
       "        text-align: right;\n",
       "    }\n",
       "</style>\n",
       "<table border=\"1\" class=\"dataframe\">\n",
       "  <thead>\n",
       "    <tr style=\"text-align: right;\">\n",
       "      <th></th>\n",
       "      <th>price</th>\n",
       "    </tr>\n",
       "  </thead>\n",
       "  <tbody>\n",
       "    <tr>\n",
       "      <th>2021-12-27</th>\n",
       "      <td>48002138</td>\n",
       "    </tr>\n",
       "    <tr>\n",
       "      <th>2021-12-28</th>\n",
       "      <td>38070210</td>\n",
       "    </tr>\n",
       "    <tr>\n",
       "      <th>2021-12-29</th>\n",
       "      <td>52093193</td>\n",
       "    </tr>\n",
       "    <tr>\n",
       "      <th>2021-12-30</th>\n",
       "      <td>47463341</td>\n",
       "    </tr>\n",
       "    <tr>\n",
       "      <th>2021-12-31</th>\n",
       "      <td>66341333</td>\n",
       "    </tr>\n",
       "  </tbody>\n",
       "</table>\n",
       "</div>"
      ],
      "text/plain": [
       "               price\n",
       "2021-12-27  48002138\n",
       "2021-12-28  38070210\n",
       "2021-12-29  52093193\n",
       "2021-12-30  47463341\n",
       "2021-12-31  66341333"
      ]
     },
     "execution_count": 54,
     "metadata": {},
     "output_type": "execute_result"
    }
   ],
   "source": [
    "# 인덱스 지정(?)\n",
    "\n",
    "# strptime은 날짜와 시간 형식의 문자열을 datetime으로 변환해 줌\n",
    "# strftime은 날짜와 시간(datetime)을 문자열로 출력\n",
    "start = datetime.datetime.strptime(\"2021-01-01\", \"%Y-%m-%d\")\n",
    "\n",
    "# 기준 날짜에 대한 연산이 필요할 때 dateutil.relativedelta모듈의 relativedelta함수 이용\n",
    "df_list = [start + relativedelta(days = x) for x in range(0, len(df)) ]\n",
    "\n",
    "df['index'] = df_list\n",
    "\n",
    "# set_index는 데이터프레임을 먼저 불러온 후, 특정 열을 인덱스로 설정할 때 사용\n",
    "df.set_index( ['index'], inplace=True) \n",
    "\n",
    "# index 출력 X\n",
    "df.index.name=None\n",
    "df.tail()"
   ]
  },
  {
   "cell_type": "code",
   "execution_count": 55,
   "metadata": {},
   "outputs": [],
   "source": [
    "# price가 object임\n",
    "df = df.astype('int')"
   ]
  },
  {
   "cell_type": "code",
   "execution_count": 56,
   "metadata": {},
   "outputs": [
    {
     "data": {
      "text/plain": [
       "price    int32\n",
       "dtype: object"
      ]
     },
     "execution_count": 56,
     "metadata": {},
     "output_type": "execute_result"
    }
   ],
   "source": [
    "df.dtypes"
   ]
  },
  {
   "cell_type": "code",
   "execution_count": null,
   "metadata": {},
   "outputs": [],
   "source": [
    "# coef값은 0에서 가장 떨어졌을때 가장 이상적\n",
    "# p 값은 0과 가장 가까울때가 가장 좋습니다\n",
    "\n",
    "mod = sm.tsa.statespace.SARIMAX(\n",
    "    df['total'],\n",
    "    order = (1, 1, 1),\n",
    "    seasonal_order = (0, 1, 1, 12),\n",
    "    # AR 매개 변수를 변환하여 모델의 자동 회귀 구성 요소에서 정상 성을 강제 적용할지 여부입니다. 기본값은 True입니다.\n",
    "    # AR항이 stationary를 만족하게끔 강제하는 것\n",
    "    enforce_stationarity = False,\n",
    "    # 모델의 이동 평균 구성 요소에서 반전 성을 강제하기 위해 MA 매개 변수를 변환할지 여부입니다. 기본값은 True입니다.\n",
    "    # MA항이 starionary를 만족하게끔 강제하는 것\n",
    "    enforce_invertibility = False\n",
    ")\n",
    "\n",
    "results = mod.fit()\n",
    "\n",
    "# print(results.summary())\n",
    "print( results.summary().tables[1] )"
   ]
  },
  {
   "cell_type": "code",
   "execution_count": null,
   "metadata": {},
   "outputs": [],
   "source": [
    "# Get forecast some steps ahead in future 미래 예측\n",
    "pred_uc = results.get_forecast( steps = 6 )"
   ]
  },
  {
   "cell_type": "code",
   "execution_count": 18,
   "metadata": {},
   "outputs": [
    {
     "data": {
      "text/plain": [
       "2021-12-01    6.983970e+07\n",
       "2021-12-02    6.920729e+07\n",
       "2021-12-03    7.021301e+07\n",
       "2021-12-04    7.004778e+07\n",
       "2021-12-05    7.015390e+07\n",
       "2021-12-06    7.084773e+07\n",
       "2021-12-07    7.088021e+07\n",
       "2021-12-08    7.044509e+07\n",
       "2021-12-09    6.956922e+07\n",
       "2021-12-10    6.972534e+07\n",
       "2021-12-11    7.036194e+07\n",
       "2021-12-12    6.955451e+07\n",
       "2021-12-13    6.955451e+07\n",
       "2021-12-14    6.955451e+07\n",
       "2021-12-15    6.955451e+07\n",
       "2021-12-16    6.955451e+07\n",
       "2021-12-17    6.955451e+07\n",
       "2021-12-18    6.955451e+07\n",
       "2021-12-19    6.955451e+07\n",
       "2021-12-20    6.955451e+07\n",
       "2021-12-21    6.955451e+07\n",
       "2021-12-22    6.955451e+07\n",
       "2021-12-23    6.955451e+07\n",
       "2021-12-24    6.955451e+07\n",
       "2021-12-25    6.955451e+07\n",
       "2021-12-26    6.955451e+07\n",
       "2021-12-27    6.955451e+07\n",
       "2021-12-28    6.955451e+07\n",
       "2021-12-29    6.955451e+07\n",
       "2021-12-30    6.955451e+07\n",
       "2021-12-31    6.955451e+07\n",
       "Freq: D, Name: predicted_mean, dtype: float64"
      ]
     },
     "execution_count": 18,
     "metadata": {},
     "output_type": "execute_result"
    }
   ],
   "source": [
    "forecast_mean = pred_uc.predicted_mean\n",
    "forecast_mean"
   ]
  },
  {
   "cell_type": "code",
   "execution_count": 26,
   "metadata": {},
   "outputs": [],
   "source": [
    "# forecast.to_csv('lpoint_days2.csv', header=['forecast'], index=False)"
   ]
  }
 ],
 "metadata": {
  "kernelspec": {
   "display_name": "Python 3.10.4 64-bit",
   "language": "python",
   "name": "python3"
  },
  "language_info": {
   "codemirror_mode": {
    "name": "ipython",
    "version": 3
   },
   "file_extension": ".py",
   "mimetype": "text/x-python",
   "name": "python",
   "nbconvert_exporter": "python",
   "pygments_lexer": "ipython3",
   "version": "3.10.4"
  },
  "orig_nbformat": 4,
  "vscode": {
   "interpreter": {
    "hash": "692ab1185e8155240edb0369457deda8ee1db539fd5653321016181d0ff6acf9"
   }
  }
 },
 "nbformat": 4,
 "nbformat_minor": 2
}
