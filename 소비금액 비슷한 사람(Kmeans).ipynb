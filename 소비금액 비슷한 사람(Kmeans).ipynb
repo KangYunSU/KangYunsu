{
 "cells": [
  {
   "cell_type": "code",
   "execution_count": 3,
   "metadata": {},
   "outputs": [],
   "source": [
    "import pymysql\n",
    "import pandas as pd\n",
    "from surprise import KNNBasic, SVD, SVDpp, NMF, Reader, Dataset\n",
    "from surprise.model_selection import cross_validate\n",
    "\n",
    "import numpy as np\n",
    "import matplotlib.pyplot as plt"
   ]
  },
  {
   "cell_type": "code",
   "execution_count": 2,
   "metadata": {},
   "outputs": [
    {
     "name": "stdout",
     "output_type": "stream",
     "text": [
      "         cust ma_fem_dv ages  buy_am\n",
      "0  M117855953        여성  30대  759500\n",
      "1  M122284480        여성  40대   69000\n",
      "2  M046283586        여성  50대   54000\n",
      "3  M019728616        여성  30대  357000\n",
      "4  M052658222        남성  40대   76000\n",
      "5  M061879808        여성  40대   12900\n",
      "6  M061879808        여성  40대   12900\n",
      "7  M061879808        여성  40대   12900\n",
      "8  M061879808        여성  40대   12900\n",
      "9  M049345995        여성  20대   13500\n"
     ]
    }
   ],
   "source": [
    "con = pymysql.connect(host = '127.0.0.1', user = 'root', password = 'kyjin0413!',\n",
    "                       db = 'lpointsample', charset = 'utf8')\n",
    "cur = con.cursor(pymysql.cursors.DictCursor)\n",
    "cur.execute(\n",
    "    \"SELECT 고객정보.cust, ma_fem_dv, ages, buy_am FROM 고객정보, 상품구매정보_view where 고객정보.cust = 상품구매정보_view.cust\")\n",
    "result=cur.fetchall()\n",
    "con.commit()\n",
    "con.close()\n",
    "df= pd.DataFrame(result)\n",
    "print(df.head(10))"
   ]
  },
  {
   "cell_type": "code",
   "execution_count": 4,
   "metadata": {},
   "outputs": [
    {
     "data": {
      "text/plain": [
       "array([['M117855953', '여성', '30대', 759500],\n",
       "       ['M122284480', '여성', '40대', 69000],\n",
       "       ['M046283586', '여성', '50대', 54000],\n",
       "       ['M019728616', '여성', '30대', 357000],\n",
       "       ['M052658222', '남성', '40대', 76000]], dtype=object)"
      ]
     },
     "execution_count": 4,
     "metadata": {},
     "output_type": "execute_result"
    }
   ],
   "source": [
    "X = df.iloc[:,:].values\n",
    "# X = dataset.values\n",
    "# X = dataset.to_numpy() # 공식홈페이지 권장\n",
    "X[:5]"
   ]
  },
  {
   "cell_type": "code",
   "execution_count": 10,
   "metadata": {},
   "outputs": [
    {
     "name": "stderr",
     "output_type": "stream",
     "text": [
      "c:\\Users\\ASIA-08\\AppData\\Local\\Programs\\Python\\Python310\\lib\\site-packages\\IPython\\core\\pylabtools.py:151: UserWarning: Glyph 45824 (\\N{HANGUL SYLLABLE DAE}) missing from current font.\n",
      "  fig.canvas.print_figure(bytes_io, **kw)\n"
     ]
    },
    {
     "data": {
      "image/png": "[encoded data removed]",
      "text/plain": [
       "<Figure size 432x288 with 1 Axes>"
      ]
     },
     "metadata": {
      "needs_background": "light"
     },
     "output_type": "display_data"
    }
   ],
   "source": [
    "# 연령 / 소비금액\n",
    "plt.scatter(X[:, 3], X[:, 2]) # x축: hour y축: score\n",
    "plt.title('ma_fe_ages')\n",
    "plt.xlabel('sex')\n",
    "plt.ylabel('ages')\n",
    "plt.show()"
   ]
  },
  {
   "cell_type": "code",
   "execution_count": 15,
   "metadata": {},
   "outputs": [
    {
     "name": "stderr",
     "output_type": "stream",
     "text": [
      "c:\\Users\\ASIA-08\\AppData\\Local\\Programs\\Python\\Python310\\lib\\site-packages\\IPython\\core\\pylabtools.py:151: UserWarning: Glyph 45824 (\\N{HANGUL SYLLABLE DAE}) missing from current font.\n",
      "  fig.canvas.print_figure(bytes_io, **kw)\n"
     ]
    },
    {
     "data": {
      "image/png": "[encoded data removed]",
      "text/plain": [
       "<Figure size 432x288 with 1 Axes>"
      ]
     },
     "metadata": {
      "needs_background": "light"
     },
     "output_type": "display_data"
    }
   ],
   "source": [
    "plt.scatter(X[:, 3], X[:, 2]) # x축: hour y축: score\n",
    "plt.title('Score by hours')\n",
    "plt.xlabel('hours')\n",
    "plt.xlim(0, 100)\n",
    "plt.ylabel('score')\n",
    "plt.ylim(0, 100)\n",
    "plt.show()"
   ]
  }
 ],
 "metadata": {
  "kernelspec": {
   "display_name": "Python 3.10.4 64-bit",
   "language": "python",
   "name": "python3"
  },
  "language_info": {
   "codemirror_mode": {
    "name": "ipython",
    "version": 3
   },
   "file_extension": ".py",
   "mimetype": "text/x-python",
   "name": "python",
   "nbconvert_exporter": "python",
   "pygments_lexer": "ipython3",
   "version": "3.10.4"
  },
  "orig_nbformat": 4,
  "vscode": {
   "interpreter": {
    "hash": "692ab1185e8155240edb0369457deda8ee1db539fd5653321016181d0ff6acf9"
   }
  }
 },
 "nbformat": 4,
 "nbformat_minor": 2
}
