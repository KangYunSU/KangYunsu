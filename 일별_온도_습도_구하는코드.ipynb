{
 "cells": [
  {
   "cell_type": "code",
   "execution_count": 5,
   "metadata": {},
   "outputs": [],
   "source": [
    "import pandas as pd"
   ]
  },
  {
   "cell_type": "code",
   "execution_count": 7,
   "metadata": {},
   "outputs": [
    {
     "name": "stdout",
     "output_type": "stream",
     "text": [
      "                temp          s\n",
      "2021-01-01 -2.751579  68.301053\n",
      "2021-01-02 -2.215789  55.447368\n",
      "2021-01-03 -2.722105       50.9\n",
      "2021-01-04 -1.428421      59.86\n",
      "2021-01-05 -1.715789  55.565263\n",
      "...              ...        ...\n",
      "2021-12-27 -4.032632  59.958947\n",
      "2021-12-28  0.408421  69.070526\n",
      "2021-12-29  2.966316  66.233684\n",
      "2021-12-30 -0.084211  51.426316\n",
      "2021-12-31 -3.306316  44.310526\n",
      "\n",
      "[365 rows x 2 columns]\n"
     ]
    }
   ],
   "source": [
    "df = pd.read_csv('전체일자료.csv')\n",
    "\n",
    "df1 = df['date']\n",
    "dflist = df1.values.tolist()\n",
    "date = []\n",
    "for v in dflist:\n",
    "    if v in date:\n",
    "        pass\n",
    "    else:\n",
    "        date.append(v)\n",
    "\n",
    "a=df['temp'][df['date'] == date[0]].tolist()\n",
    "\n",
    "b=df['s'][df['date'] == date[0]].tolist()\n",
    "\n",
    "df_final = pd.DataFrame(index=date, columns=['temp','s'])\n",
    "\n",
    "for v in date:\n",
    "    temperature = df['temp'][df['date'] == v].tolist()\n",
    "    humidity = b=df['s'][df['date'] == v].tolist()\n",
    "    df_final.loc[v]['temp']=sum(temperature)/len(temperature)\n",
    "    df_final.loc[v]['s']=sum(humidity)/len(humidity)\n",
    "\n",
    "print(df_final)"
   ]
  },
  {
   "cell_type": "code",
   "execution_count": 8,
   "metadata": {},
   "outputs": [],
   "source": [
    "df_final.to_csv('전체온도습도평균.csv', index=False)"
   ]
  }
 ],
 "metadata": {
  "kernelspec": {
   "display_name": "Python 3.10.4 64-bit",
   "language": "python",
   "name": "python3"
  },
  "language_info": {
   "codemirror_mode": {
    "name": "ipython",
    "version": 3
   },
   "file_extension": ".py",
   "mimetype": "text/x-python",
   "name": "python",
   "nbconvert_exporter": "python",
   "pygments_lexer": "ipython3",
   "version": "3.10.4"
  },
  "orig_nbformat": 4,
  "vscode": {
   "interpreter": {
    "hash": "692ab1185e8155240edb0369457deda8ee1db539fd5653321016181d0ff6acf9"
   }
  }
 },
 "nbformat": 4,
 "nbformat_minor": 2
}
