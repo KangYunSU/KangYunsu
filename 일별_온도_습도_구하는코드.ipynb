{
 "cells": [
  {
   "cell_type": "code",
   "execution_count": 1,
   "metadata": {},
   "outputs": [],
   "source": [
    "import pandas as pd"
   ]
  },
  {
   "cell_type": "code",
   "execution_count": 2,
   "metadata": {},
   "outputs": [
    {
     "name": "stdout",
     "output_type": "stream",
     "text": [
      "                       temp          s\n",
      "2021-01-01 0:00       -8.45  51.642857\n",
      "2021-01-01 1:00   -8.907143       52.0\n",
      "2021-01-01 2:00   -9.528571  55.071429\n",
      "2021-01-01 3:00  -10.178571       56.5\n",
      "2021-01-01 4:00  -10.578571  57.571429\n",
      "...                     ...        ...\n",
      "2021-12-31 19:00       -6.1  29.285714\n",
      "2021-12-31 20:00  -6.685714  31.785714\n",
      "2021-12-31 21:00  -7.528571  35.714286\n",
      "2021-12-31 22:00      -8.15       39.0\n",
      "2021-12-31 23:00  -9.021429  43.642857\n",
      "\n",
      "[8760 rows x 2 columns]\n"
     ]
    }
   ],
   "source": [
    "df = pd.read_csv('시간대전체.csv')\n",
    "\n",
    "df1 = df['date']\n",
    "dflist = df1.values.tolist()\n",
    "date = []\n",
    "\n",
    "for v in dflist:\n",
    "    if v in date:\n",
    "        pass\n",
    "    else:\n",
    "        date.append(v)\n",
    "\n",
    "a = df['temp'][df['date'] == date[0]].tolist()\n",
    "\n",
    "b = df['s'][df['date'] == date[0]].tolist()\n",
    "\n",
    "df_final = pd.DataFrame(index=date, columns=['temp','s'])\n",
    "\n",
    "for v in date:\n",
    "    temperature = df['temp'][df['date'] == v].tolist()\n",
    "    humidity = b=df['s'][df['date'] == v].tolist()\n",
    "    df_final.loc[v]['temp']=sum(temperature)/len(temperature)\n",
    "    df_final.loc[v]['s']=sum(humidity)/len(humidity)\n",
    "\n",
    "print(df_final)"
   ]
  },
  {
   "cell_type": "code",
   "execution_count": 3,
   "metadata": {},
   "outputs": [],
   "source": [
    "df_final.to_csv('전체시간대온도습도평균.csv', index=False)"
   ]
  }
 ],
 "metadata": {
  "kernelspec": {
   "display_name": "Python 3.10.4 64-bit",
   "language": "python",
   "name": "python3"
  },
  "language_info": {
   "codemirror_mode": {
    "name": "ipython",
    "version": 3
   },
   "file_extension": ".py",
   "mimetype": "text/x-python",
   "name": "python",
   "nbconvert_exporter": "python",
   "pygments_lexer": "ipython3",
   "version": "3.10.4"
  },
  "orig_nbformat": 4,
  "vscode": {
   "interpreter": {
    "hash": "692ab1185e8155240edb0369457deda8ee1db539fd5653321016181d0ff6acf9"
   }
  }
 },
 "nbformat": 4,
 "nbformat_minor": 2
}
