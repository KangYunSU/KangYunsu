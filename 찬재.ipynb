{
 "cells": [
  {
   "cell_type": "code",
   "execution_count": 2,
   "metadata": {},
   "outputs": [],
   "source": [
    "# 공통\n",
    "import pandas as pd\n",
    "import numpy as np\n",
    "import statsmodels.api as sm\n",
    "from scipy.stats import norm\n",
    "from sklearn.metrics import mean_squared_error\n",
    "from dateutil.relativedelta import relativedelta\n",
    "import datetime\n",
    "import matplotlib.pyplot as plt"
   ]
  },
  {
   "cell_type": "code",
   "execution_count": 3,
   "metadata": {},
   "outputs": [
    {
     "data": {
      "text/html": [
       "<div>\n",
       "<style scoped>\n",
       "    .dataframe tbody tr th:only-of-type {\n",
       "        vertical-align: middle;\n",
       "    }\n",
       "\n",
       "    .dataframe tbody tr th {\n",
       "        vertical-align: top;\n",
       "    }\n",
       "\n",
       "    .dataframe thead th {\n",
       "        text-align: right;\n",
       "    }\n",
       "</style>\n",
       "<table border=\"1\" class=\"dataframe\">\n",
       "  <thead>\n",
       "    <tr style=\"text-align: right;\">\n",
       "      <th></th>\n",
       "      <th>소비 금액</th>\n",
       "      <th>이용 횟수</th>\n",
       "    </tr>\n",
       "    <tr>\n",
       "      <th>일자</th>\n",
       "      <th></th>\n",
       "      <th></th>\n",
       "    </tr>\n",
       "  </thead>\n",
       "  <tbody>\n",
       "    <tr>\n",
       "      <th>2022-12-31 19:00</th>\n",
       "      <td>52463.0</td>\n",
       "      <td>67</td>\n",
       "    </tr>\n",
       "    <tr>\n",
       "      <th>2022-12-31 20:00</th>\n",
       "      <td>43072.0</td>\n",
       "      <td>57</td>\n",
       "    </tr>\n",
       "    <tr>\n",
       "      <th>2022-12-31 21:00</th>\n",
       "      <td>41635.0</td>\n",
       "      <td>48</td>\n",
       "    </tr>\n",
       "    <tr>\n",
       "      <th>2022-12-31 22:00</th>\n",
       "      <td>43678.0</td>\n",
       "      <td>41</td>\n",
       "    </tr>\n",
       "    <tr>\n",
       "      <th>2022-12-31 23:00</th>\n",
       "      <td>58802.0</td>\n",
       "      <td>31</td>\n",
       "    </tr>\n",
       "  </tbody>\n",
       "</table>\n",
       "</div>"
      ],
      "text/plain": [
       "                    소비 금액  이용 횟수\n",
       "일자                              \n",
       "2022-12-31 19:00  52463.0     67\n",
       "2022-12-31 20:00  43072.0     57\n",
       "2022-12-31 21:00  41635.0     48\n",
       "2022-12-31 22:00  43678.0     41\n",
       "2022-12-31 23:00  58802.0     31"
      ]
     },
     "execution_count": 3,
     "metadata": {},
     "output_type": "execute_result"
    }
   ],
   "source": [
    "# Train 데이터 불러오기 (00년 ~ 21년)\n",
    "# 2021년 Train / 2022년 2022Train\n",
    "\n",
    "data = pd.read_csv('최종.csv', encoding='cp949')\n",
    "\n",
    "# data = data.drop(['소비 금액'], axis = 1)\n",
    "# data = data.drop(['평균온도'], axis = 1)\n",
    "# data = data.drop(['평균습도'], axis = 1)\n",
    "# data = data.drop(['이용 횟수'], axis = 1)\n",
    "\n",
    "# data = data[:8760]\n",
    "data = data.set_index('일자')\n",
    "data = data.fillna(method='ffill')\n",
    "data.tail()"
   ]
  },
  {
   "cell_type": "code",
   "execution_count": 4,
   "metadata": {},
   "outputs": [],
   "source": [
    "# # 2021년 예측\n",
    "\n",
    "# train = data[:8016]['소비 금액']\n",
    "\n",
    "# exog1 = data.drop('소비 금액', axis=1)[:8016]\n",
    "# exog1 = sm.add_constant(exog1)\n",
    "\n",
    "# exog2 = data.drop('소비 금액', axis=1)[8016:]\n",
    "# exog2 = sm.add_constant(exog2)"
   ]
  },
  {
   "cell_type": "code",
   "execution_count": 5,
   "metadata": {},
   "outputs": [],
   "source": [
    "# 2022년 예측\n",
    "\n",
    "train = data[:'2021-12-31 23:00']['소비 금액']\n",
    "\n",
    "exog1 = data.drop('소비 금액', axis=1)[:'2021-12-31 23:00']\n",
    "\n",
    "exog2 = data.drop('소비 금액', axis=1)['2022-01-01 0:00':]"
   ]
  },
  {
   "cell_type": "code",
   "execution_count": 6,
   "metadata": {},
   "outputs": [],
   "source": [
    "# start = datetime.datetime.strptime(\"2021-01-01\", \"%Y-%m-%d\")\n",
    "\n",
    "# # 기준 날짜에 대한 연산이 필요할 때 dateutil.relativedelta모듈의 relativedelta함수 이용\n",
    "# df_list = [start + relativedelta(hours = x) for x in range(0, len(data)) ]\n",
    "\n",
    "# # # 그리드 서치(모델에게 가장 적합한 하이퍼 파라미터를 찾기) p, q\n",
    "# import itertools\n",
    "\n",
    "# # Define the p, d and q parameters to take any value between 0 and 2\n",
    "# p = d = q = range(0, 2)\n",
    "\n",
    "# # Generate all different combinations of p, q and d triplets\n",
    "# pdq = list( itertools.product(p, d, q))\n",
    "\n",
    "# # Generate all different combinations of seasonal p, q and d triplets\n",
    "# seasonal_pdq = [ (x[0], x[1], x[2], 24)  for x in pdq ]\n",
    "\n",
    "# print('Example of parameter combinations for Seasonal ARIMA ...')\n",
    "# print('SARIMAX:  {} x {}'.format(pdq[1], seasonal_pdq[1]) )\n",
    "# print('SARIMAX:  {} x {}'.format(pdq[1], seasonal_pdq[2]) )\n",
    "# print('SARIMAX:  {} x {}'.format(pdq[2], seasonal_pdq[3]) )\n",
    "# print('SARIMAX:  {} x {}'.format(pdq[2], seasonal_pdq[4]) )"
   ]
  },
  {
   "cell_type": "code",
   "execution_count": 7,
   "metadata": {},
   "outputs": [],
   "source": [
    "# # 그리드 서치(모델에게 가장 적합한 하이퍼 파라미터를 찾기) p, q\n",
    "# import itertools\n",
    "\n",
    "# p = d = q = range(0, 2)\n",
    "# pdq = list( itertools.product(p, d, q))\n",
    "# seasonal_pdq = [ (x[0], x[1], x[2], 24)  for x in pdq ]\n",
    "\n",
    "# select_candi = 10000000\n",
    "# param_candi = ( 0, 0, 0 )\n",
    "# param_seasonal_candi = ( 0, 0, 0)\n",
    "\n",
    "# count=0\n",
    "# end_count = len(pdq)\n",
    "\n",
    "# for param in pdq:   \n",
    "#     for param_seasonal in seasonal_pdq:\n",
    "#         try:\n",
    "#             mod = sm.tsa.statespace.SARIMAX(data['소비 금액'],\n",
    "#                                             order=param,\n",
    "#                                             seasonal_order=param_seasonal,\n",
    "#                                             enforce_stationarity=False,\n",
    "#                                             enforce_invertibility=False\n",
    "#                                            )\n",
    "#             results = mod.fit()\n",
    "#             count += 1\n",
    "#             if count <= 5:\n",
    "#                 print('SARIMA{}x{}24 - AIC:{}'.format(param, param_seasonal, results.aic))\n",
    "            \n",
    "#             if results.aic < select_candi:\n",
    "#                 select_candi = results.aic\n",
    "#                 param_candi = param\n",
    "#                 param_seasonal_candi = param_seasonal\n",
    "#         except:\n",
    "#             continue\n",
    "            \n",
    "# print(param_candi, param_seasonal_candi, select_candi) \n",
    "# print('Order : {}, Seasonal_Order : {}'.format(param_candi, param_seasonal_candi))\n",
    "# print('Order : {}, Seasonal_Order : {}, AIC : {}'.format(param_candi, param_seasonal_candi, select_candi))"
   ]
  },
  {
   "cell_type": "code",
   "execution_count": 8,
   "metadata": {},
   "outputs": [],
   "source": [
    "# # # Order : (1, 1, 1), Seasonal_Order : (1, 0, 1, 24) 2057135.3018430097\n",
    "# # # order = (0, 0, 0), seasonal_order = (1, 1, 1, 24) 2061582.8357607473\n",
    "\n",
    "# def predict(exog1, exog2):\n",
    "\n",
    "#     mod = sm.tsa.statespace.SARIMAX(train, exog = exog1, \n",
    "#                             order = (0, 0, 0), seasonal_order = (1, 1, 1, 24))\n",
    "#     fit_res = mod.fit(disp = False)\n",
    "\n",
    "#     forecast = fit_res.forecast(steps = 744, exog = exog2)\n",
    "\n",
    "#     # 2021년 실제값\n",
    "#     actual = data['소비 금액'][8016:]\n",
    "\n",
    "#     rmse = np.sqrt(mean_squared_error(actual, forecast))\n",
    "    \n",
    "#     return rmse\n",
    "\n",
    "# predict(exog1, exog2)\n",
    "\n",
    "# # # 변수없이 12032081.903667446 / 12822899.653348675\n",
    "# # # 전체평균 11134711.02414859 / 14996102.978741448\n",
    "# # # 전체평균제외 13945093.033749819 / 15015795.613447221\n",
    "# # # 온도만 13141867.131440545 / 13840825.71410531\n",
    "# # # 습도만 12218263.756765371 / 13670886.534086179"
   ]
  },
  {
   "cell_type": "code",
   "execution_count": 10,
   "metadata": {},
   "outputs": [
    {
     "name": "stderr",
     "output_type": "stream",
     "text": [
      "c:\\Users\\ASIA-08\\AppData\\Local\\Programs\\Python\\Python310\\lib\\site-packages\\statsmodels\\tsa\\base\\tsa_model.py:471: ValueWarning: No frequency information was provided, so inferred frequency H will be used.\n",
      "  self._init_dates(dates, freq)\n",
      "c:\\Users\\ASIA-08\\AppData\\Local\\Programs\\Python\\Python310\\lib\\site-packages\\statsmodels\\tsa\\base\\tsa_model.py:471: ValueWarning: No frequency information was provided, so inferred frequency H will be used.\n",
      "  self._init_dates(dates, freq)\n"
     ]
    }
   ],
   "source": [
    "mod = sm.tsa.statespace.SARIMAX(train, exog = exog1, \n",
    "                        order = (0, 0, 0), seasonal_order = (1, 1, 1, 24))\n",
    "\n",
    "fit_res = mod.fit(disp = False)\n",
    "forecast = fit_res.forecast(steps = 8760, exog = exog2)\n",
    "\n",
    "#8760 일별 시간대별"
   ]
  },
  {
   "cell_type": "code",
   "execution_count": 11,
   "metadata": {},
   "outputs": [
    {
     "name": "stdout",
     "output_type": "stream",
     "text": [
      "2022-01-01 00:00:00    58874.437536\n",
      "2022-01-01 01:00:00    51710.826286\n",
      "2022-01-01 02:00:00    48468.896150\n",
      "2022-01-01 03:00:00    50825.594629\n",
      "2022-01-01 04:00:00    43764.945679\n",
      "                           ...     \n",
      "2022-12-31 19:00:00    59319.853391\n",
      "2022-12-31 20:00:00    46802.629798\n",
      "2022-12-31 21:00:00    43345.569436\n",
      "2022-12-31 22:00:00    47403.220843\n",
      "2022-12-31 23:00:00    59370.747768\n",
      "Freq: H, Name: predicted_mean, Length: 8760, dtype: float64\n"
     ]
    }
   ],
   "source": [
    "print(forecast)"
   ]
  },
  {
   "cell_type": "code",
   "execution_count": 13,
   "metadata": {},
   "outputs": [
    {
     "data": {
      "text/html": [
       "<div>\n",
       "<style scoped>\n",
       "    .dataframe tbody tr th:only-of-type {\n",
       "        vertical-align: middle;\n",
       "    }\n",
       "\n",
       "    .dataframe tbody tr th {\n",
       "        vertical-align: top;\n",
       "    }\n",
       "\n",
       "    .dataframe thead th {\n",
       "        text-align: right;\n",
       "    }\n",
       "</style>\n",
       "<table border=\"1\" class=\"dataframe\">\n",
       "  <thead>\n",
       "    <tr style=\"text-align: right;\">\n",
       "      <th></th>\n",
       "      <th>일자</th>\n",
       "      <th>소비 금액</th>\n",
       "    </tr>\n",
       "  </thead>\n",
       "  <tbody>\n",
       "  </tbody>\n",
       "</table>\n",
       "</div>"
      ],
      "text/plain": [
       "Empty DataFrame\n",
       "Columns: [일자, 소비 금액]\n",
       "Index: []"
      ]
     },
     "execution_count": 13,
     "metadata": {},
     "output_type": "execute_result"
    }
   ],
   "source": [
    "data = pd.DataFrame(forecast, columns = ['일자', '소비 금액'])\n",
    "data"
   ]
  },
  {
   "cell_type": "code",
   "execution_count": 14,
   "metadata": {},
   "outputs": [],
   "source": [
    "forecast.to_csv('2022소비금액예측.csv', index= False)"
   ]
  },
  {
   "cell_type": "code",
   "execution_count": 15,
   "metadata": {},
   "outputs": [
    {
     "data": {
      "text/html": [
       "<div>\n",
       "<style scoped>\n",
       "    .dataframe tbody tr th:only-of-type {\n",
       "        vertical-align: middle;\n",
       "    }\n",
       "\n",
       "    .dataframe tbody tr th {\n",
       "        vertical-align: top;\n",
       "    }\n",
       "\n",
       "    .dataframe thead th {\n",
       "        text-align: right;\n",
       "    }\n",
       "</style>\n",
       "<table border=\"1\" class=\"dataframe\">\n",
       "  <thead>\n",
       "    <tr style=\"text-align: right;\">\n",
       "      <th></th>\n",
       "      <th>소비 금액</th>\n",
       "    </tr>\n",
       "    <tr>\n",
       "      <th>일자</th>\n",
       "      <th></th>\n",
       "    </tr>\n",
       "  </thead>\n",
       "  <tbody>\n",
       "    <tr>\n",
       "      <th>2022-01-01 0:00</th>\n",
       "      <td>1149035</td>\n",
       "    </tr>\n",
       "    <tr>\n",
       "      <th>2022-01-01 1:00</th>\n",
       "      <td>601799</td>\n",
       "    </tr>\n",
       "    <tr>\n",
       "      <th>2022-01-01 2:00</th>\n",
       "      <td>305773</td>\n",
       "    </tr>\n",
       "    <tr>\n",
       "      <th>2022-01-01 3:00</th>\n",
       "      <td>193675</td>\n",
       "    </tr>\n",
       "    <tr>\n",
       "      <th>2022-01-01 4:00</th>\n",
       "      <td>134296</td>\n",
       "    </tr>\n",
       "    <tr>\n",
       "      <th>...</th>\n",
       "      <td>...</td>\n",
       "    </tr>\n",
       "    <tr>\n",
       "      <th>2022-12-31 19:00</th>\n",
       "      <td>3609981</td>\n",
       "    </tr>\n",
       "    <tr>\n",
       "      <th>2022-12-31 20:00</th>\n",
       "      <td>3022154</td>\n",
       "    </tr>\n",
       "    <tr>\n",
       "      <th>2022-12-31 21:00</th>\n",
       "      <td>2551893</td>\n",
       "    </tr>\n",
       "    <tr>\n",
       "      <th>2022-12-31 22:00</th>\n",
       "      <td>2081632</td>\n",
       "    </tr>\n",
       "    <tr>\n",
       "      <th>2022-12-31 23:00</th>\n",
       "      <td>1493805</td>\n",
       "    </tr>\n",
       "  </tbody>\n",
       "</table>\n",
       "<p>8760 rows × 1 columns</p>\n",
       "</div>"
      ],
      "text/plain": [
       "                    소비 금액\n",
       "일자                       \n",
       "2022-01-01 0:00   1149035\n",
       "2022-01-01 1:00    601799\n",
       "2022-01-01 2:00    305773\n",
       "2022-01-01 3:00    193675\n",
       "2022-01-01 4:00    134296\n",
       "...                   ...\n",
       "2022-12-31 19:00  3609981\n",
       "2022-12-31 20:00  3022154\n",
       "2022-12-31 21:00  2551893\n",
       "2022-12-31 22:00  2081632\n",
       "2022-12-31 23:00  1493805\n",
       "\n",
       "[8760 rows x 1 columns]"
      ]
     },
     "execution_count": 15,
     "metadata": {},
     "output_type": "execute_result"
    }
   ],
   "source": [
    "pred = pd.read_csv('최종2022예측값.csv', encoding = 'cp949')\n",
    "pred = pred.set_index(['일자'])\n",
    "pred"
   ]
  },
  {
   "cell_type": "markdown",
   "metadata": {},
   "source": []
  }
 ],
 "metadata": {
  "kernelspec": {
   "display_name": "Python 3.10.4 64-bit",
   "language": "python",
   "name": "python3"
  },
  "language_info": {
   "codemirror_mode": {
    "name": "ipython",
    "version": 3
   },
   "file_extension": ".py",
   "mimetype": "text/x-python",
   "name": "python",
   "nbconvert_exporter": "python",
   "pygments_lexer": "ipython3",
   "version": "3.10.4"
  },
  "orig_nbformat": 4,
  "vscode": {
   "interpreter": {
    "hash": "692ab1185e8155240edb0369457deda8ee1db539fd5653321016181d0ff6acf9"
   }
  }
 },
 "nbformat": 4,
 "nbformat_minor": 2
}
