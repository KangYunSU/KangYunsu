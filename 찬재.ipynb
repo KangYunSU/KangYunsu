{
 "cells": [
  {
   "cell_type": "code",
   "execution_count": 1,
   "metadata": {},
   "outputs": [],
   "source": [
    "# 공통\n",
    "import pandas as pd\n",
    "import numpy as np\n",
    "import statsmodels.api as sm\n",
    "from scipy.stats import norm\n",
    "from sklearn.metrics import mean_squared_error"
   ]
  },
  {
   "cell_type": "code",
   "execution_count": 14,
   "metadata": {},
   "outputs": [
    {
     "data": {
      "text/html": [
       "<div>\n",
       "<style scoped>\n",
       "    .dataframe tbody tr th:only-of-type {\n",
       "        vertical-align: middle;\n",
       "    }\n",
       "\n",
       "    .dataframe tbody tr th {\n",
       "        vertical-align: top;\n",
       "    }\n",
       "\n",
       "    .dataframe thead th {\n",
       "        text-align: right;\n",
       "    }\n",
       "</style>\n",
       "<table border=\"1\" class=\"dataframe\">\n",
       "  <thead>\n",
       "    <tr style=\"text-align: right;\">\n",
       "      <th></th>\n",
       "      <th>total</th>\n",
       "      <th>china</th>\n",
       "      <th>usa</th>\n",
       "      <th>vietnam</th>\n",
       "      <th>hongkong</th>\n",
       "      <th>japan</th>\n",
       "      <th>korea_index</th>\n",
       "      <th>oil</th>\n",
       "    </tr>\n",
       "    <tr>\n",
       "      <th>date</th>\n",
       "      <th></th>\n",
       "      <th></th>\n",
       "      <th></th>\n",
       "      <th></th>\n",
       "      <th></th>\n",
       "      <th></th>\n",
       "      <th></th>\n",
       "      <th></th>\n",
       "    </tr>\n",
       "  </thead>\n",
       "  <tbody>\n",
       "    <tr>\n",
       "      <th>2003-03-01</th>\n",
       "      <td>15378850237</td>\n",
       "      <td>2659292622</td>\n",
       "      <td>2749138408</td>\n",
       "      <td>252511469</td>\n",
       "      <td>1072609239</td>\n",
       "      <td>1371507580</td>\n",
       "      <td>98.53373</td>\n",
       "      <td>33.16</td>\n",
       "    </tr>\n",
       "    <tr>\n",
       "      <th>2003-04-01</th>\n",
       "      <td>15720592277</td>\n",
       "      <td>2560138383</td>\n",
       "      <td>2807774807</td>\n",
       "      <td>254067765</td>\n",
       "      <td>1138131661</td>\n",
       "      <td>1406227585</td>\n",
       "      <td>98.28757</td>\n",
       "      <td>28.14</td>\n",
       "    </tr>\n",
       "    <tr>\n",
       "      <th>2003-05-01</th>\n",
       "      <td>14676091579</td>\n",
       "      <td>2475020616</td>\n",
       "      <td>2633439848</td>\n",
       "      <td>236404469</td>\n",
       "      <td>1119015400</td>\n",
       "      <td>1350886060</td>\n",
       "      <td>98.22107</td>\n",
       "      <td>28.07</td>\n",
       "    </tr>\n",
       "    <tr>\n",
       "      <th>2003-06-01</th>\n",
       "      <td>15656327385</td>\n",
       "      <td>2609510640</td>\n",
       "      <td>2803208194</td>\n",
       "      <td>228234538</td>\n",
       "      <td>1154056078</td>\n",
       "      <td>1319147409</td>\n",
       "      <td>98.32925</td>\n",
       "      <td>30.52</td>\n",
       "    </tr>\n",
       "    <tr>\n",
       "      <th>2003-07-01</th>\n",
       "      <td>15431714254</td>\n",
       "      <td>2964910238</td>\n",
       "      <td>2497304252</td>\n",
       "      <td>194171150</td>\n",
       "      <td>1103554595</td>\n",
       "      <td>1382143845</td>\n",
       "      <td>98.57484</td>\n",
       "      <td>30.70</td>\n",
       "    </tr>\n",
       "  </tbody>\n",
       "</table>\n",
       "</div>"
      ],
      "text/plain": [
       "                  total       china         usa    vietnam    hongkong  \\\n",
       "date                                                                     \n",
       "2003-03-01  15378850237  2659292622  2749138408  252511469  1072609239   \n",
       "2003-04-01  15720592277  2560138383  2807774807  254067765  1138131661   \n",
       "2003-05-01  14676091579  2475020616  2633439848  236404469  1119015400   \n",
       "2003-06-01  15656327385  2609510640  2803208194  228234538  1154056078   \n",
       "2003-07-01  15431714254  2964910238  2497304252  194171150  1103554595   \n",
       "\n",
       "                 japan  korea_index    oil  \n",
       "date                                        \n",
       "2003-03-01  1371507580     98.53373  33.16  \n",
       "2003-04-01  1406227585     98.28757  28.14  \n",
       "2003-05-01  1350886060     98.22107  28.07  \n",
       "2003-06-01  1319147409     98.32925  30.52  \n",
       "2003-07-01  1382143845     98.57484  30.70  "
      ]
     },
     "execution_count": 14,
     "metadata": {},
     "output_type": "execute_result"
    }
   ],
   "source": [
    "# Train 데이터 불러오기 (00년 ~ 21년)\n",
    "# 2021년 Train / 2022년 2022Train\n",
    "\n",
    "data = pd.read_csv('HTrain.csv')\n",
    "data = data[38:]\n",
    "# data = data.drop(['total'], axis = 1)\n",
    "\n",
    "# data = data.drop(['china'],axis=1)\n",
    "# data = data.drop(['usa'], axis = 1)\n",
    "# data = data.drop(['vietnam'], axis = 1)\n",
    "# data = data.drop(['hongkong'], axis = 1)\n",
    "# data = data.drop(['japan'], axis = 1)\n",
    "\n",
    "# data = data.drop(['korea_index'], axis = 1)\n",
    "data = data.drop(['oecd_index'], axis = 1)\n",
    "data = data.drop(['ex_rate'], axis = 1)\n",
    "# data = data.drop(['oil'], axis = 1)\n",
    "    \n",
    "data = data.set_index('date')\n",
    "data.head()"
   ]
  },
  {
   "cell_type": "code",
   "execution_count": 15,
   "metadata": {},
   "outputs": [],
   "source": [
    "# 2021년 예측\n",
    "\n",
    "train = data[:'2021-06-01']['total']\n",
    "\n",
    "exog1 = data.drop('total', axis=1)[:'2021-06-01']\n",
    "exog1 = sm.add_constant(exog1)\n",
    "\n",
    "exog2 = data.drop('total', axis=1)['2021-07-01':]\n",
    "exog2 = sm.add_constant(exog2)\n"
   ]
  },
  {
   "cell_type": "code",
   "execution_count": 81,
   "metadata": {},
   "outputs": [],
   "source": [
    "# # 2022년 예측\n",
    "\n",
    "# train = data[:'2021-12-01']['japan']\n",
    "\n",
    "# exog1 = data.drop('japan', axis=1)[:'2021-12-01']\n",
    "\n",
    "# exog2 = data.drop('japan', axis=1)['2022-01-01':]"
   ]
  },
  {
   "cell_type": "code",
   "execution_count": 16,
   "metadata": {},
   "outputs": [],
   "source": [
    "def predict(exog1, exog2):\n",
    "\n",
    "    mod = sm.tsa.statespace.SARIMAX(train, exog = exog1, order = (1,1,0), seasonal_order = (1, 1, 1, 12))\n",
    "    fit_res = mod.fit(disp = False)\n",
    "\n",
    "    forecast = fit_res.forecast(steps = 6, exog = exog2)\n",
    "\n",
    "    # 2021년 실제값\n",
    "    actual = data['total'][-6:]\n",
    "\n",
    "    # # 2022년 실제값\n",
    "    # actual = [2619529000, 2480632000, 2778454000, 2637731000, 2831080000]\n",
    "\n",
    "    rmse = np.sqrt(mean_squared_error(actual, forecast))\n",
    "    \n",
    "    return rmse\n",
    "\n",
    "# , seasonal_order = (0, 1, 1 , 12)"
   ]
  },
  {
   "cell_type": "code",
   "execution_count": 17,
   "metadata": {},
   "outputs": [
    {
     "name": "stderr",
     "output_type": "stream",
     "text": [
      "c:\\Users\\ASIA-08\\AppData\\Local\\Programs\\Python\\Python310\\lib\\site-packages\\statsmodels\\tsa\\base\\tsa_model.py:471: ValueWarning: No frequency information was provided, so inferred frequency MS will be used.\n",
      "  self._init_dates(dates, freq)\n",
      "c:\\Users\\ASIA-08\\AppData\\Local\\Programs\\Python\\Python310\\lib\\site-packages\\statsmodels\\tsa\\base\\tsa_model.py:471: ValueWarning: No frequency information was provided, so inferred frequency MS will be used.\n",
      "  self._init_dates(dates, freq)\n"
     ]
    },
    {
     "data": {
      "text/plain": [
       "914333331.4593843"
      ]
     },
     "execution_count": 17,
     "metadata": {},
     "output_type": "execute_result"
    }
   ],
   "source": [
    "predict(exog1, exog2)"
   ]
  },
  {
   "cell_type": "code",
   "execution_count": 10,
   "metadata": {},
   "outputs": [
    {
     "name": "stderr",
     "output_type": "stream",
     "text": [
      "c:\\Users\\ASIA-08\\AppData\\Local\\Programs\\Python\\Python310\\lib\\site-packages\\statsmodels\\tsa\\base\\tsa_model.py:471: ValueWarning: No frequency information was provided, so inferred frequency MS will be used.\n",
      "  self._init_dates(dates, freq)\n",
      "c:\\Users\\ASIA-08\\AppData\\Local\\Programs\\Python\\Python310\\lib\\site-packages\\statsmodels\\tsa\\base\\tsa_model.py:471: ValueWarning: No frequency information was provided, so inferred frequency MS will be used.\n",
      "  self._init_dates(dates, freq)\n"
     ]
    },
    {
     "data": {
      "text/plain": [
       "2021-07-01    5.521436e+10\n",
       "2021-08-01    5.326373e+10\n",
       "2021-09-01    5.559890e+10\n",
       "2021-10-01    5.438966e+10\n",
       "2021-11-01    5.757340e+10\n",
       "2021-12-01    5.995990e+10\n",
       "Freq: MS, Name: predicted_mean, dtype: float64"
      ]
     },
     "execution_count": 10,
     "metadata": {},
     "output_type": "execute_result"
    }
   ],
   "source": [
    "# mod = sm.tsa.statespace.SARIMAX(train, exog = exog1, order = (1,1,1), seasonal_order = (0, 1, 1 , 12))\n",
    "# fit_res = mod.fit(disp = False)\n",
    "\n",
    "# forecast = fit_res.forecast(steps = 6, exog = exog2)\n",
    "\n",
    "# forecast"
   ]
  },
  {
   "cell_type": "code",
   "execution_count": 143,
   "metadata": {},
   "outputs": [],
   "source": [
    "# forecast.to_csv('koreaoil_2021.csv', header=['koreaoil_2021'], index=False)"
   ]
  },
  {
   "cell_type": "markdown",
   "metadata": {},
   "source": []
  }
 ],
 "metadata": {
  "kernelspec": {
   "display_name": "Python 3.10.4 64-bit",
   "language": "python",
   "name": "python3"
  },
  "language_info": {
   "codemirror_mode": {
    "name": "ipython",
    "version": 3
   },
   "file_extension": ".py",
   "mimetype": "text/x-python",
   "name": "python",
   "nbconvert_exporter": "python",
   "pygments_lexer": "ipython3",
   "version": "3.10.4"
  },
  "orig_nbformat": 4,
  "vscode": {
   "interpreter": {
    "hash": "692ab1185e8155240edb0369457deda8ee1db539fd5653321016181d0ff6acf9"
   }
  }
 },
 "nbformat": 4,
 "nbformat_minor": 2
}
