{
 "cells": [
  {
   "cell_type": "code",
   "execution_count": 1,
   "metadata": {},
   "outputs": [],
   "source": [
    "import pandas as pd\n",
    "import statsmodels.api as sm"
   ]
  },
  {
   "cell_type": "code",
   "execution_count": 6,
   "metadata": {},
   "outputs": [
    {
     "data": {
      "text/html": [
       "<div>\n",
       "<style scoped>\n",
       "    .dataframe tbody tr th:only-of-type {\n",
       "        vertical-align: middle;\n",
       "    }\n",
       "\n",
       "    .dataframe tbody tr th {\n",
       "        vertical-align: top;\n",
       "    }\n",
       "\n",
       "    .dataframe thead th {\n",
       "        text-align: right;\n",
       "    }\n",
       "</style>\n",
       "<table border=\"1\" class=\"dataframe\">\n",
       "  <thead>\n",
       "    <tr style=\"text-align: right;\">\n",
       "      <th></th>\n",
       "      <th>소비 금액</th>\n",
       "      <th>이용 횟수</th>\n",
       "    </tr>\n",
       "    <tr>\n",
       "      <th>일자</th>\n",
       "      <th></th>\n",
       "      <th></th>\n",
       "    </tr>\n",
       "  </thead>\n",
       "  <tbody>\n",
       "    <tr>\n",
       "      <th>2022-12-31 19:00</th>\n",
       "      <td>52463.0</td>\n",
       "      <td>67</td>\n",
       "    </tr>\n",
       "    <tr>\n",
       "      <th>2022-12-31 20:00</th>\n",
       "      <td>43072.0</td>\n",
       "      <td>57</td>\n",
       "    </tr>\n",
       "    <tr>\n",
       "      <th>2022-12-31 21:00</th>\n",
       "      <td>41635.0</td>\n",
       "      <td>48</td>\n",
       "    </tr>\n",
       "    <tr>\n",
       "      <th>2022-12-31 22:00</th>\n",
       "      <td>43678.0</td>\n",
       "      <td>41</td>\n",
       "    </tr>\n",
       "    <tr>\n",
       "      <th>2022-12-31 23:00</th>\n",
       "      <td>58802.0</td>\n",
       "      <td>31</td>\n",
       "    </tr>\n",
       "  </tbody>\n",
       "</table>\n",
       "</div>"
      ],
      "text/plain": [
       "                    소비 금액  이용 횟수\n",
       "일자                              \n",
       "2022-12-31 19:00  52463.0     67\n",
       "2022-12-31 20:00  43072.0     57\n",
       "2022-12-31 21:00  41635.0     48\n",
       "2022-12-31 22:00  43678.0     41\n",
       "2022-12-31 23:00  58802.0     31"
      ]
     },
     "execution_count": 6,
     "metadata": {},
     "output_type": "execute_result"
    }
   ],
   "source": [
    "# 데이터 불러오기\n",
    "data = pd.read_csv('최종.csv', encoding='cp949')\n",
    "\n",
    "# '일자'를 인덱스로 설정\n",
    "data = data.set_index('일자')"
   ]
  },
  {
   "cell_type": "code",
   "execution_count": 4,
   "metadata": {},
   "outputs": [],
   "source": [
    "# 데이터 셋\n",
    "train = data[:'2021-12-31 23:00']['소비 금액']\n",
    "\n",
    "exog1 = data.drop('소비 금액', axis=1)[:'2021-12-31 23:00']\n",
    "\n",
    "exog2 = data.drop('소비 금액', axis=1)['2022-01-01 0:00':]"
   ]
  },
  {
   "cell_type": "code",
   "execution_count": 5,
   "metadata": {},
   "outputs": [
    {
     "name": "stderr",
     "output_type": "stream",
     "text": [
      "c:\\Users\\ASIA-08\\AppData\\Local\\Programs\\Python\\Python310\\lib\\site-packages\\statsmodels\\tsa\\base\\tsa_model.py:471: ValueWarning: No frequency information was provided, so inferred frequency H will be used.\n",
      "  self._init_dates(dates, freq)\n",
      "c:\\Users\\ASIA-08\\AppData\\Local\\Programs\\Python\\Python310\\lib\\site-packages\\statsmodels\\tsa\\base\\tsa_model.py:471: ValueWarning: No frequency information was provided, so inferred frequency H will be used.\n",
      "  self._init_dates(dates, freq)\n"
     ]
    },
    {
     "data": {
      "text/plain": [
       "2022-01-01 00:00:00    58874.437536\n",
       "2022-01-01 01:00:00    51710.826286\n",
       "2022-01-01 02:00:00    48468.896150\n",
       "2022-01-01 03:00:00    50825.594629\n",
       "2022-01-01 04:00:00    43764.945679\n",
       "                           ...     \n",
       "2022-12-31 19:00:00    59319.853391\n",
       "2022-12-31 20:00:00    46802.629798\n",
       "2022-12-31 21:00:00    43345.569436\n",
       "2022-12-31 22:00:00    47403.220843\n",
       "2022-12-31 23:00:00    59370.747768\n",
       "Freq: H, Name: predicted_mean, Length: 8760, dtype: float64"
      ]
     },
     "execution_count": 5,
     "metadata": {},
     "output_type": "execute_result"
    }
   ],
   "source": [
    "# 모델\n",
    "mod = sm.tsa.statespace.SARIMAX(train, exog = exog1, \n",
    "                        order = (0, 0, 0), seasonal_order = (1, 1, 1, 24))\n",
    "\n",
    "fit_res = mod.fit(disp = False)\n",
    "forecast = fit_res.forecast(steps = 8760, exog = exog2)\n",
    "\n",
    "forecast"
   ]
  }
 ],
 "metadata": {
  "kernelspec": {
   "display_name": "Python 3.10.4 64-bit",
   "language": "python",
   "name": "python3"
  },
  "language_info": {
   "codemirror_mode": {
    "name": "ipython",
    "version": 3
   },
   "file_extension": ".py",
   "mimetype": "text/x-python",
   "name": "python",
   "nbconvert_exporter": "python",
   "pygments_lexer": "ipython3",
   "version": "3.10.4"
  },
  "orig_nbformat": 4,
  "vscode": {
   "interpreter": {
    "hash": "692ab1185e8155240edb0369457deda8ee1db539fd5653321016181d0ff6acf9"
   }
  }
 },
 "nbformat": 4,
 "nbformat_minor": 2
}
