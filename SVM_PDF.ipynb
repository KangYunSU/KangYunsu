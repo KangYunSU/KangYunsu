{
 "cells": [
  {
   "cell_type": "code",
   "execution_count": null,
   "metadata": {},
   "outputs": [],
   "source": []
  }
 ],
 "metadata": {
  "kernelspec": {
   "display_name": "Python 3.10.4 64-bit",
   "language": "python",
   "name": "python3"
  },
  "language_info": {
   "name": "python",
   "version": "3.10.4"
  },
  "orig_nbformat": 4,
  "vscode": {
   "interpreter": {
    "hash": "033226dd330b46fd1414d501f82e7e5add96f6da9572c55259e512efcccfd085"
   }
  }
 },
 "nbformat": 4,
 "nbformat_minor": 2
}
