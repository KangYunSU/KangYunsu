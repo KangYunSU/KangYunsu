{
 "cells": [
  {
   "cell_type": "code",
   "execution_count": null,
   "metadata": {},
   "outputs": [],
   "source": [
    "import pandas as pd\n",
    "import numpy as np\n",
    "import pymysql\n",
    "from sklearn.metrics.pairwise import cosine_similarity"
   ]
  },
  {
   "cell_type": "code",
   "execution_count": null,
   "metadata": {},
   "outputs": [],
   "source": [
    "conn = pymysql.connect(host='127.0.0.1', user='root', password='kyjin0413!', db='lpointsample', charset='utf8')\n",
    "cur = conn.cursor()\n",
    "cur.execute(\"select * from 구매점수_소분류;\")\n",
    "\n",
    "result = cur.fetchall()\n",
    "\n",
    "conn.commit()\n",
    "conn.close()\n",
    "\n",
    "df = pd.DataFrame(result)\n",
    "df"
   ]
  },
  {
   "cell_type": "code",
   "execution_count": null,
   "metadata": {},
   "outputs": [],
   "source": [
    "df.columns = ['cust', '소분류', '수량', '금액']\n",
    "df.pivot('cust','소분류', '수량')"
   ]
  },
  {
   "cell_type": "code",
   "execution_count": null,
   "metadata": {},
   "outputs": [],
   "source": [
    "# 사용자 유사도\n",
    "df_pivot4user = df.pivot('cust','소분류','수량')\n",
    "# 품목별 유사도\n",
    "df_pivot4category = df.pivot('소분류', 'cust', '수량')"
   ]
  },
  {
   "cell_type": "code",
   "execution_count": null,
   "metadata": {},
   "outputs": [],
   "source": [
    "df_pivot4user = df_pivot4user.fillna(0)\n",
    "df_pivot4category = df_pivot4category.fillna(0)"
   ]
  },
  {
   "cell_type": "code",
   "execution_count": null,
   "metadata": {},
   "outputs": [],
   "source": [
    "cos_user = cosine_similarity(df_pivot4user, df_pivot4user)\n",
    "df_cos = pd.DataFrame(data = cos_user, index=df_pivot4user.index, columns=df_pivot4user.index)"
   ]
  },
  {
   "cell_type": "code",
   "execution_count": null,
   "metadata": {},
   "outputs": [],
   "source": [
    "def sim_user(user_id):\n",
    "  sim_user1 = pd.DataFrame(sim_user(user_id))\n",
    "  sim_user1.reset_index(drop=False, inplace=True)\n",
    "  sim_user1 = df[sim_user1.loc[0]['cust'] == df['cust']]\n",
    "  return sim_user1[['소분류','수량']].sort_values(by= '수량', ascending=False)[0:3]"
   ]
  },
  {
   "cell_type": "code",
   "execution_count": null,
   "metadata": {},
   "outputs": [],
   "source": [
    "sim_user('M000136117')"
   ]
  }
 ],
 "metadata": {
  "kernelspec": {
   "display_name": "Python 3.10.4 64-bit",
   "language": "python",
   "name": "python3"
  },
  "language_info": {
   "codemirror_mode": {
    "name": "ipython",
    "version": 3
   },
   "file_extension": ".py",
   "mimetype": "text/x-python",
   "name": "python",
   "nbconvert_exporter": "python",
   "pygments_lexer": "ipython3",
   "version": "3.10.4"
  },
  "orig_nbformat": 4,
  "vscode": {
   "interpreter": {
    "hash": "692ab1185e8155240edb0369457deda8ee1db539fd5653321016181d0ff6acf9"
   }
  }
 },
 "nbformat": 4,
 "nbformat_minor": 2
}
