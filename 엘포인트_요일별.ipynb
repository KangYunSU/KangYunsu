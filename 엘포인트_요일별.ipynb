{
 "cells": [
  {
   "cell_type": "code",
   "execution_count": 31,
   "metadata": {},
   "outputs": [],
   "source": [
    "import pymysql\n",
    "import pandas as pd\n",
    "\n",
    "# 공통\n",
    "%matplotlib inline\n",
    "import numpy as np\n",
    "import statsmodels.api as sm\n",
    "\n",
    "# 예측 1\n",
    "import matplotlib.pyplot as plt\n",
    "import datetime\n",
    "from dateutil.relativedelta import relativedelta\n",
    "import seaborn as sns\n",
    "from statsmodels.tsa.stattools import acf\n",
    "from statsmodels.tsa.stattools import pacf\n",
    "from statsmodels.tsa.seasonal import seasonal_decompose\n",
    "\n",
    "# 예측 2\n",
    "from scipy.stats import norm\n",
    "from tqdm import tqdm\n",
    "from sklearn.metrics import mean_squared_error"
   ]
  },
  {
   "cell_type": "code",
   "execution_count": 43,
   "metadata": {},
   "outputs": [
    {
     "data": {
      "text/html": [
       "<div>\n",
       "<style scoped>\n",
       "    .dataframe tbody tr th:only-of-type {\n",
       "        vertical-align: middle;\n",
       "    }\n",
       "\n",
       "    .dataframe tbody tr th {\n",
       "        vertical-align: top;\n",
       "    }\n",
       "\n",
       "    .dataframe thead th {\n",
       "        text-align: right;\n",
       "    }\n",
       "</style>\n",
       "<table border=\"1\" class=\"dataframe\">\n",
       "  <thead>\n",
       "    <tr style=\"text-align: right;\">\n",
       "      <th></th>\n",
       "      <th>date</th>\n",
       "      <th>time</th>\n",
       "      <th>price</th>\n",
       "      <th>count_days</th>\n",
       "    </tr>\n",
       "  </thead>\n",
       "  <tbody>\n",
       "    <tr>\n",
       "      <th>0</th>\n",
       "      <td>2021-01-01</td>\n",
       "      <td>0</td>\n",
       "      <td>2683380</td>\n",
       "      <td>72</td>\n",
       "    </tr>\n",
       "    <tr>\n",
       "      <th>1</th>\n",
       "      <td>2021-01-01</td>\n",
       "      <td>1</td>\n",
       "      <td>499360</td>\n",
       "      <td>11</td>\n",
       "    </tr>\n",
       "    <tr>\n",
       "      <th>2</th>\n",
       "      <td>2021-01-01</td>\n",
       "      <td>2</td>\n",
       "      <td>64176</td>\n",
       "      <td>10</td>\n",
       "    </tr>\n",
       "    <tr>\n",
       "      <th>3</th>\n",
       "      <td>2021-01-01</td>\n",
       "      <td>3</td>\n",
       "      <td>885833</td>\n",
       "      <td>11</td>\n",
       "    </tr>\n",
       "    <tr>\n",
       "      <th>4</th>\n",
       "      <td>2021-01-01</td>\n",
       "      <td>5</td>\n",
       "      <td>37630</td>\n",
       "      <td>1</td>\n",
       "    </tr>\n",
       "  </tbody>\n",
       "</table>\n",
       "</div>"
      ],
      "text/plain": [
       "         date  time    price  count_days\n",
       "0  2021-01-01     0  2683380          72\n",
       "1  2021-01-01     1   499360          11\n",
       "2  2021-01-01     2    64176          10\n",
       "3  2021-01-01     3   885833          11\n",
       "4  2021-01-01     5    37630           1"
      ]
     },
     "execution_count": 43,
     "metadata": {},
     "output_type": "execute_result"
    }
   ],
   "source": [
    "con = pymysql.connect(host = '127.0.0.1', user = 'root', password = 'kyjin0413!',\n",
    "                       db = 'lpointsample', charset = 'utf8')\n",
    "cur = con.cursor(pymysql.cursors.DictCursor)\n",
    "cur.execute(\n",
    "    \"select de_dt as 날짜, de_hr as 시간대, sum(buy_am) as 금액 ,count(*) as 이용횟수 from 엘페이이용_view group by de_dt, de_hr order by de_dt, de_hr\")\n",
    "result=cur.fetchall()\n",
    "con.commit()\n",
    "con.close()\n",
    "df= pd.DataFrame(result)\n",
    "# print(df.head(10))\n",
    "\n",
    "df.columns = ['date', 'time', 'price', 'count_days']\n",
    "# df = df.drop(['date'], axis = 1)\n",
    "df.head()"
   ]
  },
  {
   "cell_type": "code",
   "execution_count": 53,
   "metadata": {},
   "outputs": [],
   "source": [
    "df.to_csv('시계열_일별시간대.csv', header=['date', 'time', 'price', 'count_days'], index=False)"
   ]
  },
  {
   "cell_type": "code",
   "execution_count": 50,
   "metadata": {},
   "outputs": [
    {
     "data": {
      "text/html": [
       "<div>\n",
       "<style scoped>\n",
       "    .dataframe tbody tr th:only-of-type {\n",
       "        vertical-align: middle;\n",
       "    }\n",
       "\n",
       "    .dataframe tbody tr th {\n",
       "        vertical-align: top;\n",
       "    }\n",
       "\n",
       "    .dataframe thead th {\n",
       "        text-align: right;\n",
       "    }\n",
       "</style>\n",
       "<table border=\"1\" class=\"dataframe\">\n",
       "  <thead>\n",
       "    <tr style=\"text-align: right;\">\n",
       "      <th></th>\n",
       "      <th>date</th>\n",
       "      <th>time</th>\n",
       "      <th>price</th>\n",
       "      <th>count_days</th>\n",
       "    </tr>\n",
       "  </thead>\n",
       "  <tbody>\n",
       "    <tr>\n",
       "      <th>2021-01-01</th>\n",
       "      <td>2021-01-01</td>\n",
       "      <td>0</td>\n",
       "      <td>2683380</td>\n",
       "      <td>72</td>\n",
       "    </tr>\n",
       "    <tr>\n",
       "      <th>2021-01-02</th>\n",
       "      <td>2021-01-01</td>\n",
       "      <td>1</td>\n",
       "      <td>499360</td>\n",
       "      <td>11</td>\n",
       "    </tr>\n",
       "    <tr>\n",
       "      <th>2021-01-03</th>\n",
       "      <td>2021-01-01</td>\n",
       "      <td>2</td>\n",
       "      <td>64176</td>\n",
       "      <td>10</td>\n",
       "    </tr>\n",
       "    <tr>\n",
       "      <th>2021-01-04</th>\n",
       "      <td>2021-01-01</td>\n",
       "      <td>3</td>\n",
       "      <td>885833</td>\n",
       "      <td>11</td>\n",
       "    </tr>\n",
       "    <tr>\n",
       "      <th>2021-01-05</th>\n",
       "      <td>2021-01-01</td>\n",
       "      <td>5</td>\n",
       "      <td>37630</td>\n",
       "      <td>1</td>\n",
       "    </tr>\n",
       "  </tbody>\n",
       "</table>\n",
       "</div>"
      ],
      "text/plain": [
       "                  date  time    price  count_days\n",
       "2021-01-01  2021-01-01     0  2683380          72\n",
       "2021-01-02  2021-01-01     1   499360          11\n",
       "2021-01-03  2021-01-01     2    64176          10\n",
       "2021-01-04  2021-01-01     3   885833          11\n",
       "2021-01-05  2021-01-01     5    37630           1"
      ]
     },
     "execution_count": 50,
     "metadata": {},
     "output_type": "execute_result"
    }
   ],
   "source": [
    "# # 인덱스 지정(?)\n",
    "\n",
    "# # strptime은 날짜와 시간 형식의 문자열을 datetime으로 변환해 줌\n",
    "# # strftime은 날짜와 시간(datetime)을 문자열로 출력\n",
    "# start = datetime.datetime.strptime(\"2021-01-01\", \"%Y-%m-%d\")\n",
    "\n",
    "# # 기준 날짜에 대한 연산이 필요할 때 dateutil.relativedelta모듈의 relativedelta함수 이용\n",
    "# df_list = [start + relativedelta(days = x) for x in range(0, len(df)) ]\n",
    "\n",
    "# df['index'] = df_list\n",
    "\n",
    "# # set_index는 데이터프레임을 먼저 불러온 후, 특정 열을 인덱스로 설정할 때 사용\n",
    "# df.set_index( ['index'], inplace=True) \n",
    "\n",
    "# # index 출력 X\n",
    "# df.index.name=None\n",
    "# df.head()"
   ]
  },
  {
   "cell_type": "code",
   "execution_count": 22,
   "metadata": {},
   "outputs": [
    {
     "data": {
      "text/plain": [
       "week     object\n",
       "price     int64\n",
       "dtype: object"
      ]
     },
     "execution_count": 22,
     "metadata": {},
     "output_type": "execute_result"
    }
   ],
   "source": [
    "df.dtypes"
   ]
  },
  {
   "cell_type": "code",
   "execution_count": 23,
   "metadata": {},
   "outputs": [],
   "source": [
    "# price가 object임\n",
    "df = df.astype({'price':'int64'})"
   ]
  },
  {
   "cell_type": "code",
   "execution_count": 24,
   "metadata": {},
   "outputs": [
    {
     "data": {
      "text/plain": [
       "week     object\n",
       "price     int64\n",
       "dtype: object"
      ]
     },
     "execution_count": 24,
     "metadata": {},
     "output_type": "execute_result"
    }
   ],
   "source": [
    "df.dtypes"
   ]
  },
  {
   "cell_type": "code",
   "execution_count": 25,
   "metadata": {},
   "outputs": [
    {
     "name": "stdout",
     "output_type": "stream",
     "text": [
      "==============================================================================\n",
      "                 coef    std err          z      P>|z|      [0.025      0.975]\n",
      "------------------------------------------------------------------------------\n",
      "ar.L1          0.7156      0.258      2.777      0.005       0.211       1.221\n",
      "ma.L1         -0.4263      0.317     -1.347      0.178      -1.047       0.194\n",
      "ma.S.L7       -0.8863      0.076    -11.711      0.000      -1.035      -0.738\n",
      "sigma2       2.81e+15        nan        nan        nan         nan         nan\n",
      "==============================================================================\n"
     ]
    }
   ],
   "source": [
    "# coef값은 0에서 가장 떨어졌을때 가장 이상적\n",
    "# p 값은 0과 가장 가까울때가 가장 좋습니다\n",
    "\n",
    "mod = sm.tsa.statespace.SARIMAX(\n",
    "    df['price'],\n",
    "    order = (1, 1, 1),\n",
    "    seasonal_order = (0, 1, 1, 7),\n",
    "    # AR 매개 변수를 변환하여 모델의 자동 회귀 구성 요소에서 정상 성을 강제 적용할지 여부입니다. 기본값은 True입니다.\n",
    "    # AR항이 stationary를 만족하게끔 강제하는 것\n",
    "    enforce_stationarity = False,\n",
    "    # 모델의 이동 평균 구성 요소에서 반전 성을 강제하기 위해 MA 매개 변수를 변환할지 여부입니다. 기본값은 True입니다.\n",
    "    # MA항이 starionary를 만족하게끔 강제하는 것\n",
    "    enforce_invertibility = False\n",
    ")\n",
    "\n",
    "results = mod.fit()\n",
    "\n",
    "# print(results.summary())\n",
    "print( results.summary().tables[1] )"
   ]
  },
  {
   "cell_type": "code",
   "execution_count": 26,
   "metadata": {},
   "outputs": [],
   "source": [
    "# Get forecast some steps ahead in future 미래 예측\n",
    "pred_uc = results.get_forecast( steps = 31 )"
   ]
  },
  {
   "cell_type": "code",
   "execution_count": 27,
   "metadata": {},
   "outputs": [
    {
     "data": {
      "text/plain": [
       "168    8.293867e+07\n",
       "169    7.446518e+07\n",
       "170    8.055884e+07\n",
       "171    7.048978e+07\n",
       "172    6.625277e+07\n",
       "173    6.242284e+07\n",
       "174    6.640621e+07\n",
       "175    6.469324e+07\n",
       "176    6.143684e+07\n",
       "177    7.126397e+07\n",
       "178    6.386666e+07\n",
       "179    6.154161e+07\n",
       "180    5.907992e+07\n",
       "181    6.404243e+07\n",
       "182    6.303016e+07\n",
       "183    6.027520e+07\n",
       "184    7.046116e+07\n",
       "185    6.332064e+07\n",
       "186    6.117936e+07\n",
       "187    5.884918e+07\n",
       "188    6.390579e+07\n",
       "189    6.296086e+07\n",
       "190    6.025410e+07\n",
       "191    7.047455e+07\n",
       "192    6.335871e+07\n",
       "193    6.123509e+07\n",
       "194    5.891755e+07\n",
       "195    6.398321e+07\n",
       "196    6.304475e+07\n",
       "197    6.034262e+07\n",
       "198    7.056639e+07\n",
       "Name: predicted_mean, dtype: float64"
      ]
     },
     "execution_count": 27,
     "metadata": {},
     "output_type": "execute_result"
    }
   ],
   "source": [
    "forecast_mean = pred_uc.predicted_mean\n",
    "forecast_mean"
   ]
  },
  {
   "cell_type": "code",
   "execution_count": 28,
   "metadata": {},
   "outputs": [],
   "source": [
    "forecast_mean.to_csv('lpoint_week.csv', header=['forecast'], index=False)"
   ]
  }
 ],
 "metadata": {
  "kernelspec": {
   "display_name": "Python 3.10.4 64-bit",
   "language": "python",
   "name": "python3"
  },
  "language_info": {
   "codemirror_mode": {
    "name": "ipython",
    "version": 3
   },
   "file_extension": ".py",
   "mimetype": "text/x-python",
   "name": "python",
   "nbconvert_exporter": "python",
   "pygments_lexer": "ipython3",
   "version": "3.10.4"
  },
  "orig_nbformat": 4,
  "vscode": {
   "interpreter": {
    "hash": "692ab1185e8155240edb0369457deda8ee1db539fd5653321016181d0ff6acf9"
   }
  }
 },
 "nbformat": 4,
 "nbformat_minor": 2
}
