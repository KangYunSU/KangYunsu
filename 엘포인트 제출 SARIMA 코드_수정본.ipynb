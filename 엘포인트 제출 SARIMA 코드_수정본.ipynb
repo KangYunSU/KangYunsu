{
 "cells": [
  {
   "cell_type": "markdown",
   "metadata": {},
   "source": [
    "# 라이브러리"
   ]
  },
  {
   "cell_type": "code",
   "execution_count": 339,
   "metadata": {},
   "outputs": [],
   "source": [
    "import pymysql\n",
    "import pandas as pd\n",
    "import datetime\n",
    "from dateutil.relativedelta import relativedelta\n",
    "\n",
    "import statsmodels.api as sm\n",
    "import numpy as np\n",
    "from sklearn.metrics import mean_squared_error"
   ]
  },
  {
   "cell_type": "markdown",
   "metadata": {},
   "source": [
    "# 데이터 전처리"
   ]
  },
  {
   "cell_type": "markdown",
   "metadata": {},
   "source": [
    "### SQL에서 불러온 데이터"
   ]
  },
  {
   "cell_type": "markdown",
   "metadata": {},
   "source": [
    "##### 데이터 병합"
   ]
  },
  {
   "cell_type": "code",
   "execution_count": 332,
   "metadata": {},
   "outputs": [
    {
     "name": "stderr",
     "output_type": "stream",
     "text": [
      "C:\\Users\\ASIA-08\\AppData\\Local\\Temp\\ipykernel_13080\\2034004478.py:20: SettingWithCopyWarning: \n",
      "A value is trying to be set on a copy of a slice from a DataFrame\n",
      "\n",
      "See the caveats in the documentation: https://pandas.pydata.org/pandas-docs/stable/user_guide/indexing.html#returning-a-view-versus-a-copy\n",
      "  time['일시'][i]=a+\" \"+b\n",
      "C:\\Users\\ASIA-08\\AppData\\Local\\Temp\\ipykernel_13080\\2034004478.py:21: SettingWithCopyWarning: \n",
      "A value is trying to be set on a copy of a slice from a DataFrame\n",
      "\n",
      "See the caveats in the documentation: https://pandas.pydata.org/pandas-docs/stable/user_guide/indexing.html#returning-a-view-versus-a-copy\n",
      "  time['일시'][i] = pd.to_datetime(time['일시'][i], format='%Y-%m-%d %H')\n"
     ]
    },
    {
     "data": {
      "text/html": [
       "<div>\n",
       "<style scoped>\n",
       "    .dataframe tbody tr th:only-of-type {\n",
       "        vertical-align: middle;\n",
       "    }\n",
       "\n",
       "    .dataframe tbody tr th {\n",
       "        vertical-align: top;\n",
       "    }\n",
       "\n",
       "    .dataframe thead th {\n",
       "        text-align: right;\n",
       "    }\n",
       "</style>\n",
       "<table border=\"1\" class=\"dataframe\">\n",
       "  <thead>\n",
       "    <tr style=\"text-align: right;\">\n",
       "      <th></th>\n",
       "      <th>일시</th>\n",
       "      <th>소비 금액</th>\n",
       "      <th>이용 횟수</th>\n",
       "    </tr>\n",
       "  </thead>\n",
       "  <tbody>\n",
       "    <tr>\n",
       "      <th>0</th>\n",
       "      <td>2021-01-01 00:00:00</td>\n",
       "      <td>37269.1667</td>\n",
       "      <td>72</td>\n",
       "    </tr>\n",
       "    <tr>\n",
       "      <th>1</th>\n",
       "      <td>2021-01-01 01:00:00</td>\n",
       "      <td>45396.3636</td>\n",
       "      <td>11</td>\n",
       "    </tr>\n",
       "    <tr>\n",
       "      <th>2</th>\n",
       "      <td>2021-01-01 02:00:00</td>\n",
       "      <td>6417.6000</td>\n",
       "      <td>10</td>\n",
       "    </tr>\n",
       "    <tr>\n",
       "      <th>3</th>\n",
       "      <td>2021-01-01 03:00:00</td>\n",
       "      <td>80530.2727</td>\n",
       "      <td>11</td>\n",
       "    </tr>\n",
       "    <tr>\n",
       "      <th>4</th>\n",
       "      <td>2021-01-01 05:00:00</td>\n",
       "      <td>37630.0000</td>\n",
       "      <td>1</td>\n",
       "    </tr>\n",
       "    <tr>\n",
       "      <th>...</th>\n",
       "      <td>...</td>\n",
       "      <td>...</td>\n",
       "      <td>...</td>\n",
       "    </tr>\n",
       "    <tr>\n",
       "      <th>8628</th>\n",
       "      <td>2021-12-31 19:00:00</td>\n",
       "      <td>81530.0000</td>\n",
       "      <td>63</td>\n",
       "    </tr>\n",
       "    <tr>\n",
       "      <th>8629</th>\n",
       "      <td>2021-12-31 20:00:00</td>\n",
       "      <td>43399.2917</td>\n",
       "      <td>72</td>\n",
       "    </tr>\n",
       "    <tr>\n",
       "      <th>8630</th>\n",
       "      <td>2021-12-31 21:00:00</td>\n",
       "      <td>36667.0000</td>\n",
       "      <td>33</td>\n",
       "    </tr>\n",
       "    <tr>\n",
       "      <th>8631</th>\n",
       "      <td>2021-12-31 22:00:00</td>\n",
       "      <td>29141.9792</td>\n",
       "      <td>48</td>\n",
       "    </tr>\n",
       "    <tr>\n",
       "      <th>8632</th>\n",
       "      <td>2021-12-31 23:00:00</td>\n",
       "      <td>62689.5833</td>\n",
       "      <td>24</td>\n",
       "    </tr>\n",
       "  </tbody>\n",
       "</table>\n",
       "<p>8633 rows × 3 columns</p>\n",
       "</div>"
      ],
      "text/plain": [
       "                       일시       소비 금액  이용 횟수\n",
       "0     2021-01-01 00:00:00  37269.1667     72\n",
       "1     2021-01-01 01:00:00  45396.3636     11\n",
       "2     2021-01-01 02:00:00   6417.6000     10\n",
       "3     2021-01-01 03:00:00  80530.2727     11\n",
       "4     2021-01-01 05:00:00  37630.0000      1\n",
       "...                   ...         ...    ...\n",
       "8628  2021-12-31 19:00:00  81530.0000     63\n",
       "8629  2021-12-31 20:00:00  43399.2917     72\n",
       "8630  2021-12-31 21:00:00  36667.0000     33\n",
       "8631  2021-12-31 22:00:00  29141.9792     48\n",
       "8632  2021-12-31 23:00:00  62689.5833     24\n",
       "\n",
       "[8633 rows x 3 columns]"
      ]
     },
     "execution_count": 332,
     "metadata": {},
     "output_type": "execute_result"
    }
   ],
   "source": [
    "# 일자 + 시간 : time\n",
    "\n",
    "import pandas as pd\n",
    "import pymysql\n",
    "conn = pymysql.connect(host='127.0.0.1', user='root', password='kyjin0413!', db='lpointsample', charset='utf8')\n",
    "cur = conn.cursor()\n",
    "cur.execute(\"select de_dt as 날짜, de_hr as 시간대, avg(buy_am) as 금액 ,count(*) as 이용횟수 from 엘페이이용_view group by de_dt,de_hr order by de_dt,de_hr;\")\n",
    "result = cur.fetchall()\n",
    "conn.commit()\n",
    "conn.close()\n",
    "\n",
    "time = pd.DataFrame(result)\n",
    "time.columns=['일시','시간대', '소비 금액','이용 횟수']\n",
    "df_date = time['일시'].values.tolist()\n",
    "for i in range(len(time)):\n",
    "    a = str(time['일시'][i])[:10]\n",
    "    b = str(time['시간대'][i])\n",
    "    if len(b) == 1:\n",
    "        b= \"0\"+b\n",
    "    time['일시'][i]=a+\" \"+b\n",
    "    time['일시'][i] = pd.to_datetime(time['일시'][i], format='%Y-%m-%d %H')\n",
    "\n",
    "time = time.drop(columns=['시간대'])\n",
    "\n",
    "time"
   ]
  },
  {
   "cell_type": "markdown",
   "metadata": {},
   "source": [
    "### 결측치 처리 (없는 시간대에 0 추가)"
   ]
  },
  {
   "cell_type": "code",
   "execution_count": 345,
   "metadata": {},
   "outputs": [
    {
     "data": {
      "text/html": [
       "<div>\n",
       "<style scoped>\n",
       "    .dataframe tbody tr th:only-of-type {\n",
       "        vertical-align: middle;\n",
       "    }\n",
       "\n",
       "    .dataframe tbody tr th {\n",
       "        vertical-align: top;\n",
       "    }\n",
       "\n",
       "    .dataframe thead th {\n",
       "        text-align: right;\n",
       "    }\n",
       "</style>\n",
       "<table border=\"1\" class=\"dataframe\">\n",
       "  <thead>\n",
       "    <tr style=\"text-align: right;\">\n",
       "      <th></th>\n",
       "      <th>일시</th>\n",
       "      <th>소비 금액</th>\n",
       "      <th>이용 횟수</th>\n",
       "    </tr>\n",
       "  </thead>\n",
       "  <tbody>\n",
       "    <tr>\n",
       "      <th>0</th>\n",
       "      <td>2021-01-01 00:00:00</td>\n",
       "      <td>37269.1667</td>\n",
       "      <td>72</td>\n",
       "    </tr>\n",
       "    <tr>\n",
       "      <th>1</th>\n",
       "      <td>2021-01-01 01:00:00</td>\n",
       "      <td>45396.3636</td>\n",
       "      <td>11</td>\n",
       "    </tr>\n",
       "    <tr>\n",
       "      <th>2</th>\n",
       "      <td>2021-01-01 02:00:00</td>\n",
       "      <td>6417.6000</td>\n",
       "      <td>10</td>\n",
       "    </tr>\n",
       "    <tr>\n",
       "      <th>3</th>\n",
       "      <td>2021-01-01 03:00:00</td>\n",
       "      <td>80530.2727</td>\n",
       "      <td>11</td>\n",
       "    </tr>\n",
       "    <tr>\n",
       "      <th>4</th>\n",
       "      <td>2021-01-01 04:00:00</td>\n",
       "      <td>0</td>\n",
       "      <td>0</td>\n",
       "    </tr>\n",
       "    <tr>\n",
       "      <th>5</th>\n",
       "      <td>2021-01-01 05:00:00</td>\n",
       "      <td>37630.0000</td>\n",
       "      <td>1</td>\n",
       "    </tr>\n",
       "  </tbody>\n",
       "</table>\n",
       "</div>"
      ],
      "text/plain": [
       "                   일시       소비 금액  이용 횟수\n",
       "0 2021-01-01 00:00:00  37269.1667     72\n",
       "1 2021-01-01 01:00:00  45396.3636     11\n",
       "2 2021-01-01 02:00:00   6417.6000     10\n",
       "3 2021-01-01 03:00:00  80530.2727     11\n",
       "4 2021-01-01 04:00:00           0      0\n",
       "5 2021-01-01 05:00:00  37630.0000      1"
      ]
     },
     "execution_count": 345,
     "metadata": {},
     "output_type": "execute_result"
    }
   ],
   "source": [
    "# 결측치 제거 : time_final -> 4:00 추가\n",
    "\n",
    "list_date = []\n",
    "for v in df_date:\n",
    "    if v in list_date:\n",
    "        pass\n",
    "    else:\n",
    "        list_date.append(v)\n",
    "\n",
    "list_time = []\n",
    "col = []\n",
    "\n",
    "for i in range(24):\n",
    "    list_time.append(i)\n",
    "for i in range(len(list_date)):\n",
    "    a = str(list_date[i])[:10]\n",
    "    for j in range(len(list_time)):\n",
    "        b = str(list_time[j])\n",
    "        if len(b) == 1:\n",
    "            b= \"0\"+b\n",
    "        col.append(a+\" \"+b)\n",
    "\n",
    "category=['소비 금액','이용 횟수']\n",
    "time_final = pd.DataFrame(index = col, columns=category)\n",
    "time_final.index = pd.to_datetime(time_final.index, format='%Y-%m-%d %H')\n",
    "\n",
    "for i in range(len(time)):\n",
    "    time_final.loc[time['일시'][i]]['소비 금액'] = time['소비 금액'][i]\n",
    "    time_final.loc[time['일시'][i]]['이용 횟수'] = time['이용 횟수'][i]\n",
    "\n",
    "time_final = time_final.fillna(0)\n",
    "time_final.reset_index(inplace=True)\n",
    "time_final = time_final.rename(columns = {'index':'일시'})\n",
    "\n",
    "time_final.head"
   ]
  },
  {
   "cell_type": "markdown",
   "metadata": {},
   "source": [
    "### CSV 파일 데이터"
   ]
  },
  {
   "cell_type": "markdown",
   "metadata": {},
   "source": [
    "##### 기온과 습도 평균 구하기"
   ]
  },
  {
   "cell_type": "code",
   "execution_count": 346,
   "metadata": {},
   "outputs": [
    {
     "data": {
      "text/html": [
       "<div>\n",
       "<style scoped>\n",
       "    .dataframe tbody tr th:only-of-type {\n",
       "        vertical-align: middle;\n",
       "    }\n",
       "\n",
       "    .dataframe tbody tr th {\n",
       "        vertical-align: top;\n",
       "    }\n",
       "\n",
       "    .dataframe thead th {\n",
       "        text-align: right;\n",
       "    }\n",
       "</style>\n",
       "<table border=\"1\" class=\"dataframe\">\n",
       "  <thead>\n",
       "    <tr style=\"text-align: right;\">\n",
       "      <th></th>\n",
       "      <th>평균 기온(°C)</th>\n",
       "      <th>평균 습도(%)</th>\n",
       "    </tr>\n",
       "  </thead>\n",
       "  <tbody>\n",
       "    <tr>\n",
       "      <th>0</th>\n",
       "      <td>-4.855789</td>\n",
       "      <td>69.578947</td>\n",
       "    </tr>\n",
       "    <tr>\n",
       "      <th>1</th>\n",
       "      <td>-5.383158</td>\n",
       "      <td>70.536842</td>\n",
       "    </tr>\n",
       "    <tr>\n",
       "      <th>2</th>\n",
       "      <td>-5.887368</td>\n",
       "      <td>71.863158</td>\n",
       "    </tr>\n",
       "    <tr>\n",
       "      <th>3</th>\n",
       "      <td>-6.305263</td>\n",
       "      <td>72.842105</td>\n",
       "    </tr>\n",
       "    <tr>\n",
       "      <th>4</th>\n",
       "      <td>-6.789474</td>\n",
       "      <td>73.789474</td>\n",
       "    </tr>\n",
       "    <tr>\n",
       "      <th>...</th>\n",
       "      <td>...</td>\n",
       "      <td>...</td>\n",
       "    </tr>\n",
       "    <tr>\n",
       "      <th>8755</th>\n",
       "      <td>-3.010526</td>\n",
       "      <td>41.368421</td>\n",
       "    </tr>\n",
       "    <tr>\n",
       "      <th>8756</th>\n",
       "      <td>-3.637895</td>\n",
       "      <td>43.326316</td>\n",
       "    </tr>\n",
       "    <tr>\n",
       "      <th>8757</th>\n",
       "      <td>-4.266316</td>\n",
       "      <td>45.115789</td>\n",
       "    </tr>\n",
       "    <tr>\n",
       "      <th>8758</th>\n",
       "      <td>-4.897895</td>\n",
       "      <td>47.852632</td>\n",
       "    </tr>\n",
       "    <tr>\n",
       "      <th>8759</th>\n",
       "      <td>-5.427368</td>\n",
       "      <td>49.526316</td>\n",
       "    </tr>\n",
       "  </tbody>\n",
       "</table>\n",
       "<p>8760 rows × 2 columns</p>\n",
       "</div>"
      ],
      "text/plain": [
       "     평균 기온(°C)   평균 습도(%)\n",
       "0    -4.855789  69.578947\n",
       "1    -5.383158  70.536842\n",
       "2    -5.887368  71.863158\n",
       "3    -6.305263  72.842105\n",
       "4    -6.789474  73.789474\n",
       "...        ...        ...\n",
       "8755 -3.010526  41.368421\n",
       "8756 -3.637895  43.326316\n",
       "8757 -4.266316  45.115789\n",
       "8758 -4.897895  47.852632\n",
       "8759 -5.427368  49.526316\n",
       "\n",
       "[8760 rows x 2 columns]"
      ]
     },
     "execution_count": 346,
     "metadata": {},
     "output_type": "execute_result"
    }
   ],
   "source": [
    "# 온도습도 평균 구하는 전처리 코드 : temphum_final\n",
    "\n",
    "temphum = pd.read_csv('온도습도.csv', encoding = 'cp949')\n",
    "temphum = temphum.fillna(0)\n",
    "\n",
    "df1 = temphum['일시']\n",
    "dflist = df1.values.tolist()\n",
    "date = []\n",
    "for v in dflist:\n",
    "    if v in date:\n",
    "        pass\n",
    "    else:\n",
    "        date.append(v)\n",
    "\n",
    "temp = temphum['기온(°C)'][temphum['일시'] == date[0]].tolist()\n",
    "\n",
    "hum = temphum['습도(%)'][temphum['일시'] == date[0]].tolist()\n",
    "\n",
    "temphum_final = pd.DataFrame(index=date, columns= ['평균 기온(°C)','평균 습도(%)'])\n",
    "\n",
    "for v in date:\n",
    "    temperature = temphum['기온(°C)'][temphum['일시'] == v].tolist()\n",
    "    \n",
    "    humidity = b = temphum['습도(%)'][temphum['일시'] == v].tolist()\n",
    "    \n",
    "    temphum_final.loc[v]['평균 기온(°C)']=sum(temperature)/len(temperature)\n",
    "    \n",
    "    temphum_final.loc[v]['평균 습도(%)']=sum(humidity)/len(humidity)\n",
    "\n",
    "temphum_final.reset_index(inplace=True)\n",
    "temphum_final = temphum_final.rename(columns = {'index':'일시'})\n",
    "temphum_final = temphum_final.drop(['일시'], axis = 1)\n",
    "\n",
    "temphum_final"
   ]
  },
  {
   "cell_type": "markdown",
   "metadata": {},
   "source": [
    "##### 제공 데이터와 외부 데이터 병합"
   ]
  },
  {
   "cell_type": "code",
   "execution_count": 338,
   "metadata": {},
   "outputs": [
    {
     "data": {
      "text/html": [
       "<div>\n",
       "<style scoped>\n",
       "    .dataframe tbody tr th:only-of-type {\n",
       "        vertical-align: middle;\n",
       "    }\n",
       "\n",
       "    .dataframe tbody tr th {\n",
       "        vertical-align: top;\n",
       "    }\n",
       "\n",
       "    .dataframe thead th {\n",
       "        text-align: right;\n",
       "    }\n",
       "</style>\n",
       "<table border=\"1\" class=\"dataframe\">\n",
       "  <thead>\n",
       "    <tr style=\"text-align: right;\">\n",
       "      <th></th>\n",
       "      <th>소비 금액</th>\n",
       "      <th>이용 횟수</th>\n",
       "      <th>평균 기온(°C)</th>\n",
       "      <th>평균 습도(%)</th>\n",
       "    </tr>\n",
       "    <tr>\n",
       "      <th>일시</th>\n",
       "      <th></th>\n",
       "      <th></th>\n",
       "      <th></th>\n",
       "      <th></th>\n",
       "    </tr>\n",
       "  </thead>\n",
       "  <tbody>\n",
       "    <tr>\n",
       "      <th>2021-01-01 00:00:00</th>\n",
       "      <td>37269.1667</td>\n",
       "      <td>72</td>\n",
       "      <td>-4.855789</td>\n",
       "      <td>69.578947</td>\n",
       "    </tr>\n",
       "    <tr>\n",
       "      <th>2021-01-01 01:00:00</th>\n",
       "      <td>45396.3636</td>\n",
       "      <td>11</td>\n",
       "      <td>-5.383158</td>\n",
       "      <td>70.536842</td>\n",
       "    </tr>\n",
       "    <tr>\n",
       "      <th>2021-01-01 02:00:00</th>\n",
       "      <td>6417.6000</td>\n",
       "      <td>10</td>\n",
       "      <td>-5.887368</td>\n",
       "      <td>71.863158</td>\n",
       "    </tr>\n",
       "    <tr>\n",
       "      <th>2021-01-01 03:00:00</th>\n",
       "      <td>80530.2727</td>\n",
       "      <td>11</td>\n",
       "      <td>-6.305263</td>\n",
       "      <td>72.842105</td>\n",
       "    </tr>\n",
       "    <tr>\n",
       "      <th>2021-01-01 04:00:00</th>\n",
       "      <td>0</td>\n",
       "      <td>0</td>\n",
       "      <td>-6.789474</td>\n",
       "      <td>73.789474</td>\n",
       "    </tr>\n",
       "    <tr>\n",
       "      <th>...</th>\n",
       "      <td>...</td>\n",
       "      <td>...</td>\n",
       "      <td>...</td>\n",
       "      <td>...</td>\n",
       "    </tr>\n",
       "    <tr>\n",
       "      <th>2021-12-31 19:00:00</th>\n",
       "      <td>81530.0000</td>\n",
       "      <td>63</td>\n",
       "      <td>-3.010526</td>\n",
       "      <td>41.368421</td>\n",
       "    </tr>\n",
       "    <tr>\n",
       "      <th>2021-12-31 20:00:00</th>\n",
       "      <td>43399.2917</td>\n",
       "      <td>72</td>\n",
       "      <td>-3.637895</td>\n",
       "      <td>43.326316</td>\n",
       "    </tr>\n",
       "    <tr>\n",
       "      <th>2021-12-31 21:00:00</th>\n",
       "      <td>36667.0000</td>\n",
       "      <td>33</td>\n",
       "      <td>-4.266316</td>\n",
       "      <td>45.115789</td>\n",
       "    </tr>\n",
       "    <tr>\n",
       "      <th>2021-12-31 22:00:00</th>\n",
       "      <td>29141.9792</td>\n",
       "      <td>48</td>\n",
       "      <td>-4.897895</td>\n",
       "      <td>47.852632</td>\n",
       "    </tr>\n",
       "    <tr>\n",
       "      <th>2021-12-31 23:00:00</th>\n",
       "      <td>62689.5833</td>\n",
       "      <td>24</td>\n",
       "      <td>-5.427368</td>\n",
       "      <td>49.526316</td>\n",
       "    </tr>\n",
       "  </tbody>\n",
       "</table>\n",
       "<p>8760 rows × 4 columns</p>\n",
       "</div>"
      ],
      "text/plain": [
       "                          소비 금액  이용 횟수 평균 기온(°C)   평균 습도(%)\n",
       "일시                                                         \n",
       "2021-01-01 00:00:00  37269.1667     72 -4.855789  69.578947\n",
       "2021-01-01 01:00:00  45396.3636     11 -5.383158  70.536842\n",
       "2021-01-01 02:00:00   6417.6000     10 -5.887368  71.863158\n",
       "2021-01-01 03:00:00  80530.2727     11 -6.305263  72.842105\n",
       "2021-01-01 04:00:00           0      0 -6.789474  73.789474\n",
       "...                         ...    ...       ...        ...\n",
       "2021-12-31 19:00:00  81530.0000     63 -3.010526  41.368421\n",
       "2021-12-31 20:00:00  43399.2917     72 -3.637895  43.326316\n",
       "2021-12-31 21:00:00  36667.0000     33 -4.266316  45.115789\n",
       "2021-12-31 22:00:00  29141.9792     48 -4.897895  47.852632\n",
       "2021-12-31 23:00:00  62689.5833     24 -5.427368  49.526316\n",
       "\n",
       "[8760 rows x 4 columns]"
      ]
     },
     "execution_count": 338,
     "metadata": {},
     "output_type": "execute_result"
    }
   ],
   "source": [
    "# 일자 기준으로 엘포인트 데이터와 기상청 데이터 병합 후 '일시' 인덱스로 지정\n",
    "absorption = pd.concat([time_final, temphum_final], axis = 1)\n",
    "absorption = absorption.set_index(['일시'])\n",
    "absorption = absorption.astype('float64')\n",
    "absorption.dtypes\n",
    "\n",
    "absorption"
   ]
  },
  {
   "cell_type": "code",
   "execution_count": 327,
   "metadata": {},
   "outputs": [
    {
     "data": {
      "text/plain": [
       "소비 금액    float64\n",
       "dtype: object"
      ]
     },
     "execution_count": 327,
     "metadata": {},
     "output_type": "execute_result"
    }
   ],
   "source": [
    "# 데이터 타입 변환\n",
    "absorption = absorption.astype('float64')\n",
    "absorption.dtypes"
   ]
  },
  {
   "cell_type": "markdown",
   "metadata": {},
   "source": [
    "# 모델 설계 - 그리드서치"
   ]
  },
  {
   "cell_type": "code",
   "execution_count": 340,
   "metadata": {},
   "outputs": [],
   "source": [
    "# 그리드 서치(모델에게 가장 적합한 하이퍼 파라미터를 찾기)\n",
    "import itertools\n",
    "\n",
    "start = datetime.datetime.strptime(\"2021-01-01\", \"%Y-%m-%d\")\n",
    "\n",
    "# 기준 날짜에 대한 연산이 필요할 때 dateutil.relativedelta모듈의 relativedelta함수 이용\n",
    "df_list = [start + relativedelta(hours = x) for x in range(0, len(absorption)) ]\n",
    "\n",
    "p = d = q = range(0, 2)\n",
    "pdq = list( itertools.product(p, d, q))\n",
    "seasonal_pdq = [ (x[0], x[1], x[2], 24)  for x in pdq ]\n",
    "\n",
    "select_candi = 10000000\n",
    "param_candi = ( 0, 0, 0 )\n",
    "param_seasonal_candi = ( 0, 0, 0)\n",
    "\n",
    "count=0\n",
    "end_count = len(pdq)\n",
    "\n",
    "for param in pdq:   \n",
    "    for param_seasonal in seasonal_pdq:\n",
    "        try:\n",
    "            mod = sm.tsa.statespace.SARIMAX(absorption['소비 금액'],\n",
    "                                            order=param,\n",
    "                                            seasonal_order=param_seasonal,\n",
    "                                            enforce_stationarity=False,\n",
    "                                            enforce_invertibility=False\n",
    "                                           )\n",
    "            results = mod.fit()\n",
    "            count += 1\n",
    "            if count <= 5:\n",
    "                print('SARIMA{}x{}24 - AIC:{}'.format(param, param_seasonal, results.aic))\n",
    "            \n",
    "            if results.aic < select_candi:\n",
    "                select_candi = results.aic\n",
    "                param_candi = param\n",
    "                param_seasonal_candi = param_seasonal\n",
    "        except:\n",
    "            continue\n",
    "\n",
    "print('----최적의 Oreder 값과 Seasonal_Order 값----')\n",
    "print('Order : {}, Seasonal_Order : {}'.format(param_candi, param_seasonal_candi))"
   ]
  },
  {
   "cell_type": "markdown",
   "metadata": {},
   "source": [
    "# 2021년 예측"
   ]
  },
  {
   "cell_type": "code",
   "execution_count": 328,
   "metadata": {},
   "outputs": [],
   "source": [
    "# 2021년 예측을 위한 데이터\n",
    "train21 = absorption[:8016]['소비 금액']\n",
    "\n",
    "exog1 = absorption.drop('소비 금액', axis=1)[:8016]\n",
    "exog1 = sm.add_constant(exog1)\n",
    "\n",
    "exog2 = absorption.drop('소비 금액', axis=1)[8016:]\n",
    "exog2 = sm.add_constant(exog2)"
   ]
  },
  {
   "cell_type": "code",
   "execution_count": 329,
   "metadata": {},
   "outputs": [
    {
     "name": "stdout",
     "output_type": "stream",
     "text": [
      "----실제 값과 예측 값 비교 RMSE----\n"
     ]
    },
    {
     "name": "stderr",
     "output_type": "stream",
     "text": [
      "c:\\Users\\ASIA-08\\AppData\\Local\\Programs\\Python\\Python310\\lib\\site-packages\\statsmodels\\tsa\\base\\tsa_model.py:471: ValueWarning: No frequency information was provided, so inferred frequency H will be used.\n",
      "  self._init_dates(dates, freq)\n",
      "c:\\Users\\ASIA-08\\AppData\\Local\\Programs\\Python\\Python310\\lib\\site-packages\\statsmodels\\tsa\\base\\tsa_model.py:471: ValueWarning: No frequency information was provided, so inferred frequency H will be used.\n",
      "  self._init_dates(dates, freq)\n"
     ]
    },
    {
     "name": "stdout",
     "output_type": "stream",
     "text": [
      "56959.24587003265\n"
     ]
    }
   ],
   "source": [
    "# 2021년 예측 값과 실제 값 비교 (12월 1일 00시 ~ 12월 31일 23시)\n",
    "\n",
    "def predict(exog1, exog2):\n",
    "\n",
    "    mod = sm.tsa.statespace.SARIMAX(train21, exog = exog1, \n",
    "                            order = (0, 0, 0), seasonal_order = (1, 1, 1, 24))\n",
    "    fit_res = mod.fit(disp = False)\n",
    "\n",
    "    forecast = fit_res.forecast(steps = 744, exog = exog2)\n",
    "\n",
    "    # 2021년 실제값\n",
    "    actual = absorption['소비 금액'][8016:]\n",
    "\n",
    "    rmse = np.sqrt(mean_squared_error(actual, forecast))\n",
    "    \n",
    "    return rmse\n",
    "\n",
    "print('----실제 값과 예측 값 비교 RMSE----')\n",
    "print(predict(exog1, exog2))"
   ]
  },
  {
   "cell_type": "code",
   "execution_count": 330,
   "metadata": {},
   "outputs": [
    {
     "name": "stderr",
     "output_type": "stream",
     "text": [
      "c:\\Users\\ASIA-08\\AppData\\Local\\Programs\\Python\\Python310\\lib\\site-packages\\statsmodels\\tsa\\base\\tsa_model.py:471: ValueWarning: No frequency information was provided, so inferred frequency H will be used.\n",
      "  self._init_dates(dates, freq)\n",
      "c:\\Users\\ASIA-08\\AppData\\Local\\Programs\\Python\\Python310\\lib\\site-packages\\statsmodels\\tsa\\base\\tsa_model.py:471: ValueWarning: No frequency information was provided, so inferred frequency H will be used.\n",
      "  self._init_dates(dates, freq)\n"
     ]
    },
    {
     "data": {
      "text/plain": [
       "2021-12-01 00:00:00    61524.470926\n",
       "2021-12-01 01:00:00    52894.824235\n",
       "2021-12-01 02:00:00    47841.507331\n",
       "2021-12-01 03:00:00    56949.311755\n",
       "2021-12-01 04:00:00    38846.908499\n",
       "2021-12-01 05:00:00    49758.511071\n",
       "2021-12-01 06:00:00    48429.261726\n",
       "2021-12-01 07:00:00    34684.337425\n",
       "2021-12-01 08:00:00    42019.921712\n",
       "2021-12-01 09:00:00    51072.712474\n",
       "Freq: H, Name: predicted_mean, dtype: float64"
      ]
     },
     "execution_count": 330,
     "metadata": {},
     "output_type": "execute_result"
    }
   ],
   "source": [
    "# 구축한 모델로 2021년 소비 금액 예측 값 (12월 1일 00시 ~ 12월 31일 23시)\n",
    "mod = sm.tsa.statespace.SARIMAX(train21, exog = exog1, \n",
    "                        order = (0, 0, 0), seasonal_order = (1, 1, 1, 24))\n",
    "\n",
    "fit_res = mod.fit(disp = False)\n",
    "forecast = fit_res.forecast(steps = 744, exog = exog2)\n",
    "\n",
    "forecast.head(10)"
   ]
  },
  {
   "cell_type": "markdown",
   "metadata": {},
   "source": [
    "# 2022년 예측"
   ]
  },
  {
   "cell_type": "code",
   "execution_count": 342,
   "metadata": {},
   "outputs": [
    {
     "data": {
      "text/html": [
       "<div>\n",
       "<style scoped>\n",
       "    .dataframe tbody tr th:only-of-type {\n",
       "        vertical-align: middle;\n",
       "    }\n",
       "\n",
       "    .dataframe tbody tr th {\n",
       "        vertical-align: top;\n",
       "    }\n",
       "\n",
       "    .dataframe thead th {\n",
       "        text-align: right;\n",
       "    }\n",
       "</style>\n",
       "<table border=\"1\" class=\"dataframe\">\n",
       "  <thead>\n",
       "    <tr style=\"text-align: right;\">\n",
       "      <th></th>\n",
       "      <th>소비 금액</th>\n",
       "      <th>이용 횟수</th>\n",
       "    </tr>\n",
       "    <tr>\n",
       "      <th>일자</th>\n",
       "      <th></th>\n",
       "      <th></th>\n",
       "    </tr>\n",
       "  </thead>\n",
       "  <tbody>\n",
       "    <tr>\n",
       "      <th>2022-12-31 19:00</th>\n",
       "      <td>52463.0</td>\n",
       "      <td>67</td>\n",
       "    </tr>\n",
       "    <tr>\n",
       "      <th>2022-12-31 20:00</th>\n",
       "      <td>43072.0</td>\n",
       "      <td>57</td>\n",
       "    </tr>\n",
       "    <tr>\n",
       "      <th>2022-12-31 21:00</th>\n",
       "      <td>41635.0</td>\n",
       "      <td>48</td>\n",
       "    </tr>\n",
       "    <tr>\n",
       "      <th>2022-12-31 22:00</th>\n",
       "      <td>43678.0</td>\n",
       "      <td>41</td>\n",
       "    </tr>\n",
       "    <tr>\n",
       "      <th>2022-12-31 23:00</th>\n",
       "      <td>58802.0</td>\n",
       "      <td>31</td>\n",
       "    </tr>\n",
       "  </tbody>\n",
       "</table>\n",
       "</div>"
      ],
      "text/plain": [
       "                    소비 금액  이용 횟수\n",
       "일자                              \n",
       "2022-12-31 19:00  52463.0     67\n",
       "2022-12-31 20:00  43072.0     57\n",
       "2022-12-31 21:00  41635.0     48\n",
       "2022-12-31 22:00  43678.0     41\n",
       "2022-12-31 23:00  58802.0     31"
      ]
     },
     "execution_count": 342,
     "metadata": {},
     "output_type": "execute_result"
    }
   ],
   "source": [
    "# 2022년 예측을 위한 데이터\n",
    "\n",
    "data2022 = pd.read_csv('최종.csv', encoding='cp949')\n",
    "\n",
    "data2022 = data2022.set_index('일자')\n",
    "data2022 = data2022.fillna(method='ffill')\n",
    "data2022.tail()"
   ]
  },
  {
   "cell_type": "code",
   "execution_count": 343,
   "metadata": {},
   "outputs": [],
   "source": [
    "# 2022년 예측\n",
    "\n",
    "train22 = data2022[:'2021-12-31 23:00']['소비 금액']\n",
    "\n",
    "exog3 = data2022.drop('소비 금액', axis=1)[:'2021-12-31 23:00']\n",
    "\n",
    "exog4 = data2022.drop('소비 금액', axis=1)['2022-01-01 0:00':]"
   ]
  },
  {
   "cell_type": "code",
   "execution_count": 344,
   "metadata": {},
   "outputs": [
    {
     "name": "stderr",
     "output_type": "stream",
     "text": [
      "c:\\Users\\ASIA-08\\AppData\\Local\\Programs\\Python\\Python310\\lib\\site-packages\\statsmodels\\tsa\\base\\tsa_model.py:471: ValueWarning: No frequency information was provided, so inferred frequency H will be used.\n",
      "  self._init_dates(dates, freq)\n",
      "c:\\Users\\ASIA-08\\AppData\\Local\\Programs\\Python\\Python310\\lib\\site-packages\\statsmodels\\tsa\\base\\tsa_model.py:471: ValueWarning: No frequency information was provided, so inferred frequency H will be used.\n",
      "  self._init_dates(dates, freq)\n"
     ]
    },
    {
     "data": {
      "text/plain": [
       "2022-01-01 00:00:00    58874.437536\n",
       "2022-01-01 01:00:00    51710.826286\n",
       "2022-01-01 02:00:00    48468.896150\n",
       "2022-01-01 03:00:00    50825.594629\n",
       "2022-01-01 04:00:00    43764.945679\n",
       "2022-01-01 05:00:00    48829.674445\n",
       "2022-01-01 06:00:00    51229.598603\n",
       "2022-01-01 07:00:00    33803.558781\n",
       "2022-01-01 08:00:00    43340.941776\n",
       "2022-01-01 09:00:00    49870.150587\n",
       "Freq: H, Name: predicted_mean, dtype: float64"
      ]
     },
     "execution_count": 344,
     "metadata": {},
     "output_type": "execute_result"
    }
   ],
   "source": [
    "# 구축한 모델로 2021년 소비 금액 예측 값 (12월 1일 00시 ~ 12월 31일 23시)\n",
    "mod = sm.tsa.statespace.SARIMAX(train22, exog = exog3, \n",
    "                        order = (0, 0, 0), seasonal_order = (1, 1, 1, 24))\n",
    "\n",
    "fit_res = mod.fit(disp = False)\n",
    "forecast = fit_res.forecast(steps = 8760, exog = exog4)\n",
    "\n",
    "forecast.head(10)"
   ]
  }
 ],
 "metadata": {
  "kernelspec": {
   "display_name": "Python 3.10.4 64-bit",
   "language": "python",
   "name": "python3"
  },
  "language_info": {
   "codemirror_mode": {
    "name": "ipython",
    "version": 3
   },
   "file_extension": ".py",
   "mimetype": "text/x-python",
   "name": "python",
   "nbconvert_exporter": "python",
   "pygments_lexer": "ipython3",
   "version": "3.10.4"
  },
  "orig_nbformat": 4,
  "vscode": {
   "interpreter": {
    "hash": "692ab1185e8155240edb0369457deda8ee1db539fd5653321016181d0ff6acf9"
   }
  }
 },
 "nbformat": 4,
 "nbformat_minor": 2
}
